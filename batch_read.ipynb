{
 "cells": [
  {
   "cell_type": "markdown",
   "metadata": {},
   "source": []
  },
  {
   "cell_type": "code",
   "execution_count": 14,
   "metadata": {},
   "outputs": [],
   "source": [
    "import pandas as pd\n",
    "import numpy as np\n",
    "import matplotlib.pyplot as plt"
   ]
  },
  {
   "cell_type": "code",
   "execution_count": 15,
   "metadata": {},
   "outputs": [
    {
     "name": "stderr",
     "output_type": "stream",
     "text": [
      "/var/folders/_p/ljb0l43112vc95swz8nhgv340000gn/T/ipykernel_21548/2194245749.py:6: DtypeWarning: Columns (22,46,82) have mixed types. Specify dtype option on import or set low_memory=False.\n",
      "  df1 = pd.read_csv(data_path_1)\n"
     ]
    }
   ],
   "source": [
    "data_path_2 = r'/Users/harshitgupta/Downloads/HISTORICALSALES_202403151525_copy.csv'\n",
    "data_path_1 = r'/Users/harshitgupta/Library/CloudStorage/OneDrive-InfiniteLocusPrivateLimited/STORES_202403151524.csv'\n",
    "\n",
    "\n",
    "df2 = pd.read_csv(data_path_2)\n",
    "df1 = pd.read_csv(data_path_1)"
   ]
  },
  {
   "cell_type": "code",
   "execution_count": 16,
   "metadata": {},
   "outputs": [],
   "source": [
    "merged_df = pd.merge(df2, df1[['STOREID', 'PTNR_REGIONAL_MASTER_CD', 'PTNR_REGIONAL_MASTER_NAME']], on='STOREID', how='left')"
   ]
  },
  {
   "cell_type": "code",
   "execution_count": 17,
   "metadata": {},
   "outputs": [],
   "source": [
    "unique_articles = merged_df['ARTICLE'].unique()\n",
    "unique_yearweeks = merged_df['YEARWEEK'].unique()\n",
    "unique_regions = merged_df['PTNR_REGIONAL_MASTER_NAME'].unique()\n"
   ]
  },
  {
   "cell_type": "code",
   "execution_count": 18,
   "metadata": {},
   "outputs": [],
   "source": [
    "article_arrays = {}\n",
    "\n",
    "for article in unique_articles:\n",
    "    article_df = merged_df[merged_df['ARTICLE'] == article]\n",
    "    sales_array = np.zeros((len(unique_regions) + 1, len(unique_yearweeks), 1))\n",
    "    for i, region in enumerate(unique_regions):\n",
    "        for j, yearweek in enumerate(unique_yearweeks):\n",
    "            sales = article_df[(article_df['PTNR_REGIONAL_MASTER_NAME'] == region) & (article_df['YEARWEEK'] == yearweek)]['SALES'].sum()\n",
    "            sales_array[i, j, 0] = sales\n",
    "    \n",
    "\n",
    "    global_sum = np.sum(sales_array[:, :, 0], axis=0)\n",
    "    sales_array[-1, :, 0] = global_sum\n",
    "\n",
    "    article_arrays[article] = sales_array"
   ]
  },
  {
   "cell_type": "code",
   "execution_count": null,
   "metadata": {},
   "outputs": [],
   "source": [
    "np.save('sales_matrices.npy', article_arrays)"
   ]
  }
 ],
 "metadata": {
  "kernelspec": {
   "display_name": "Python 3",
   "language": "python",
   "name": "python3"
  },
  "language_info": {
   "codemirror_mode": {
    "name": "ipython",
    "version": 3
   },
   "file_extension": ".py",
   "mimetype": "text/x-python",
   "name": "python",
   "nbconvert_exporter": "python",
   "pygments_lexer": "ipython3",
   "version": "3.12.2"
  }
 },
 "nbformat": 4,
 "nbformat_minor": 2
}
