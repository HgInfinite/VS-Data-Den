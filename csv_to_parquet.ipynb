{
 "cells": [
  {
   "cell_type": "code",
   "execution_count": 1,
   "metadata": {},
   "outputs": [],
   "source": [
    "import dask.dataframe as dd\n",
    "import pyarrow as pa\n",
    "import pyarrow.parquet as pq"
   ]
  },
  {
   "cell_type": "code",
   "execution_count": 2,
   "metadata": {},
   "outputs": [],
   "source": [
    "csv_path = r'/Users/harshitgupta/Downloads/Historical_sales_Data.csv'\n",
    "parquet_path = 'historical_sales_data.parquet'\n",
    "\n",
    "columns_to_keep = ['STORELNK', 'ARTICLE', 'DATE_FIELD', 'SALES', 'UNITS', 'DATEMODIFIED', 'WEEK', 'FY', 'YEARWEEK', \n",
    "                   'UPLOAD_DATE', 'SALESLOCALCURRENCY', 'SEASON', 'QUARTERNUMBER', 'MONTHLNK', 'REPORTSALES', \n",
    "                   'UNITSF', 'STOREID', 'EOWSTOREINV', 'HISTORICALSALESID', 'MODIFIED_DATE', \n",
    "                   'SALES_COST_AMT_USD', 'LBI_COGS_AUC_USD']"
   ]
  },
  {
   "cell_type": "code",
   "execution_count": 3,
   "metadata": {},
   "outputs": [],
   "source": [
    "def process_chunk(df):\n",
    "    return df"
   ]
  },
  {
   "cell_type": "code",
   "execution_count": 4,
   "metadata": {},
   "outputs": [],
   "source": [
    "df = dd.read_csv(csv_path, blocksize='500MB', usecols=columns_to_keep)"
   ]
  },
  {
   "cell_type": "code",
   "execution_count": 5,
   "metadata": {},
   "outputs": [
    {
     "ename": "",
     "evalue": "",
     "output_type": "error",
     "traceback": [
      "\u001b[1;31mThe Kernel crashed while executing code in the current cell or a previous cell. \n",
      "\u001b[1;31mPlease review the code in the cell(s) to identify a possible cause of the failure. \n",
      "\u001b[1;31mClick <a href='https://aka.ms/vscodeJupyterKernelCrash'>here</a> for more info. \n",
      "\u001b[1;31mView Jupyter <a href='command:jupyter.viewOutput'>log</a> for further details."
     ]
    }
   ],
   "source": [
    "with pq.ParquetWriter(parquet_path, schema=df.compute().schema) as writer:\n",
    "    for chunk in df.itertuples(): \n",
    "        processed_chunk = process_chunk(chunk)\n",
    "        table = pa.Table.from_pandas(processed_chunk)\n",
    "        writer.write_table(table) "
   ]
  }
 ],
 "metadata": {
  "kernelspec": {
   "display_name": "Python 3",
   "language": "python",
   "name": "python3"
  },
  "language_info": {
   "codemirror_mode": {
    "name": "ipython",
    "version": 3
   },
   "file_extension": ".py",
   "mimetype": "text/x-python",
   "name": "python",
   "nbconvert_exporter": "python",
   "pygments_lexer": "ipython3",
   "version": "3.12.2"
  }
 },
 "nbformat": 4,
 "nbformat_minor": 2
}
