{
 "cells": [
  {
   "cell_type": "code",
   "execution_count": null,
   "id": "b81e0be9-0db1-4987-97ee-6b7157fdfb86",
   "metadata": {},
   "outputs": [],
   "source": [
    "import numpy as np\n",
    "import pandas as pd\n",
    "\n"
   ]
  },
  {
   "cell_type": "code",
   "execution_count": null,
   "id": "f029970f-3553-4afd-8395-a64f05d8ad8d",
   "metadata": {},
   "outputs": [],
   "source": [
    "data_path = r'/Users/harshitgupta/Desktop/HISTORICALSALES_chunks/chunk_0.csv'\n",
    "df = pd.read_csv(data_path , encoding = 'unicode_escape')"
   ]
  },
  {
   "cell_type": "code",
   "execution_count": null,
   "id": "a4f10b6c-f45e-4f56-9c04-04458920915d",
   "metadata": {},
   "outputs": [],
   "source": [
    "# base_directory = '/Users/harshitgupta/Desktop/HISTORICALSALES_chunks/'\n",
    "\n",
    "# dfs = []\n"
   ]
  },
  {
   "cell_type": "code",
   "execution_count": null,
   "id": "023e66bb",
   "metadata": {},
   "outputs": [],
   "source": [
    "# for i in range(1, 28):  \n",
    "\n",
    "#     file_path = f\"{base_directory}chunk_{i}.csv\"\n",
    "    \n",
    "\n",
    "#     dfs[i] = pd.read_csv(file_path , encoding = 'unicode_escape')\n",
    "    \n",
    "\n",
    "\n",
    "# combined_df = pd.concat(dfs, ignore_index=True)\n"
   ]
  },
  {
   "cell_type": "code",
   "execution_count": null,
   "id": "652950c3",
   "metadata": {},
   "outputs": [],
   "source": [
    "df.drop(['UPLOAD_DATE', 'SALESLOCALCURRENCY','EOWSTOREINV','DATEMODIFIED'], axis=1, inplace=True)\n",
    "\n"
   ]
  },
  {
   "cell_type": "code",
   "execution_count": null,
   "id": "d7b54919",
   "metadata": {},
   "outputs": [],
   "source": [
    "df.head()"
   ]
  },
  {
   "cell_type": "code",
   "execution_count": null,
   "id": "3efccdc2",
   "metadata": {},
   "outputs": [],
   "source": [
    "df.info()"
   ]
  },
  {
   "cell_type": "code",
   "execution_count": null,
   "id": "5db98023",
   "metadata": {},
   "outputs": [],
   "source": [
    "df.info()"
   ]
  },
  {
   "cell_type": "code",
   "execution_count": null,
   "id": "e1de3861",
   "metadata": {},
   "outputs": [],
   "source": [
    "pd.isnull(df).sum()"
   ]
  },
  {
   "cell_type": "code",
   "execution_count": null,
   "id": "7a0c01bb",
   "metadata": {},
   "outputs": [],
   "source": [
    "df.head(10)"
   ]
  },
  {
   "cell_type": "code",
   "execution_count": null,
   "id": "94e18409",
   "metadata": {},
   "outputs": [],
   "source": [
    "columns_with_missing_values = df.columns[df.isnull().any()].tolist()\n"
   ]
  },
  {
   "cell_type": "code",
   "execution_count": null,
   "id": "27799969",
   "metadata": {},
   "outputs": [],
   "source": [
    "df_interpolated = df.interpolate(method='linear', limit_direction='forward', axis=0)"
   ]
  },
  {
   "cell_type": "code",
   "execution_count": null,
   "id": "33f2f8e1",
   "metadata": {},
   "outputs": [],
   "source": [
    "remaining_missing_values = pd.isnull(df_interpolated).sum()"
   ]
  },
  {
   "cell_type": "code",
   "execution_count": null,
   "id": "8af3ff82",
   "metadata": {},
   "outputs": [],
   "source": [
    "df.info()"
   ]
  },
  {
   "cell_type": "code",
   "execution_count": null,
   "id": "7299587f",
   "metadata": {},
   "outputs": [],
   "source": [
    "print(remaining_missing_values)"
   ]
  },
  {
   "cell_type": "code",
   "execution_count": null,
   "id": "f2f0b1bd",
   "metadata": {},
   "outputs": [],
   "source": [
    "df.isnull()"
   ]
  },
  {
   "cell_type": "code",
   "execution_count": null,
   "id": "7d2d4bdc",
   "metadata": {},
   "outputs": [],
   "source": [
    "df.describe(include='all').T"
   ]
  },
  {
   "cell_type": "code",
   "execution_count": 18,
   "id": "f8fae73e",
   "metadata": {},
   "outputs": [
    {
     "name": "stdout",
     "output_type": "stream",
     "text": [
      "/usr/local/bin/python3\n"
     ]
    }
   ],
   "source": [
    "import sys\n",
    "print(sys.executable)\n"
   ]
  },
  {
   "cell_type": "code",
   "execution_count": null,
   "id": "75c56966",
   "metadata": {},
   "outputs": [],
   "source": [
    "import seaborn as sns\n",
    "import matplotlib.pyplot as plt\n"
   ]
  },
  {
   "cell_type": "code",
   "execution_count": null,
   "id": "80c56fb5",
   "metadata": {},
   "outputs": [],
   "source": [
    "# sns.pairplot(df)"
   ]
  },
  {
   "cell_type": "code",
   "execution_count": null,
   "id": "6a5bb3e6",
   "metadata": {},
   "outputs": [],
   "source": [
    "for column in columns_to_visualize:\n",
    "    plt.figure(figsize=(10, 6))\n",
    "    sns.scatterplot(x=df[column], y=df['SALES'], alpha=0.5)\n",
    "    plt.title(f'Sales vs {column}')\n",
    "    plt.xlabel(column)\n",
    "    plt.ylabel('Sales')\n",
    "    plt.show()"
   ]
  },
  {
   "cell_type": "code",
   "execution_count": null,
   "id": "f550e59a",
   "metadata": {},
   "outputs": [],
   "source": []
  },
  {
   "cell_type": "code",
   "execution_count": null,
   "id": "a6f8ec12",
   "metadata": {},
   "outputs": [],
   "source": []
  },
  {
   "cell_type": "code",
   "execution_count": null,
   "id": "8069a8df",
   "metadata": {},
   "outputs": [],
   "source": []
  },
  {
   "cell_type": "code",
   "execution_count": null,
   "id": "be8d8933",
   "metadata": {},
   "outputs": [],
   "source": []
  }
 ],
 "metadata": {
  "kernelspec": {
   "display_name": "Python 3 (ipykernel)",
   "language": "python",
   "name": "python3"
  },
  "language_info": {
   "codemirror_mode": {
    "name": "ipython",
    "version": 3
   },
   "file_extension": ".py",
   "mimetype": "text/x-python",
   "name": "python",
   "nbconvert_exporter": "python",
   "pygments_lexer": "ipython3",
   "version": "3.12.2"
  }
 },
 "nbformat": 4,
 "nbformat_minor": 5
}
