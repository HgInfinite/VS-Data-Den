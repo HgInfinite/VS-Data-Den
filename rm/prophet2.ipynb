{
 "cells": [
  {
   "cell_type": "code",
   "execution_count": 1,
   "metadata": {},
   "outputs": [],
   "source": [
    "import pandas as pd\n",
    "import numpy as np\n",
    "from prophet import Prophet"
   ]
  },
  {
   "cell_type": "code",
   "execution_count": 2,
   "metadata": {},
   "outputs": [],
   "source": [
    "data = pd.read_csv('/Users/harshitgupta/Desktop/vs /VS-Data-Den/rm_dataset_filtered.csv')"
   ]
  },
  {
   "cell_type": "code",
   "execution_count": 3,
   "metadata": {},
   "outputs": [],
   "source": [
    "data['date_field'] = pd.to_datetime(data['date_field'])\n",
    "\n"
   ]
  },
  {
   "cell_type": "code",
   "execution_count": 4,
   "metadata": {},
   "outputs": [],
   "source": [
    "data = data.set_index('date_field')\n"
   ]
  },
  {
   "cell_type": "code",
   "execution_count": 7,
   "metadata": {},
   "outputs": [],
   "source": [
    "def fit_model(group):\n",
    "    # Fit Prophet model\n",
    "    model = Prophet(weekly_seasonality=True)\n",
    "    group_df = group.reset_index().rename(columns={'sales': 'y'})\n",
    "    group_df = group_df.rename(columns={'date_field': 'ds'})\n",
    "    model.fit(group_df)\n",
    "    future = model.make_future_dataframe(periods=52)\n",
    "    forecast = model.predict(future)\n",
    "    return forecast['yhat'].values[-52:]\n"
   ]
  },
  {
   "cell_type": "code",
   "execution_count": 8,
   "metadata": {},
   "outputs": [
    {
     "name": "stderr",
     "output_type": "stream",
     "text": [
      "18:30:02 - cmdstanpy - INFO - Chain [1] start processing\n",
      "18:30:02 - cmdstanpy - INFO - Chain [1] done processing\n",
      "18:30:02 - cmdstanpy - INFO - Chain [1] start processing\n",
      "18:30:02 - cmdstanpy - INFO - Chain [1] done processing\n",
      "18:30:03 - cmdstanpy - INFO - Chain [1] start processing\n",
      "18:30:03 - cmdstanpy - INFO - Chain [1] done processing\n",
      "18:30:03 - cmdstanpy - INFO - Chain [1] start processing\n",
      "18:30:03 - cmdstanpy - INFO - Chain [1] done processing\n",
      "18:30:03 - cmdstanpy - INFO - Chain [1] start processing\n",
      "18:30:03 - cmdstanpy - INFO - Chain [1] done processing\n",
      "18:30:04 - cmdstanpy - INFO - Chain [1] start processing\n",
      "18:30:04 - cmdstanpy - INFO - Chain [1] done processing\n",
      "18:30:04 - cmdstanpy - INFO - Chain [1] start processing\n",
      "18:30:04 - cmdstanpy - INFO - Chain [1] done processing\n",
      "18:30:04 - cmdstanpy - INFO - Chain [1] start processing\n",
      "18:30:04 - cmdstanpy - INFO - Chain [1] done processing\n",
      "18:30:04 - cmdstanpy - INFO - Chain [1] start processing\n",
      "18:30:05 - cmdstanpy - INFO - Chain [1] done processing\n",
      "18:30:05 - cmdstanpy - INFO - Chain [1] start processing\n",
      "18:30:05 - cmdstanpy - INFO - Chain [1] done processing\n",
      "18:30:05 - cmdstanpy - INFO - Chain [1] start processing\n",
      "18:30:05 - cmdstanpy - INFO - Chain [1] done processing\n",
      "18:30:05 - cmdstanpy - INFO - Chain [1] start processing\n",
      "18:30:05 - cmdstanpy - INFO - Chain [1] done processing\n",
      "18:30:06 - cmdstanpy - INFO - Chain [1] start processing\n",
      "18:30:06 - cmdstanpy - INFO - Chain [1] done processing\n",
      "18:30:06 - cmdstanpy - INFO - Chain [1] start processing\n",
      "18:30:06 - cmdstanpy - INFO - Chain [1] done processing\n",
      "18:30:06 - cmdstanpy - INFO - Chain [1] start processing\n",
      "18:30:06 - cmdstanpy - INFO - Chain [1] done processing\n",
      "18:30:07 - cmdstanpy - INFO - Chain [1] start processing\n",
      "18:30:07 - cmdstanpy - INFO - Chain [1] done processing\n",
      "18:30:07 - cmdstanpy - INFO - Chain [1] start processing\n",
      "18:30:07 - cmdstanpy - INFO - Chain [1] done processing\n",
      "18:30:07 - cmdstanpy - INFO - Chain [1] start processing\n",
      "18:30:07 - cmdstanpy - INFO - Chain [1] done processing\n",
      "18:30:07 - cmdstanpy - INFO - Chain [1] start processing\n",
      "18:30:07 - cmdstanpy - INFO - Chain [1] done processing\n",
      "18:30:07 - cmdstanpy - INFO - Chain [1] start processing\n",
      "18:30:07 - cmdstanpy - INFO - Chain [1] done processing\n",
      "18:30:08 - cmdstanpy - INFO - Chain [1] start processing\n",
      "18:30:08 - cmdstanpy - INFO - Chain [1] done processing\n",
      "18:30:08 - cmdstanpy - INFO - Chain [1] start processing\n",
      "18:30:08 - cmdstanpy - INFO - Chain [1] done processing\n",
      "18:30:08 - cmdstanpy - INFO - Chain [1] start processing\n",
      "18:30:09 - cmdstanpy - INFO - Chain [1] done processing\n",
      "18:30:09 - cmdstanpy - INFO - Chain [1] start processing\n",
      "18:30:09 - cmdstanpy - INFO - Chain [1] done processing\n",
      "18:30:09 - cmdstanpy - INFO - Chain [1] start processing\n",
      "18:30:09 - cmdstanpy - INFO - Chain [1] done processing\n",
      "18:30:10 - cmdstanpy - INFO - Chain [1] start processing\n",
      "18:30:10 - cmdstanpy - INFO - Chain [1] done processing\n",
      "18:30:10 - cmdstanpy - INFO - Chain [1] start processing\n",
      "18:30:10 - cmdstanpy - INFO - Chain [1] done processing\n",
      "18:30:10 - cmdstanpy - INFO - Chain [1] start processing\n",
      "18:30:10 - cmdstanpy - INFO - Chain [1] done processing\n",
      "18:30:11 - cmdstanpy - INFO - Chain [1] start processing\n",
      "18:30:11 - cmdstanpy - INFO - Chain [1] done processing\n",
      "18:30:11 - cmdstanpy - INFO - Chain [1] start processing\n",
      "18:30:11 - cmdstanpy - INFO - Chain [1] done processing\n",
      "18:30:11 - cmdstanpy - INFO - Chain [1] start processing\n",
      "18:30:11 - cmdstanpy - INFO - Chain [1] done processing\n",
      "18:30:11 - cmdstanpy - INFO - Chain [1] start processing\n",
      "18:30:11 - cmdstanpy - INFO - Chain [1] done processing\n",
      "18:30:12 - cmdstanpy - INFO - Chain [1] start processing\n",
      "18:30:12 - cmdstanpy - INFO - Chain [1] done processing\n",
      "18:30:12 - cmdstanpy - INFO - Chain [1] start processing\n",
      "18:30:12 - cmdstanpy - INFO - Chain [1] done processing\n",
      "18:30:12 - cmdstanpy - INFO - Chain [1] start processing\n",
      "18:30:12 - cmdstanpy - INFO - Chain [1] done processing\n",
      "18:30:13 - cmdstanpy - INFO - Chain [1] start processing\n",
      "18:30:13 - cmdstanpy - INFO - Chain [1] done processing\n",
      "18:30:13 - cmdstanpy - INFO - Chain [1] start processing\n",
      "18:30:13 - cmdstanpy - INFO - Chain [1] done processing\n",
      "18:30:13 - cmdstanpy - INFO - Chain [1] start processing\n",
      "18:30:13 - cmdstanpy - INFO - Chain [1] done processing\n",
      "18:30:14 - cmdstanpy - INFO - Chain [1] start processing\n",
      "18:30:14 - cmdstanpy - INFO - Chain [1] done processing\n",
      "18:30:14 - cmdstanpy - INFO - Chain [1] start processing\n",
      "18:30:14 - cmdstanpy - INFO - Chain [1] done processing\n",
      "18:30:14 - cmdstanpy - INFO - Chain [1] start processing\n",
      "18:30:14 - cmdstanpy - INFO - Chain [1] done processing\n",
      "18:30:14 - cmdstanpy - INFO - Chain [1] start processing\n",
      "18:30:14 - cmdstanpy - INFO - Chain [1] done processing\n",
      "18:30:14 - cmdstanpy - INFO - Chain [1] start processing\n",
      "18:30:14 - cmdstanpy - INFO - Chain [1] done processing\n",
      "18:30:14 - cmdstanpy - INFO - Chain [1] start processing\n",
      "18:30:15 - cmdstanpy - INFO - Chain [1] done processing\n",
      "18:30:15 - cmdstanpy - INFO - Chain [1] start processing\n",
      "18:30:15 - cmdstanpy - INFO - Chain [1] done processing\n",
      "18:30:15 - cmdstanpy - INFO - Chain [1] start processing\n",
      "18:30:15 - cmdstanpy - INFO - Chain [1] done processing\n",
      "18:30:15 - cmdstanpy - INFO - Chain [1] start processing\n",
      "18:30:15 - cmdstanpy - INFO - Chain [1] done processing\n",
      "18:30:15 - cmdstanpy - INFO - Chain [1] start processing\n",
      "18:30:15 - cmdstanpy - INFO - Chain [1] done processing\n",
      "18:30:15 - cmdstanpy - INFO - Chain [1] start processing\n",
      "18:30:15 - cmdstanpy - INFO - Chain [1] done processing\n",
      "18:30:15 - cmdstanpy - INFO - Chain [1] start processing\n",
      "18:30:15 - cmdstanpy - INFO - Chain [1] done processing\n",
      "18:30:15 - cmdstanpy - INFO - Chain [1] start processing\n",
      "18:30:15 - cmdstanpy - INFO - Chain [1] done processing\n",
      "18:30:16 - cmdstanpy - INFO - Chain [1] start processing\n",
      "18:30:16 - cmdstanpy - INFO - Chain [1] done processing\n"
     ]
    }
   ],
   "source": [
    "forecasts = []\n",
    "for rm, group in data.groupby('regional_master')['sales']:\n",
    "    forecast_data = fit_model(group)\n",
    "    forecast_df = pd.DataFrame({'regional_master': rm, 'forecast': forecast_data})\n",
    "    forecasts.append(forecast_df)\n"
   ]
  },
  {
   "cell_type": "code",
   "execution_count": 9,
   "metadata": {},
   "outputs": [],
   "source": [
    "forecasts = pd.concat(forecasts, ignore_index=True)"
   ]
  },
  {
   "cell_type": "code",
   "execution_count": 19,
   "metadata": {},
   "outputs": [],
   "source": [
    "def smape(actual, forecast):\n",
    "    \"\"\"\n",
    "    Calculate the Symmetric Mean Absolute Percentage Error (SMAPE)\n",
    "    \"\"\"\n",
    "    n = len(actual)\n",
    "    combined = np.abs(actual) + np.abs(forecast)\n",
    "    smape_values = np.abs(actual - forecast) / combined * 200 / n\n",
    "    return np.mean(smape_values)\n"
   ]
  },
  {
   "cell_type": "code",
   "execution_count": 20,
   "metadata": {},
   "outputs": [],
   "source": [
    "smape_scores = []\n",
    "for rm, group in forecasts.groupby('regional_master'):\n",
    "    actual = data.loc[data['regional_master'] == rm, 'sales'].values[-52:]\n",
    "    forecast_values = group['forecast'].values\n",
    "    smape_score = smape(actual, forecast_values)\n",
    "    smape_scores.append(smape_score)"
   ]
  },
  {
   "cell_type": "code",
   "execution_count": 21,
   "metadata": {},
   "outputs": [
    {
     "data": {
      "text/plain": [
       "[0.5140206139690241,\n",
       " 3.3639326855289675,\n",
       " 3.846153846153846,\n",
       " 0.9116773637201833,\n",
       " 1.7330735238460073,\n",
       " 2.729910650443588,\n",
       " 1.9785258323378818,\n",
       " 0.5349221419093129,\n",
       " 3.846153846153846,\n",
       " 0.8088113473911798,\n",
       " 2.0630025325196386,\n",
       " 0.24003215868087754,\n",
       " 0.4789850488272655,\n",
       " 0.2982267514915632,\n",
       " 0.8434716104936258,\n",
       " 0.7152372768165793,\n",
       " 1.8749760671849565,\n",
       " 2.620606948656811,\n",
       " 3.846153846153846,\n",
       " 1.1064922412909086,\n",
       " 0.43008821425025656,\n",
       " 0.5691155466011701,\n",
       " 0.594203612892898,\n",
       " 2.8955449867352696,\n",
       " 3.6099532962173053,\n",
       " 1.3387497194008018,\n",
       " 0.6856295175973699,\n",
       " 0.5148360179319221,\n",
       " 0.3939971043032469,\n",
       " 0.32904502408357883,\n",
       " 0.6920818513635905,\n",
       " 1.0597769046136525,\n",
       " 0.8135467697194151,\n",
       " 3.037211543112823,\n",
       " 0.8059801926165137,\n",
       " 0.621602120137267,\n",
       " 3.846153846153846,\n",
       " 0.3469019631874956,\n",
       " 2.518155254792237,\n",
       " 3.4846575993678335,\n",
       " 0.8167890408645877,\n",
       " 0.36570107141272934,\n",
       " 3.7589948741509867,\n",
       " 0.7086475290685398,\n",
       " 0.3931154787011795,\n",
       " 3.7785496900308475,\n",
       " 3.616340326178272,\n",
       " 1.9889437412089057,\n",
       " 1.6699680459310424,\n",
       " 1.293419179175457,\n",
       " 0.6104530451484933,\n",
       " 0.4573402675770073]"
      ]
     },
     "execution_count": 21,
     "metadata": {},
     "output_type": "execute_result"
    }
   ],
   "source": [
    "smape_scores"
   ]
  },
  {
   "cell_type": "code",
   "execution_count": 22,
   "metadata": {},
   "outputs": [],
   "source": [
    "mean_smape = np.mean(smape_scores)"
   ]
  },
  {
   "cell_type": "code",
   "execution_count": 23,
   "metadata": {},
   "outputs": [
    {
     "data": {
      "text/plain": [
       "1.5846126866941623"
      ]
     },
     "execution_count": 23,
     "metadata": {},
     "output_type": "execute_result"
    }
   ],
   "source": [
    "mean_smape"
   ]
  },
  {
   "cell_type": "code",
   "execution_count": 24,
   "metadata": {},
   "outputs": [
    {
     "name": "stdout",
     "output_type": "stream",
     "text": [
      "Mean SMAPE across all regional_masters: 1.5846\n"
     ]
    }
   ],
   "source": [
    "print(f\"Mean SMAPE across all regional_masters: {mean_smape:.4f}\")\n"
   ]
  },
  {
   "cell_type": "code",
   "execution_count": null,
   "metadata": {},
   "outputs": [],
   "source": []
  }
 ],
 "metadata": {
  "kernelspec": {
   "display_name": ".venv",
   "language": "python",
   "name": "python3"
  },
  "language_info": {
   "codemirror_mode": {
    "name": "ipython",
    "version": 3
   },
   "file_extension": ".py",
   "mimetype": "text/x-python",
   "name": "python",
   "nbconvert_exporter": "python",
   "pygments_lexer": "ipython3",
   "version": "3.9.6"
  }
 },
 "nbformat": 4,
 "nbformat_minor": 2
}
