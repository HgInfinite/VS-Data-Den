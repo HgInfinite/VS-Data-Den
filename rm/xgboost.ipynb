{
 "cells": [
  {
   "cell_type": "code",
   "execution_count": 6,
   "metadata": {},
   "outputs": [],
   "source": [
    "import pandas as pd\n",
    "import numpy as np\n",
    "from xgboost import XGBRegressor"
   ]
  },
  {
   "cell_type": "code",
   "execution_count": 7,
   "metadata": {},
   "outputs": [],
   "source": [
    "data = pd.read_csv('/Users/harshitgupta/Desktop/vs /VS-Data-Den/rm_dataset_filtered.csv')\n",
    "\n",
    "# Convert the 'date_field' column to a datetime format\n",
    "data['date_field'] = pd.to_datetime(data['date_field'])\n",
    "\n",
    "# Set the 'date_field' as the index\n",
    "data = data.set_index('date_field')\n"
   ]
  },
  {
   "cell_type": "code",
   "execution_count": 18,
   "metadata": {},
   "outputs": [],
   "source": [
    "regional_masters = data.groupby('regional_master')['sales'].apply(lambda x: (x != 0).sum() >= 250)\n",
    "regional_masters = regional_masters[regional_masters].index.tolist()\n"
   ]
  },
  {
   "cell_type": "code",
   "execution_count": 31,
   "metadata": {},
   "outputs": [],
   "source": [
    "def fit_model(group):\n",
    "    # Split data into train and test\n",
    "    train_data = group[:-52]\n",
    "    test_data = group[-52:]\n",
    "\n",
    "    # Create features and target\n",
    "    X_train = train_data.index.astype(int) / 1e9  # Unix timestamps as features\n",
    "    y_train = train_data.values\n",
    "    X_train = X_train.values.reshape(-1, 1)  # Convert to a 2D NumPy array\n",
    "\n",
    "    # Fit XGBoost model\n",
    "    model = XGBRegressor(n_estimators=50, random_state=20)\n",
    "    model.fit(X_train, y_train)\n",
    "\n",
    "    # Make predictions\n",
    "    X_test = test_data.index.astype(int) / 1e9\n",
    "    X_test = X_test.values.reshape(-1, 1)  # Convert to a 2D NumPy array\n",
    "    forecast = model.predict(X_test)\n",
    "\n",
    "    return forecast"
   ]
  },
  {
   "cell_type": "code",
   "execution_count": 32,
   "metadata": {},
   "outputs": [],
   "source": [
    "forecasts = []\n",
    "for rm, group in data.groupby('regional_master')['sales']:\n",
    "    if rm in regional_masters:\n",
    "        forecast_data = fit_model(group)\n",
    "        forecast_df = pd.DataFrame({'regional_master': rm, 'forecast': forecast_data})\n",
    "        forecasts.append(forecast_df)"
   ]
  },
  {
   "cell_type": "code",
   "execution_count": 33,
   "metadata": {},
   "outputs": [],
   "source": [
    "forecasts = pd.concat(forecasts, ignore_index=True)\n"
   ]
  },
  {
   "cell_type": "code",
   "execution_count": 34,
   "metadata": {},
   "outputs": [],
   "source": [
    "def smape(actual, forecast):\n",
    "    \"\"\"\n",
    "    Calculate the Symmetric Mean Absolute Percentage Error (SMAPE)\n",
    "    \"\"\"\n",
    "    n = len(actual)\n",
    "    combined = np.abs(actual) + np.abs(forecast)\n",
    "    smape_values = np.abs(actual - forecast) / combined * 200 / n\n",
    "    return np.mean(smape_values)"
   ]
  },
  {
   "cell_type": "code",
   "execution_count": 35,
   "metadata": {},
   "outputs": [],
   "source": [
    "smape_scores = []\n",
    "for rm, group in forecasts.groupby('regional_master'):\n",
    "    actual = data.loc[data['regional_master'] == rm, 'sales'].values[-52:]\n",
    "    forecast_values = group['forecast'].values\n",
    "    smape_score = smape(actual, forecast_values)\n",
    "    smape_scores.append(smape_score)"
   ]
  },
  {
   "cell_type": "code",
   "execution_count": 36,
   "metadata": {},
   "outputs": [
    {
     "name": "stdout",
     "output_type": "stream",
     "text": [
      "Mean SMAPE across all regional_masters: 0.8738\n"
     ]
    }
   ],
   "source": [
    "mean_smape = np.mean(smape_scores)\n",
    "print(f\"Mean SMAPE across all regional_masters: {mean_smape:.4f}\")"
   ]
  },
  {
   "cell_type": "code",
   "execution_count": null,
   "metadata": {},
   "outputs": [],
   "source": []
  }
 ],
 "metadata": {
  "kernelspec": {
   "display_name": ".venv",
   "language": "python",
   "name": "python3"
  },
  "language_info": {
   "codemirror_mode": {
    "name": "ipython",
    "version": 3
   },
   "file_extension": ".py",
   "mimetype": "text/x-python",
   "name": "python",
   "nbconvert_exporter": "python",
   "pygments_lexer": "ipython3",
   "version": "3.9.6"
  }
 },
 "nbformat": 4,
 "nbformat_minor": 2
}
