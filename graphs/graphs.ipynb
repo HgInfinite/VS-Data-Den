{
 "cells": [
  {
   "cell_type": "code",
   "execution_count": 1,
   "metadata": {},
   "outputs": [],
   "source": [
    "import matplotlib.pyplot as plt\n",
    "import pandas as pd\n",
    "import os "
   ]
  },
  {
   "cell_type": "code",
   "execution_count": 2,
   "metadata": {},
   "outputs": [],
   "source": [
    "data = pd.read_csv('rm_country_salesLocalCurrencyConverter.csv')"
   ]
  },
  {
   "cell_type": "code",
   "execution_count": 3,
   "metadata": {},
   "outputs": [],
   "source": []
  },
  {
   "cell_type": "code",
   "execution_count": 4,
   "metadata": {},
   "outputs": [],
   "source": [
    "directory = 'converted_sales_graph'\n",
    "if not os.path.exists(directory):\n",
    "    os.makedirs(directory)"
   ]
  },
  {
   "cell_type": "code",
   "execution_count": 5,
   "metadata": {},
   "outputs": [],
   "source": [
    "sales_data = data.groupby(['PTNR_REGIONAL_MASTER_CD', 'YEARWEEK'])['TOTAL_SALES'].sum().reset_index()"
   ]
  },
  {
   "cell_type": "code",
   "execution_count": 6,
   "metadata": {},
   "outputs": [],
   "source": [
    "for country, group_data in sales_data:\n",
    "    # Create a new figure for each country\n",
    "    plt.figure()\n",
    "    plt.title(f'TOTAL_SALES for {country}')\n",
    "    \n",
    "    # Group the data further by 'PTNR_REGIONAL_MASTER_CD' for each country\n",
    "    group_by_partner = group_data.groupby('PTNR_REGIONAL_MASTER_CD')\n",
    "    \n",
    "    # Iterate over each partner within the country group and plot their data\n",
    "    for partner, partner_data in group_by_partner:\n",
    "        plt.plot(partner_data['YEARWEEK'], partner_data['TOTAL_SALES'], label=f'Regional_Master {partner}')\n",
    "    \n",
    "    plt.xlabel('YEARWEEK')\n",
    "    plt.ylabel('TOTAL_SALES')\n",
    "    plt.legend()\n",
    "    plt.show()"
   ]
  },
  {
   "cell_type": "code",
   "execution_count": null,
   "metadata": {},
   "outputs": [],
   "source": []
  },
  {
   "cell_type": "code",
   "execution_count": null,
   "metadata": {},
   "outputs": [],
   "source": []
  }
 ],
 "metadata": {
  "kernelspec": {
   "display_name": ".venv",
   "language": "python",
   "name": "python3"
  },
  "language_info": {
   "codemirror_mode": {
    "name": "ipython",
    "version": 3
   },
   "file_extension": ".py",
   "mimetype": "text/x-python",
   "name": "python",
   "nbconvert_exporter": "python",
   "pygments_lexer": "ipython3",
   "version": "3.12.2"
  }
 },
 "nbformat": 4,
 "nbformat_minor": 2
}
