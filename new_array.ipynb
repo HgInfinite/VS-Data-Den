{
 "cells": [
  {
   "cell_type": "code",
   "execution_count": 8,
   "metadata": {},
   "outputs": [],
   "source": [
    "import pandas as pd\n",
    "import numpy as np"
   ]
  },
  {
   "cell_type": "code",
   "execution_count": 9,
   "metadata": {},
   "outputs": [],
   "source": [
    "data_path_2 = r'/Users/harshitgupta/Downloads/HISTORICALSALES_202403151525_copy.csv'\n",
    "data_path_1 = r'/Users/harshitgupta/Library/CloudStorage/OneDrive-InfiniteLocusPrivateLimited/STORES_202403151524.csv'\n",
    "\n",
    "df2 = pd.read_csv(data_path_2, usecols=['STOREID', 'YEARWEEK', 'ARTICLE', 'SALES'])\n",
    "df1 = pd.read_csv(data_path_1, usecols=['STOREID', 'PTNR_REGIONAL_MASTER_CD'])\n"
   ]
  },
  {
   "cell_type": "code",
   "execution_count": 10,
   "metadata": {},
   "outputs": [],
   "source": [
    "merged_df = pd.merge(df2, df1, on='STOREID', how='left')"
   ]
  },
  {
   "cell_type": "code",
   "execution_count": 11,
   "metadata": {},
   "outputs": [
    {
     "name": "stdout",
     "output_type": "stream",
     "text": [
      "<class 'pandas.core.frame.DataFrame'>\n",
      "RangeIndex: 7047095 entries, 0 to 7047094\n",
      "Data columns (total 5 columns):\n",
      " #   Column                   Dtype  \n",
      "---  ------                   -----  \n",
      " 0   ARTICLE                  int64  \n",
      " 1   SALES                    float64\n",
      " 2   YEARWEEK                 int64  \n",
      " 3   STOREID                  float64\n",
      " 4   PTNR_REGIONAL_MASTER_CD  float64\n",
      "dtypes: float64(3), int64(2)\n",
      "memory usage: 268.8 MB\n"
     ]
    }
   ],
   "source": [
    "merged_df.info()"
   ]
  },
  {
   "cell_type": "code",
   "execution_count": null,
   "metadata": {},
   "outputs": [],
   "source": []
  }
 ],
 "metadata": {
  "kernelspec": {
   "display_name": "Python 3",
   "language": "python",
   "name": "python3"
  },
  "language_info": {
   "codemirror_mode": {
    "name": "ipython",
    "version": 3
   },
   "file_extension": ".py",
   "mimetype": "text/x-python",
   "name": "python",
   "nbconvert_exporter": "python",
   "pygments_lexer": "ipython3",
   "version": "3.12.2"
  }
 },
 "nbformat": 4,
 "nbformat_minor": 2
}
