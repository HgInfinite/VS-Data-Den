{
 "cells": [
  {
   "cell_type": "code",
   "execution_count": 1,
   "metadata": {},
   "outputs": [
    {
     "name": "stderr",
     "output_type": "stream",
     "text": [
      "/Users/harshitgupta/Desktop/vs /VS-Data-Den/.venv/lib/python3.9/site-packages/urllib3/__init__.py:35: NotOpenSSLWarning: urllib3 v2 only supports OpenSSL 1.1.1+, currently the 'ssl' module is compiled with 'LibreSSL 2.8.3'. See: https://github.com/urllib3/urllib3/issues/3020\n",
      "  warnings.warn(\n"
     ]
    }
   ],
   "source": [
    "import pandas as pd\n",
    "import numpy as np\n",
    "from sklearn.preprocessing import MinMaxScaler\n",
    "from sklearn.model_selection import train_test_split\n",
    "from tensorflow.keras.models import Sequential\n",
    "from tensorflow.keras.layers import LSTM, Dense\n"
   ]
  },
  {
   "cell_type": "code",
   "execution_count": 2,
   "metadata": {},
   "outputs": [],
   "source": [
    "data = pd.read_parquet('/Users/harshitgupta/Desktop/vs /VS-Data-Den/data_cleaning/sales_historic_1.parquet')"
   ]
  },
  {
   "cell_type": "code",
   "execution_count": 3,
   "metadata": {},
   "outputs": [],
   "source": [
    "df = pd.read_csv('model_dataset.csv')"
   ]
  },
  {
   "cell_type": "code",
   "execution_count": 4,
   "metadata": {},
   "outputs": [
    {
     "data": {
      "text/plain": [
       "Index(['STORELNK', 'ARTICLE', 'DATE_FIELD', 'SALES', 'UNITS', 'DATEMODIFIED',\n",
       "       'WEEK', 'FY', 'YEARWEEK', 'UPLOAD_DATE', 'SALESLOCALCURRENCY', 'SEASON',\n",
       "       'QUARTERNUMBER', 'MONTHLNK', 'REPORTSALES', 'UNITSF', 'STOREID',\n",
       "       'EOWSTOREINV', 'HISTORICALSALESID', 'MODIFIED_DATE',\n",
       "       'SALES_COST_AMT_USD', 'LBI_COGS_AUC_USD', 'NEW_SKU_x', 'EAN',\n",
       "       'CHOICE_ID', 'CHOICE_DESC', 'STYLE_ID', 'STYLE_DESC', 'SUBCLASS_ID',\n",
       "       'SUBCLASS_DESC', 'CLASS_ID', 'CLASS_DESC', 'CATEGORY_ID',\n",
       "       'CATEGORY_DESC', 'SECTOR_ID', 'SECTOR_DESC', 'ENTERPRISE_ID',\n",
       "       'ENTERPRISE_DESC', 'SUBBRAND_ID', 'SUBBRAND_DESC', 'VARIANT_STATUS',\n",
       "       'SECTOR_SUBBRAND', 'SECTOR_SUBBRAND_DESC', 'CATEGORY_SUBBRAND',\n",
       "       'CATEGORY_SUBBRAND_DESC', 'CLASS_SUBBRAND', 'CLASS_SUBBRAND_DESC',\n",
       "       'SUBCLASS_SUBBRAND', 'SUBCLASS_SUBBRAND_DESC', 'PRICE_TIER',\n",
       "       'Unnamed: 28', 'PROD_LIFECYCLE', 'COLLECTION', 'MATERIAL_TYPE',\n",
       "       'NEW_SKU_y'],\n",
       "      dtype='object')"
      ]
     },
     "execution_count": 4,
     "metadata": {},
     "output_type": "execute_result"
    }
   ],
   "source": [
    "data.columns"
   ]
  },
  {
   "cell_type": "code",
   "execution_count": 5,
   "metadata": {},
   "outputs": [
    {
     "data": {
      "text/plain": [
       "PTNR_REGIONAL_MASTER_CD    float64\n",
       "YEARWEEK                    object\n",
       "TOTAL_SALES                float64\n",
       "dtype: object"
      ]
     },
     "execution_count": 5,
     "metadata": {},
     "output_type": "execute_result"
    }
   ],
   "source": [
    "df.dtypes"
   ]
  },
  {
   "cell_type": "code",
   "execution_count": 6,
   "metadata": {},
   "outputs": [],
   "source": [
    "data['DATE_FIELD'] = pd.to_datetime(data['DATE_FIELD'])\n",
    "data['YEARWEEK'] = data['DATE_FIELD'].dt.strftime('%Y-%U')"
   ]
  },
  {
   "cell_type": "code",
   "execution_count": 7,
   "metadata": {},
   "outputs": [],
   "source": [
    "features = ['SALES','UNITS'] \n"
   ]
  },
  {
   "cell_type": "code",
   "execution_count": 8,
   "metadata": {},
   "outputs": [],
   "source": [
    "agg_data = data.groupby(['CHOICE_ID', 'YEARWEEK']).agg({\n",
    "    'SALES': 'sum',\n",
    "    'UNITS': 'sum'\n",
    "}).reset_index()\n"
   ]
  },
  {
   "cell_type": "code",
   "execution_count": 9,
   "metadata": {},
   "outputs": [],
   "source": [
    "train_data, test_data = train_test_split(agg_data, test_size=0.2, shuffle=False)\n"
   ]
  },
  {
   "cell_type": "code",
   "execution_count": 26,
   "metadata": {},
   "outputs": [
    {
     "data": {
      "text/html": [
       "<div>\n",
       "<style scoped>\n",
       "    .dataframe tbody tr th:only-of-type {\n",
       "        vertical-align: middle;\n",
       "    }\n",
       "\n",
       "    .dataframe tbody tr th {\n",
       "        vertical-align: top;\n",
       "    }\n",
       "\n",
       "    .dataframe thead th {\n",
       "        text-align: right;\n",
       "    }\n",
       "</style>\n",
       "<table border=\"1\" class=\"dataframe\">\n",
       "  <thead>\n",
       "    <tr style=\"text-align: right;\">\n",
       "      <th></th>\n",
       "      <th>CHOICE_ID</th>\n",
       "      <th>YEARWEEK</th>\n",
       "      <th>SALES</th>\n",
       "      <th>UNITS</th>\n",
       "    </tr>\n",
       "  </thead>\n",
       "  <tbody>\n",
       "    <tr>\n",
       "      <th>0</th>\n",
       "      <td>100190000000</td>\n",
       "      <td>2018-00</td>\n",
       "      <td>213.05</td>\n",
       "      <td>3.0</td>\n",
       "    </tr>\n",
       "    <tr>\n",
       "      <th>1</th>\n",
       "      <td>100190000000</td>\n",
       "      <td>2018-01</td>\n",
       "      <td>71.23</td>\n",
       "      <td>1.0</td>\n",
       "    </tr>\n",
       "    <tr>\n",
       "      <th>2</th>\n",
       "      <td>100190000000</td>\n",
       "      <td>2018-02</td>\n",
       "      <td>89.47</td>\n",
       "      <td>1.0</td>\n",
       "    </tr>\n",
       "    <tr>\n",
       "      <th>3</th>\n",
       "      <td>100190000000</td>\n",
       "      <td>2018-03</td>\n",
       "      <td>1159.22</td>\n",
       "      <td>18.0</td>\n",
       "    </tr>\n",
       "    <tr>\n",
       "      <th>4</th>\n",
       "      <td>100190000000</td>\n",
       "      <td>2018-05</td>\n",
       "      <td>160.53</td>\n",
       "      <td>2.0</td>\n",
       "    </tr>\n",
       "    <tr>\n",
       "      <th>5</th>\n",
       "      <td>100190000000</td>\n",
       "      <td>2018-06</td>\n",
       "      <td>481.56</td>\n",
       "      <td>8.0</td>\n",
       "    </tr>\n",
       "    <tr>\n",
       "      <th>6</th>\n",
       "      <td>100190000000</td>\n",
       "      <td>2018-08</td>\n",
       "      <td>90.83</td>\n",
       "      <td>1.0</td>\n",
       "    </tr>\n",
       "    <tr>\n",
       "      <th>7</th>\n",
       "      <td>100190000000</td>\n",
       "      <td>2018-10</td>\n",
       "      <td>120.72</td>\n",
       "      <td>2.0</td>\n",
       "    </tr>\n",
       "    <tr>\n",
       "      <th>8</th>\n",
       "      <td>100190000000</td>\n",
       "      <td>2018-11</td>\n",
       "      <td>824.17</td>\n",
       "      <td>11.0</td>\n",
       "    </tr>\n",
       "    <tr>\n",
       "      <th>9</th>\n",
       "      <td>100190000000</td>\n",
       "      <td>2018-12</td>\n",
       "      <td>190.11</td>\n",
       "      <td>4.0</td>\n",
       "    </tr>\n",
       "  </tbody>\n",
       "</table>\n",
       "</div>"
      ],
      "text/plain": [
       "      CHOICE_ID YEARWEEK    SALES  UNITS\n",
       "0  100190000000  2018-00   213.05    3.0\n",
       "1  100190000000  2018-01    71.23    1.0\n",
       "2  100190000000  2018-02    89.47    1.0\n",
       "3  100190000000  2018-03  1159.22   18.0\n",
       "4  100190000000  2018-05   160.53    2.0\n",
       "5  100190000000  2018-06   481.56    8.0\n",
       "6  100190000000  2018-08    90.83    1.0\n",
       "7  100190000000  2018-10   120.72    2.0\n",
       "8  100190000000  2018-11   824.17   11.0\n",
       "9  100190000000  2018-12   190.11    4.0"
      ]
     },
     "execution_count": 26,
     "metadata": {},
     "output_type": "execute_result"
    }
   ],
   "source": [
    "train_data.head(10)"
   ]
  },
  {
   "cell_type": "code",
   "execution_count": 10,
   "metadata": {},
   "outputs": [],
   "source": [
    "scaler = MinMaxScaler()\n",
    "train_scaled = scaler.fit_transform(train_data[features])\n",
    "test_scaled = scaler.transform(test_data[features])"
   ]
  },
  {
   "cell_type": "code",
   "execution_count": 28,
   "metadata": {},
   "outputs": [
    {
     "data": {
      "text/plain": [
       "array([[0.00126952, 0.0017452 ],\n",
       "       [0.00055313, 0.00142789],\n",
       "       [0.00064527, 0.00142789],\n",
       "       ...,\n",
       "       [0.00020645, 0.00142789],\n",
       "       [0.00020256, 0.00142789],\n",
       "       [0.00020054, 0.00142789]])"
      ]
     },
     "execution_count": 28,
     "metadata": {},
     "output_type": "execute_result"
    }
   ],
   "source": [
    "train_scaled\n"
   ]
  },
  {
   "cell_type": "code",
   "execution_count": 11,
   "metadata": {},
   "outputs": [],
   "source": [
    "def create_sequences(data, sequence_length):\n",
    "    X, y = [], []\n",
    "    for i in range(len(data) - sequence_length):\n",
    "        X.append(data[i:i+sequence_length])\n",
    "        y.append(data[i+sequence_length])\n",
    "    return np.array(X), np.array(y)"
   ]
  },
  {
   "cell_type": "code",
   "execution_count": 12,
   "metadata": {},
   "outputs": [],
   "source": [
    "sequence_length = 10  #\n",
    "X_train, y_train = create_sequences(train_scaled, sequence_length)\n",
    "X_test, y_test = create_sequences(test_scaled, sequence_length)"
   ]
  },
  {
   "cell_type": "code",
   "execution_count": 27,
   "metadata": {},
   "outputs": [
    {
     "name": "stdout",
     "output_type": "stream",
     "text": [
      "[[[0.00126952 0.0017452 ]\n",
      "  [0.00055313 0.00142789]\n",
      "  [0.00064527 0.00142789]\n",
      "  ...\n",
      "  [0.00080312 0.00158655]\n",
      "  [0.00435653 0.00301444]\n",
      "  [0.00115364 0.00190386]]\n",
      "\n",
      " [[0.00055313 0.00142789]\n",
      "  [0.00064527 0.00142789]\n",
      "  [0.00604901 0.00412502]\n",
      "  ...\n",
      "  [0.00435653 0.00301444]\n",
      "  [0.00115364 0.00190386]\n",
      "  [0.00475671 0.00380771]]\n",
      "\n",
      " [[0.00064527 0.00142789]\n",
      "  [0.00604901 0.00412502]\n",
      "  [0.00100422 0.00158655]\n",
      "  ...\n",
      "  [0.00115364 0.00190386]\n",
      "  [0.00475671 0.00380771]\n",
      "  [0.0003244  0.00142789]]\n",
      "\n",
      " ...\n",
      "\n",
      " [[0.00025004 0.00158655]\n",
      "  [0.00026803 0.0017452 ]\n",
      "  [0.00021125 0.00142789]\n",
      "  ...\n",
      "  [0.00022327 0.00206251]\n",
      "  [0.00020963 0.00142789]\n",
      "  [0.00023898 0.00158655]]\n",
      "\n",
      " [[0.00026803 0.0017452 ]\n",
      "  [0.00021125 0.00142789]\n",
      "  [0.0002165  0.00142789]\n",
      "  ...\n",
      "  [0.00020963 0.00142789]\n",
      "  [0.00023898 0.00158655]\n",
      "  [0.00020645 0.00142789]]\n",
      "\n",
      " [[0.00021125 0.00142789]\n",
      "  [0.0002165  0.00142789]\n",
      "  [0.00020438 0.00142789]\n",
      "  ...\n",
      "  [0.00023898 0.00158655]\n",
      "  [0.00020645 0.00142789]\n",
      "  [0.00020256 0.00142789]]]\n"
     ]
    }
   ],
   "source": [
    "print(X_train)"
   ]
  },
  {
   "cell_type": "code",
   "execution_count": 13,
   "metadata": {},
   "outputs": [
    {
     "name": "stderr",
     "output_type": "stream",
     "text": [
      "2024-04-18 11:22:47.816747: I metal_plugin/src/device/metal_device.cc:1154] Metal device set to: Apple M2\n",
      "2024-04-18 11:22:47.818987: I metal_plugin/src/device/metal_device.cc:296] systemMemory: 8.00 GB\n",
      "2024-04-18 11:22:47.819007: I metal_plugin/src/device/metal_device.cc:313] maxCacheSize: 2.67 GB\n",
      "2024-04-18 11:22:47.819070: I tensorflow/core/common_runtime/pluggable_device/pluggable_device_factory.cc:305] Could not identify NUMA node of platform GPU ID 0, defaulting to 0. Your kernel may not have been built with NUMA support.\n",
      "2024-04-18 11:22:47.819424: I tensorflow/core/common_runtime/pluggable_device/pluggable_device_factory.cc:271] Created TensorFlow device (/job:localhost/replica:0/task:0/device:GPU:0 with 0 MB memory) -> physical PluggableDevice (device: 0, name: METAL, pci bus id: <undefined>)\n",
      "/Users/harshitgupta/Desktop/vs /VS-Data-Den/.venv/lib/python3.9/site-packages/keras/src/layers/rnn/rnn.py:204: UserWarning: Do not pass an `input_shape`/`input_dim` argument to a layer. When using Sequential models, prefer using an `Input(shape)` object as the first layer in the model instead.\n",
      "  super().__init__(**kwargs)\n"
     ]
    }
   ],
   "source": [
    "model = Sequential([\n",
    "    LSTM(64, input_shape=(X_train.shape[1], X_train.shape[2]), return_sequences=True),\n",
    "    LSTM(64),\n",
    "    Dense(2)  \n",
    "])"
   ]
  },
  {
   "cell_type": "code",
   "execution_count": 14,
   "metadata": {},
   "outputs": [],
   "source": [
    "model.compile(optimizer='adam', loss='mse')\n"
   ]
  },
  {
   "cell_type": "code",
   "execution_count": 15,
   "metadata": {},
   "outputs": [
    {
     "name": "stdout",
     "output_type": "stream",
     "text": [
      "Epoch 1/20\n"
     ]
    },
    {
     "name": "stderr",
     "output_type": "stream",
     "text": [
      "2024-04-18 11:22:48.722662: I tensorflow/core/grappler/optimizers/custom_graph_optimizer_registry.cc:117] Plugin optimizer for device_type GPU is enabled.\n"
     ]
    },
    {
     "name": "stdout",
     "output_type": "stream",
     "text": [
      "\u001b[1m60/60\u001b[0m \u001b[32m━━━━━━━━━━━━━━━━━━━━\u001b[0m\u001b[37m\u001b[0m \u001b[1m3s\u001b[0m 17ms/step - loss: 0.0061 - val_loss: 1.2152e-05\n",
      "Epoch 2/20\n",
      "\u001b[1m60/60\u001b[0m \u001b[32m━━━━━━━━━━━━━━━━━━━━\u001b[0m\u001b[37m\u001b[0m \u001b[1m1s\u001b[0m 10ms/step - loss: 0.0035 - val_loss: 5.9483e-05\n",
      "Epoch 3/20\n",
      "\u001b[1m60/60\u001b[0m \u001b[32m━━━━━━━━━━━━━━━━━━━━\u001b[0m\u001b[37m\u001b[0m \u001b[1m1s\u001b[0m 10ms/step - loss: 0.0031 - val_loss: 2.8730e-05\n",
      "Epoch 4/20\n",
      "\u001b[1m60/60\u001b[0m \u001b[32m━━━━━━━━━━━━━━━━━━━━\u001b[0m\u001b[37m\u001b[0m \u001b[1m1s\u001b[0m 13ms/step - loss: 0.0049 - val_loss: 8.7549e-05\n",
      "Epoch 5/20\n",
      "\u001b[1m60/60\u001b[0m \u001b[32m━━━━━━━━━━━━━━━━━━━━\u001b[0m\u001b[37m\u001b[0m \u001b[1m1s\u001b[0m 10ms/step - loss: 0.0034 - val_loss: 7.9065e-05\n",
      "Epoch 6/20\n",
      "\u001b[1m60/60\u001b[0m \u001b[32m━━━━━━━━━━━━━━━━━━━━\u001b[0m\u001b[37m\u001b[0m \u001b[1m1s\u001b[0m 10ms/step - loss: 0.0037 - val_loss: 1.9500e-05\n",
      "Epoch 7/20\n",
      "\u001b[1m60/60\u001b[0m \u001b[32m━━━━━━━━━━━━━━━━━━━━\u001b[0m\u001b[37m\u001b[0m \u001b[1m1s\u001b[0m 10ms/step - loss: 0.0032 - val_loss: 3.0368e-05\n",
      "Epoch 8/20\n",
      "\u001b[1m60/60\u001b[0m \u001b[32m━━━━━━━━━━━━━━━━━━━━\u001b[0m\u001b[37m\u001b[0m \u001b[1m1s\u001b[0m 11ms/step - loss: 0.0035 - val_loss: 3.5419e-05\n",
      "Epoch 9/20\n",
      "\u001b[1m60/60\u001b[0m \u001b[32m━━━━━━━━━━━━━━━━━━━━\u001b[0m\u001b[37m\u001b[0m \u001b[1m1s\u001b[0m 10ms/step - loss: 0.0046 - val_loss: 2.9542e-05\n",
      "Epoch 10/20\n",
      "\u001b[1m60/60\u001b[0m \u001b[32m━━━━━━━━━━━━━━━━━━━━\u001b[0m\u001b[37m\u001b[0m \u001b[1m1s\u001b[0m 10ms/step - loss: 0.0050 - val_loss: 1.2202e-05\n",
      "Epoch 11/20\n",
      "\u001b[1m60/60\u001b[0m \u001b[32m━━━━━━━━━━━━━━━━━━━━\u001b[0m\u001b[37m\u001b[0m \u001b[1m1s\u001b[0m 10ms/step - loss: 0.0028 - val_loss: 9.5910e-05\n",
      "Epoch 12/20\n",
      "\u001b[1m60/60\u001b[0m \u001b[32m━━━━━━━━━━━━━━━━━━━━\u001b[0m\u001b[37m\u001b[0m \u001b[1m1s\u001b[0m 10ms/step - loss: 0.0037 - val_loss: 1.1003e-05\n",
      "Epoch 13/20\n",
      "\u001b[1m60/60\u001b[0m \u001b[32m━━━━━━━━━━━━━━━━━━━━\u001b[0m\u001b[37m\u001b[0m \u001b[1m1s\u001b[0m 10ms/step - loss: 0.0033 - val_loss: 1.3125e-04\n",
      "Epoch 14/20\n",
      "\u001b[1m60/60\u001b[0m \u001b[32m━━━━━━━━━━━━━━━━━━━━\u001b[0m\u001b[37m\u001b[0m \u001b[1m1s\u001b[0m 10ms/step - loss: 0.0034 - val_loss: 3.9665e-05\n",
      "Epoch 15/20\n",
      "\u001b[1m60/60\u001b[0m \u001b[32m━━━━━━━━━━━━━━━━━━━━\u001b[0m\u001b[37m\u001b[0m \u001b[1m1s\u001b[0m 10ms/step - loss: 0.0032 - val_loss: 6.5196e-05\n",
      "Epoch 16/20\n",
      "\u001b[1m60/60\u001b[0m \u001b[32m━━━━━━━━━━━━━━━━━━━━\u001b[0m\u001b[37m\u001b[0m \u001b[1m1s\u001b[0m 10ms/step - loss: 0.0040 - val_loss: 3.3541e-05\n",
      "Epoch 17/20\n",
      "\u001b[1m60/60\u001b[0m \u001b[32m━━━━━━━━━━━━━━━━━━━━\u001b[0m\u001b[37m\u001b[0m \u001b[1m1s\u001b[0m 11ms/step - loss: 0.0037 - val_loss: 2.2590e-05\n",
      "Epoch 18/20\n",
      "\u001b[1m60/60\u001b[0m \u001b[32m━━━━━━━━━━━━━━━━━━━━\u001b[0m\u001b[37m\u001b[0m \u001b[1m1s\u001b[0m 10ms/step - loss: 0.0041 - val_loss: 3.4060e-05\n",
      "Epoch 19/20\n",
      "\u001b[1m60/60\u001b[0m \u001b[32m━━━━━━━━━━━━━━━━━━━━\u001b[0m\u001b[37m\u001b[0m \u001b[1m1s\u001b[0m 10ms/step - loss: 0.0034 - val_loss: 1.1150e-05\n",
      "Epoch 20/20\n",
      "\u001b[1m60/60\u001b[0m \u001b[32m━━━━━━━━━━━━━━━━━━━━\u001b[0m\u001b[37m\u001b[0m \u001b[1m1s\u001b[0m 10ms/step - loss: 0.0040 - val_loss: 8.8513e-06\n"
     ]
    },
    {
     "data": {
      "text/plain": [
       "<keras.src.callbacks.history.History at 0x5e6e56790>"
      ]
     },
     "execution_count": 15,
     "metadata": {},
     "output_type": "execute_result"
    }
   ],
   "source": [
    "model.fit(X_train, y_train, epochs=20, batch_size=32, validation_split=0.1)"
   ]
  },
  {
   "cell_type": "code",
   "execution_count": 16,
   "metadata": {},
   "outputs": [
    {
     "name": "stdout",
     "output_type": "stream",
     "text": [
      "\u001b[1m17/17\u001b[0m \u001b[32m━━━━━━━━━━━━━━━━━━━━\u001b[0m\u001b[37m\u001b[0m \u001b[1m0s\u001b[0m 8ms/step - loss: 3.6966e-04\n",
      "Test Loss: 0.0005444387788884342\n"
     ]
    }
   ],
   "source": [
    "loss = model.evaluate(X_test, y_test)\n",
    "print(f'Test Loss: {loss}')\n"
   ]
  },
  {
   "cell_type": "code",
   "execution_count": 17,
   "metadata": {},
   "outputs": [],
   "source": [
    "agg_data_filtered = agg_data[agg_data['SALES'] >= 1]\n"
   ]
  },
  {
   "cell_type": "code",
   "execution_count": 18,
   "metadata": {},
   "outputs": [],
   "source": [
    "def predict_demand(trend_start, trend_end):\n",
    "    trend_data = agg_data[(agg_data['YEARWEEK'] >= trend_start) & (agg_data['YEARWEEK'] <= trend_end)]\n",
    "    scaled_trend_data = scaler.transform(trend_data[features])\n",
    "    X_trend, _ = create_sequences(scaled_trend_data, sequence_length)\n",
    "    predictions = model.predict(X_trend)\n",
    "    predictions = scaler.inverse_transform(predictions)\n",
    "    return predictions"
   ]
  },
  {
   "cell_type": "code",
   "execution_count": 19,
   "metadata": {},
   "outputs": [
    {
     "name": "stdout",
     "output_type": "stream",
     "text": [
      "\u001b[1m1/1\u001b[0m \u001b[32m━━━━━━━━━━━━━━━━━━━━\u001b[0m\u001b[37m\u001b[0m \u001b[1m0s\u001b[0m 224ms/step\n",
      "[[-499.9974      16.179836 ]\n",
      " [-522.30383     15.625603 ]\n",
      " [-554.6562      14.84457  ]\n",
      " [-572.1456      14.4076395]\n",
      " [-599.7797      13.792891 ]\n",
      " [-627.31525     13.207533 ]\n",
      " [-648.66705     12.642433 ]\n",
      " [-646.9472      12.473034 ]\n",
      " [-650.1125      12.426548 ]\n",
      " [-652.1162      12.417109 ]\n",
      " [-655.57904     12.374715 ]\n",
      " [-662.66174     12.320017 ]\n",
      " [-666.8657      12.3042965]\n",
      " [-669.1154      12.411268 ]\n",
      " [-670.3116      12.42164  ]]\n"
     ]
    }
   ],
   "source": [
    "trend_start = '2024-01-01'\n",
    "trend_end = '2024-12-31'  \n",
    "predictions = predict_demand(trend_start, trend_end)\n",
    "print(predictions)\n"
   ]
  },
  {
   "cell_type": "code",
   "execution_count": 20,
   "metadata": {},
   "outputs": [],
   "source": [
    "import matplotlib.pyplot as plt\n"
   ]
  },
  {
   "cell_type": "code",
   "execution_count": 21,
   "metadata": {},
   "outputs": [
    {
     "data": {
      "image/png": "[encoded data removed]",
      "text/plain": [
       "<Figure size 1200x600 with 1 Axes>"
      ]
     },
     "metadata": {},
     "output_type": "display_data"
    }
   ],
   "source": [
    "predictions_df = pd.DataFrame(predictions, columns=['Predicted Sales t+1', 'Predicted Sales t+2'])\n",
    "\n",
    "# Generate a range of dates corresponding to the prediction periods\n",
    "date_range = pd.date_range(start=trend_start, periods=len(predictions), freq='W')\n",
    "\n",
    "# Plot the predicted sales against time\n",
    "plt.figure(figsize=(12, 6))\n",
    "plt.plot(date_range, predictions_df['Predicted Sales t+1'], label='Predicted Sales t+1')\n",
    "plt.plot(date_range, predictions_df['Predicted Sales t+2'], label='Predicted Sales t+2')\n",
    "plt.xlabel('Time')\n",
    "plt.ylabel('Sales')\n",
    "plt.title('Forecasted Sales Trend for 2024')\n",
    "plt.legend()\n",
    "plt.grid(True)\n",
    "plt.show()"
   ]
  },
  {
   "cell_type": "code",
   "execution_count": 30,
   "metadata": {},
   "outputs": [],
   "source": [
    "from sklearn.metrics import mean_squared_error"
   ]
  },
  {
   "cell_type": "code",
   "execution_count": null,
   "metadata": {},
   "outputs": [],
   "source": [
    "np.sqrt(mean_squared_error(test['SALES'],prediction))"
   ]
  },
  {
   "cell_type": "code",
   "execution_count": 31,
   "metadata": {},
   "outputs": [
    {
     "name": "stdout",
     "output_type": "stream",
     "text": [
      "\u001b[1m17/17\u001b[0m \u001b[32m━━━━━━━━━━━━━━━━━━━━\u001b[0m\u001b[37m\u001b[0m \u001b[1m0s\u001b[0m 6ms/step\n",
      "Mean Squared Error: 2844130.1262689135\n"
     ]
    }
   ],
   "source": [
    "predictions = model.predict(X_test)\n",
    "\n",
    "predictions = scaler.inverse_transform(predictions)\n",
    "\n",
    "mse = mean_squared_error(y_test, predictions)\n",
    "print(f'Mean Squared Error: {mse}')"
   ]
  },
  {
   "cell_type": "code",
   "execution_count": null,
   "metadata": {},
   "outputs": [],
   "source": []
  }
 ],
 "metadata": {
  "kernelspec": {
   "display_name": ".venv",
   "language": "python",
   "name": "python3"
  },
  "language_info": {
   "codemirror_mode": {
    "name": "ipython",
    "version": 3
   },
   "file_extension": ".py",
   "mimetype": "text/x-python",
   "name": "python",
   "nbconvert_exporter": "python",
   "pygments_lexer": "ipython3",
   "version": "3.9.6"
  }
 },
 "nbformat": 4,
 "nbformat_minor": 2
}
