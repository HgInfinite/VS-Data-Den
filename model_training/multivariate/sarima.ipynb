{
 "cells": [
  {
   "cell_type": "code",
   "execution_count": 1,
   "metadata": {},
   "outputs": [],
   "source": [
    "import pandas as pd\n",
    "from statsmodels.tsa.statespace.sarimax import SARIMAX\n",
    "from sklearn.metrics import mean_absolute_percentage_error\n",
    "import statsmodels.api as sm"
   ]
  },
  {
   "cell_type": "code",
   "execution_count": 2,
   "metadata": {},
   "outputs": [],
   "source": [
    "data = pd.read_csv('/Users/harshitgupta/Desktop/vs /VS-Data-Den/rm_dataset_filtered.csv')\n"
   ]
  },
  {
   "cell_type": "code",
   "execution_count": 3,
   "metadata": {},
   "outputs": [],
   "source": [
    "data['date_field'] = pd.to_datetime(data['date_field'])"
   ]
  },
  {
   "cell_type": "code",
   "execution_count": 4,
   "metadata": {},
   "outputs": [],
   "source": [
    "regional_masters = data['regional_master'].unique()"
   ]
  },
  {
   "cell_type": "code",
   "execution_count": 1,
   "metadata": {},
   "outputs": [],
   "source": [
    "mape_dict = {}"
   ]
  },
  {
   "cell_type": "code",
   "execution_count": 2,
   "metadata": {},
   "outputs": [
    {
     "ename": "NameError",
     "evalue": "name 'regional_masters' is not defined",
     "output_type": "error",
     "traceback": [
      "\u001b[0;31m---------------------------------------------------------------------------\u001b[0m",
      "\u001b[0;31mNameError\u001b[0m                                 Traceback (most recent call last)",
      "Cell \u001b[0;32mIn[2], line 1\u001b[0m\n\u001b[0;32m----> 1\u001b[0m \u001b[38;5;28;01mfor\u001b[39;00m master \u001b[38;5;129;01min\u001b[39;00m \u001b[43mregional_masters\u001b[49m:\n\u001b[1;32m      2\u001b[0m     \u001b[38;5;66;03m# Filter data for the current regional master\u001b[39;00m\n\u001b[1;32m      3\u001b[0m     master_data \u001b[38;5;241m=\u001b[39m data[data[\u001b[38;5;124m'\u001b[39m\u001b[38;5;124mregional_master\u001b[39m\u001b[38;5;124m'\u001b[39m] \u001b[38;5;241m==\u001b[39m master]\n\u001b[1;32m      5\u001b[0m     \u001b[38;5;66;03m# Determine the index for splitting the data (80% for training)\u001b[39;00m\n",
      "\u001b[0;31mNameError\u001b[0m: name 'regional_masters' is not defined"
     ]
    }
   ],
   "source": [
    "for master in regional_masters:\n",
    "\n",
    "    master_data = data[data['regional_master'] == master]\n",
    "    \n",
    "\n",
    "    split_index = int(0.8 * len(master_data))\n",
    "    \n",
    "\n",
    "    train = master_data.iloc[:split_index]\n",
    "    test = master_data.iloc[split_index:]\n",
    "    \n",
    "\n",
    "    model = sm.tsa.statespace.SARIMAX(train['sales'], order=(1,0,1), seasonal_order=(1,1,1,52))\n",
    "    sarima_model = model.fit()\n",
    "    \n",
    "\n",
    "    forecast = sarima_model.forecast(steps=len(test))\n",
    "    \n",
    "\n",
    "    overall_actual.extend(test['sales'])\n",
    "    overall_forecast.extend(forecast)\n",
    "    \n",
    "\n",
    "    mape = mean_absolute_percentage_error(test['sales'], forecast)\n",
    "    print(f\"MAPE for {master}: {mape}\")"
   ]
  },
  {
   "cell_type": "code",
   "execution_count": 9,
   "metadata": {},
   "outputs": [],
   "source": [
    "overall_mape = mean_absolute_percentage_error(overall_actual, overall_forecast)"
   ]
  },
  {
   "cell_type": "code",
   "execution_count": 10,
   "metadata": {},
   "outputs": [
    {
     "data": {
      "text/plain": [
       "1.0563547216281119e+19"
      ]
     },
     "execution_count": 10,
     "metadata": {},
     "output_type": "execute_result"
    }
   ],
   "source": [
    "overall_mape"
   ]
  }
 ],
 "metadata": {
  "kernelspec": {
   "display_name": ".venv",
   "language": "python",
   "name": "python3"
  },
  "language_info": {
   "codemirror_mode": {
    "name": "ipython",
    "version": 3
   },
   "file_extension": ".py",
   "mimetype": "text/x-python",
   "name": "python",
   "nbconvert_exporter": "python",
   "pygments_lexer": "ipython3",
   "version": "3.9.6"
  }
 },
 "nbformat": 4,
 "nbformat_minor": 2
}
