{
 "cells": [
  {
   "cell_type": "code",
   "execution_count": 1,
   "metadata": {},
   "outputs": [],
   "source": [
    "import pandas as pd"
   ]
  },
  {
   "cell_type": "code",
   "execution_count": 2,
   "metadata": {},
   "outputs": [],
   "source": [
    "from statsmodels.tsa.arima.model import ARIMA\n",
    "import numpy as np\n",
    "from itertools import product"
   ]
  },
  {
   "cell_type": "code",
   "execution_count": 3,
   "metadata": {},
   "outputs": [],
   "source": [
    "sales_matrix = np.load('/Users/harshitgupta/Desktop/vs /VS-Data-Den/data_cleaning/sales_matrix.npy')"
   ]
  },
  {
   "cell_type": "code",
   "execution_count": 4,
   "metadata": {},
   "outputs": [],
   "source": [
    "def calculate_mape(true_values, forecast_values):\n",
    "    return np.mean(np.abs((true_values - forecast_values) / true_values)) * 100"
   ]
  },
  {
   "cell_type": "code",
   "execution_count": 5,
   "metadata": {},
   "outputs": [],
   "source": [
    "def find_best_arima_order(regional_master_sales):\n",
    "    best_mape = float('inf')\n",
    "    best_order = None\n",
    "    \n",
    "  \n",
    "    p_values = range(3)  \n",
    "    d_values = range(3) \n",
    "    q_values = range(3) \n",
    "\n",
    "    order_combinations = product(p_values, d_values, q_values)\n",
    "\n",
    "    for order in order_combinations:\n",
    "        try:\n",
    "    \n",
    "            train_size = int(len(regional_master_sales) * 0.8)\n",
    "            train_data, test_data = regional_master_sales[:train_size], regional_master_sales[train_size:]\n",
    "\n",
    "\n",
    "            model = ARIMA(train_data, order=order)\n",
    "            model_fit = model.fit()\n",
    "\n",
    "            forecast = model_fit.forecast(steps=len(test_data))\n",
    "\n",
    "\n",
    "            mape = calculate_mape(test_data, forecast)\n",
    "\n",
    "            if mape < best_mape:\n",
    "                best_mape = mape\n",
    "                best_order = order\n",
    "        except:\n",
    "            continue\n",
    "    \n",
    "    return best_order, best_mape\n"
   ]
  },
  {
   "cell_type": "code",
   "execution_count": 6,
   "metadata": {},
   "outputs": [
    {
     "name": "stderr",
     "output_type": "stream",
     "text": [
      "/Users/harshitgupta/Desktop/vs /VS-Data-Den/.venv/lib/python3.9/site-packages/statsmodels/tsa/statespace/sarimax.py:966: UserWarning: Non-stationary starting autoregressive parameters found. Using zeros as starting parameters.\n",
      "  warn('Non-stationary starting autoregressive parameters'\n",
      "/Users/harshitgupta/Desktop/vs /VS-Data-Den/.venv/lib/python3.9/site-packages/statsmodels/tsa/statespace/sarimax.py:978: UserWarning: Non-invertible starting MA parameters found. Using zeros as starting parameters.\n",
      "  warn('Non-invertible starting MA parameters found.'\n",
      "/Users/harshitgupta/Desktop/vs /VS-Data-Den/.venv/lib/python3.9/site-packages/statsmodels/base/model.py:607: ConvergenceWarning: Maximum Likelihood optimization failed to converge. Check mle_retvals\n",
      "  warnings.warn(\"Maximum Likelihood optimization failed to \"\n",
      "/var/folders/_p/ljb0l43112vc95swz8nhgv340000gn/T/ipykernel_90089/2922862027.py:2: RuntimeWarning: divide by zero encountered in divide\n",
      "  return np.mean(np.abs((true_values - forecast_values) / true_values)) * 100\n"
     ]
    },
    {
     "name": "stdout",
     "output_type": "stream",
     "text": [
      "Best ARIMA order: (2, 2, 2), Best MAPE: 16.352874721326657%\n"
     ]
    },
    {
     "name": "stderr",
     "output_type": "stream",
     "text": [
      "/Users/harshitgupta/Desktop/vs /VS-Data-Den/.venv/lib/python3.9/site-packages/statsmodels/base/model.py:607: ConvergenceWarning: Maximum Likelihood optimization failed to converge. Check mle_retvals\n",
      "  warnings.warn(\"Maximum Likelihood optimization failed to \"\n"
     ]
    },
    {
     "name": "stdout",
     "output_type": "stream",
     "text": [
      "Best ARIMA order: None, Best MAPE: inf%\n",
      "Best ARIMA order: None, Best MAPE: inf%\n",
      "Best ARIMA order: (1, 2, 2), Best MAPE: 47.188462624379454%\n"
     ]
    },
    {
     "name": "stderr",
     "output_type": "stream",
     "text": [
      "/Users/harshitgupta/Desktop/vs /VS-Data-Den/.venv/lib/python3.9/site-packages/statsmodels/base/model.py:607: ConvergenceWarning: Maximum Likelihood optimization failed to converge. Check mle_retvals\n",
      "  warnings.warn(\"Maximum Likelihood optimization failed to \"\n"
     ]
    },
    {
     "name": "stdout",
     "output_type": "stream",
     "text": [
      "Best ARIMA order: (0, 2, 0), Best MAPE: 15.604765354293518%\n",
      "Best ARIMA order: (0, 2, 2), Best MAPE: 26.315392186595847%\n"
     ]
    },
    {
     "name": "stderr",
     "output_type": "stream",
     "text": [
      "/var/folders/_p/ljb0l43112vc95swz8nhgv340000gn/T/ipykernel_90089/2922862027.py:2: RuntimeWarning: invalid value encountered in divide\n",
      "  return np.mean(np.abs((true_values - forecast_values) / true_values)) * 100\n"
     ]
    },
    {
     "name": "stdout",
     "output_type": "stream",
     "text": [
      "Best ARIMA order: None, Best MAPE: inf%\n",
      "Best ARIMA order: (0, 2, 1), Best MAPE: 21.93230252325927%\n",
      "Best ARIMA order: None, Best MAPE: inf%\n",
      "Best ARIMA order: (1, 2, 2), Best MAPE: 29.426093263358666%\n",
      "Best ARIMA order: (0, 0, 0), Best MAPE: 10.095196438605374%\n",
      "Best ARIMA order: (2, 2, 2), Best MAPE: 9.552968573560127%\n",
      "Best ARIMA order: (2, 1, 2), Best MAPE: 34.67975780307236%\n",
      "Best ARIMA order: (1, 2, 1), Best MAPE: 10.097867800671862%\n",
      "Best ARIMA order: (2, 1, 0), Best MAPE: 14.452585950813052%\n",
      "Best ARIMA order: (2, 2, 2), Best MAPE: 25.75721692576903%\n",
      "Best ARIMA order: None, Best MAPE: inf%\n",
      "Best ARIMA order: (2, 2, 0), Best MAPE: 42.03124804893931%\n"
     ]
    },
    {
     "name": "stderr",
     "output_type": "stream",
     "text": [
      "/Users/harshitgupta/Desktop/vs /VS-Data-Den/.venv/lib/python3.9/site-packages/statsmodels/base/model.py:607: ConvergenceWarning: Maximum Likelihood optimization failed to converge. Check mle_retvals\n",
      "  warnings.warn(\"Maximum Likelihood optimization failed to \"\n"
     ]
    },
    {
     "name": "stdout",
     "output_type": "stream",
     "text": [
      "Best ARIMA order: None, Best MAPE: inf%\n",
      "Best ARIMA order: (1, 2, 2), Best MAPE: 30.333668085912613%\n",
      "Best ARIMA order: (1, 2, 2), Best MAPE: 15.230151784848061%\n",
      "Best ARIMA order: (1, 0, 2), Best MAPE: 22.445147645254178%\n",
      "Best ARIMA order: (1, 2, 2), Best MAPE: 15.879683622088963%\n",
      "Best ARIMA order: None, Best MAPE: inf%\n",
      "Best ARIMA order: (2, 1, 1), Best MAPE: 37.741895684873086%\n",
      "Best ARIMA order: (2, 2, 2), Best MAPE: 41.09528358199746%\n",
      "Best ARIMA order: (1, 1, 0), Best MAPE: 19.643108264353728%\n",
      "Best ARIMA order: (0, 2, 2), Best MAPE: 21.87716678874498%\n",
      "Best ARIMA order: (0, 2, 1), Best MAPE: 18.467769155097656%\n",
      "Best ARIMA order: (0, 2, 2), Best MAPE: 17.182768680793174%\n",
      "Best ARIMA order: None, Best MAPE: inf%\n"
     ]
    },
    {
     "name": "stderr",
     "output_type": "stream",
     "text": [
      "/Users/harshitgupta/Desktop/vs /VS-Data-Den/.venv/lib/python3.9/site-packages/statsmodels/base/model.py:607: ConvergenceWarning: Maximum Likelihood optimization failed to converge. Check mle_retvals\n",
      "  warnings.warn(\"Maximum Likelihood optimization failed to \"\n"
     ]
    },
    {
     "name": "stdout",
     "output_type": "stream",
     "text": [
      "Best ARIMA order: (2, 1, 2), Best MAPE: 54.31348178935351%\n"
     ]
    },
    {
     "name": "stderr",
     "output_type": "stream",
     "text": [
      "/Users/harshitgupta/Desktop/vs /VS-Data-Den/.venv/lib/python3.9/site-packages/statsmodels/base/model.py:607: ConvergenceWarning: Maximum Likelihood optimization failed to converge. Check mle_retvals\n",
      "  warnings.warn(\"Maximum Likelihood optimization failed to \"\n"
     ]
    },
    {
     "name": "stdout",
     "output_type": "stream",
     "text": [
      "Best ARIMA order: (2, 2, 1), Best MAPE: 28.41409422502339%\n",
      "Best ARIMA order: None, Best MAPE: inf%\n",
      "Best ARIMA order: (1, 2, 0), Best MAPE: 31.446600044710888%\n",
      "Best ARIMA order: (1, 1, 0), Best MAPE: 21.66156190621974%\n",
      "Best ARIMA order: None, Best MAPE: inf%\n"
     ]
    },
    {
     "name": "stderr",
     "output_type": "stream",
     "text": [
      "/Users/harshitgupta/Desktop/vs /VS-Data-Den/.venv/lib/python3.9/site-packages/statsmodels/base/model.py:607: ConvergenceWarning: Maximum Likelihood optimization failed to converge. Check mle_retvals\n",
      "  warnings.warn(\"Maximum Likelihood optimization failed to \"\n"
     ]
    },
    {
     "name": "stdout",
     "output_type": "stream",
     "text": [
      "Best ARIMA order: (1, 1, 0), Best MAPE: 14.975334330896334%\n"
     ]
    },
    {
     "name": "stderr",
     "output_type": "stream",
     "text": [
      "/Users/harshitgupta/Desktop/vs /VS-Data-Den/.venv/lib/python3.9/site-packages/statsmodels/base/model.py:607: ConvergenceWarning: Maximum Likelihood optimization failed to converge. Check mle_retvals\n",
      "  warnings.warn(\"Maximum Likelihood optimization failed to \"\n"
     ]
    },
    {
     "name": "stdout",
     "output_type": "stream",
     "text": [
      "Best ARIMA order: (0, 2, 0), Best MAPE: 215.37355303615416%\n"
     ]
    },
    {
     "name": "stderr",
     "output_type": "stream",
     "text": [
      "/Users/harshitgupta/Desktop/vs /VS-Data-Den/.venv/lib/python3.9/site-packages/statsmodels/base/model.py:607: ConvergenceWarning: Maximum Likelihood optimization failed to converge. Check mle_retvals\n",
      "  warnings.warn(\"Maximum Likelihood optimization failed to \"\n"
     ]
    },
    {
     "name": "stdout",
     "output_type": "stream",
     "text": [
      "Best ARIMA order: (1, 1, 1), Best MAPE: 104.66731134322387%\n",
      "Best ARIMA order: (2, 2, 2), Best MAPE: 32.394869039506396%\n",
      "Best ARIMA order: (1, 1, 2), Best MAPE: 8.075581089096712%\n",
      "Best ARIMA order: None, Best MAPE: inf%\n",
      "Best ARIMA order: (1, 2, 2), Best MAPE: 36.919451724808425%\n",
      "Best ARIMA order: (1, 1, 2), Best MAPE: 14.845964953246876%\n",
      "Best ARIMA order: None, Best MAPE: inf%\n"
     ]
    },
    {
     "name": "stderr",
     "output_type": "stream",
     "text": [
      "/Users/harshitgupta/Desktop/vs /VS-Data-Den/.venv/lib/python3.9/site-packages/statsmodels/base/model.py:607: ConvergenceWarning: Maximum Likelihood optimization failed to converge. Check mle_retvals\n",
      "  warnings.warn(\"Maximum Likelihood optimization failed to \"\n"
     ]
    },
    {
     "name": "stdout",
     "output_type": "stream",
     "text": [
      "Best ARIMA order: None, Best MAPE: inf%\n"
     ]
    },
    {
     "name": "stderr",
     "output_type": "stream",
     "text": [
      "/Users/harshitgupta/Desktop/vs /VS-Data-Den/.venv/lib/python3.9/site-packages/statsmodels/base/model.py:607: ConvergenceWarning: Maximum Likelihood optimization failed to converge. Check mle_retvals\n",
      "  warnings.warn(\"Maximum Likelihood optimization failed to \"\n"
     ]
    },
    {
     "name": "stdout",
     "output_type": "stream",
     "text": [
      "Best ARIMA order: None, Best MAPE: inf%\n"
     ]
    },
    {
     "name": "stderr",
     "output_type": "stream",
     "text": [
      "/Users/harshitgupta/Desktop/vs /VS-Data-Den/.venv/lib/python3.9/site-packages/statsmodels/base/model.py:607: ConvergenceWarning: Maximum Likelihood optimization failed to converge. Check mle_retvals\n",
      "  warnings.warn(\"Maximum Likelihood optimization failed to \"\n"
     ]
    },
    {
     "name": "stdout",
     "output_type": "stream",
     "text": [
      "Best ARIMA order: (1, 2, 1), Best MAPE: 30.34311991886173%\n",
      "Best ARIMA order: (2, 0, 2), Best MAPE: 52.728660987742884%\n",
      "Best ARIMA order: (0, 2, 2), Best MAPE: 11.241704225703929%\n",
      "Best ARIMA order: (1, 2, 2), Best MAPE: 19.668929930336486%\n"
     ]
    },
    {
     "name": "stderr",
     "output_type": "stream",
     "text": [
      "/Users/harshitgupta/Desktop/vs /VS-Data-Den/.venv/lib/python3.9/site-packages/statsmodels/base/model.py:607: ConvergenceWarning: Maximum Likelihood optimization failed to converge. Check mle_retvals\n",
      "  warnings.warn(\"Maximum Likelihood optimization failed to \"\n"
     ]
    }
   ],
   "source": [
    "for regional_master_sales in sales_matrix:\n",
    "    best_order, best_mape = find_best_arima_order(regional_master_sales)\n",
    "    print(f\"Best ARIMA order: {best_order}, Best MAPE: {best_mape}%\")"
   ]
  },
  {
   "cell_type": "code",
   "execution_count": null,
   "metadata": {},
   "outputs": [],
   "source": []
  }
 ],
 "metadata": {
  "kernelspec": {
   "display_name": ".venv",
   "language": "python",
   "name": "python3"
  },
  "language_info": {
   "codemirror_mode": {
    "name": "ipython",
    "version": 3
   },
   "file_extension": ".py",
   "mimetype": "text/x-python",
   "name": "python",
   "nbconvert_exporter": "python",
   "pygments_lexer": "ipython3",
   "version": "3.9.6"
  }
 },
 "nbformat": 4,
 "nbformat_minor": 2
}
