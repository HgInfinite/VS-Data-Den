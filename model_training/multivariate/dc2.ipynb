{
 "cells": [
  {
   "cell_type": "code",
   "execution_count": 31,
   "metadata": {},
   "outputs": [],
   "source": [
    "import pandas as pd\n",
    "\n",
    "\n",
    "# Read the parquet file into a DataFrame\n",
    "df = pd.read_parquet('/Users/harshitgupta/Desktop/vs /VS-Data-Den/model_training/multivariate/sorted_data.parquet')\n",
    "\n"
   ]
  },
  {
   "cell_type": "code",
   "execution_count": 32,
   "metadata": {},
   "outputs": [
    {
     "data": {
      "text/plain": [
       "Index(['PTNR_RM_CODE', 'WEEK', 'DATE_FIELD', 'SALES', 'FLAG', 'yearweeks'], dtype='object')"
      ]
     },
     "execution_count": 32,
     "metadata": {},
     "output_type": "execute_result"
    }
   ],
   "source": [
    "df.columns"
   ]
  },
  {
   "cell_type": "code",
   "execution_count": 33,
   "metadata": {},
   "outputs": [],
   "source": [
    "df.drop(['yearweeks'], axis=1, inplace=True)"
   ]
  },
  {
   "cell_type": "code",
   "execution_count": 34,
   "metadata": {},
   "outputs": [
    {
     "data": {
      "text/plain": [
       "Index(['PTNR_RM_CODE', 'WEEK', 'DATE_FIELD', 'SALES', 'FLAG'], dtype='object')"
      ]
     },
     "execution_count": 34,
     "metadata": {},
     "output_type": "execute_result"
    }
   ],
   "source": [
    "df.columns"
   ]
  },
  {
   "cell_type": "code",
   "execution_count": 35,
   "metadata": {},
   "outputs": [],
   "source": [
    "df['DATE_FIELD'] = pd.to_datetime(df['DATE_FIELD'])  # Convert to datetime if not already in datetime format\n",
    "df['YEARWEEKS'] = df['DATE_FIELD'].dt.strftime('%Y-%U')\n",
    "\n",
    "# If you want to convert the YEARWEEKS to integer format\n",
    "df['YEARWEEKS'] = df['DATE_FIELD'].dt.strftime('%Y%U').astype(int)"
   ]
  },
  {
   "cell_type": "code",
   "execution_count": 36,
   "metadata": {},
   "outputs": [],
   "source": [
    "df.drop(['DATE_FIELD'], axis=1, inplace=True)"
   ]
  },
  {
   "cell_type": "code",
   "execution_count": 37,
   "metadata": {},
   "outputs": [
    {
     "data": {
      "text/plain": [
       "Index(['PTNR_RM_CODE', 'WEEK', 'SALES', 'FLAG', 'YEARWEEKS'], dtype='object')"
      ]
     },
     "execution_count": 37,
     "metadata": {},
     "output_type": "execute_result"
    }
   ],
   "source": [
    "df.columns"
   ]
  },
  {
   "cell_type": "code",
   "execution_count": 43,
   "metadata": {},
   "outputs": [],
   "source": [
    "def fill_missing_yearweeks(group):\n",
    "    min_yearweek = group['YEARWEEKS'].astype(int).min()\n",
    "    max_yearweek = group['YEARWEEKS'].astype(int).max()\n",
    "    all_yearweeks = [str(yw) for yw in range(min_yearweek, max_yearweek + 1)]\n",
    "    missing_yearweeks = set(all_yearweeks) - set(group['YEARWEEKS'])\n",
    "    missing_data = []\n",
    "    for yw in missing_yearweeks:\n",
    "        week = int(yw[-2:])  # Extract week from yearweek\n",
    "        missing_data.append({'PTNR_RM_CODE': group['PTNR_RM_CODE'].iloc[0],\n",
    "                             'WEEK': week,\n",
    "                             'SALES': 0,\n",
    "                             'YEARWEEKS': yw})\n",
    "    return pd.DataFrame(missing_data)\n"
   ]
  },
  {
   "cell_type": "code",
   "execution_count": 44,
   "metadata": {},
   "outputs": [
    {
     "name": "stderr",
     "output_type": "stream",
     "text": [
      "/var/folders/_p/ljb0l43112vc95swz8nhgv340000gn/T/ipykernel_52267/3338041370.py:1: DeprecationWarning: DataFrameGroupBy.apply operated on the grouping columns. This behavior is deprecated, and in a future version of pandas the grouping columns will be excluded from the operation. Either pass `include_groups=False` to exclude the groupings or explicitly select the grouping columns after groupby to silence this warning.\n",
      "  filled_data = df.groupby('PTNR_RM_CODE').apply(fill_missing_yearweeks)\n"
     ]
    }
   ],
   "source": [
    "filled_data = df.groupby('PTNR_RM_CODE').apply(fill_missing_yearweeks)"
   ]
  },
  {
   "cell_type": "code",
   "execution_count": null,
   "metadata": {},
   "outputs": [],
   "source": [
    "df_filled = pd.concat([df, filled_data], ignore_index=True)"
   ]
  },
  {
   "cell_type": "code",
   "execution_count": 41,
   "metadata": {},
   "outputs": [],
   "source": [
    "df_filled.sort_values(by=['PTNR_RM_CODE', 'YEARWEEKS'], inplace=True)"
   ]
  },
  {
   "cell_type": "code",
   "execution_count": 42,
   "metadata": {},
   "outputs": [],
   "source": [
    "grouped_data = df_filled.groupby(['PTNR_RM_CODE', 'YEARWEEKS']).sum().reset_index()"
   ]
  },
  {
   "cell_type": "code",
   "execution_count": null,
   "metadata": {},
   "outputs": [],
   "source": []
  }
 ],
 "metadata": {
  "kernelspec": {
   "display_name": ".venv",
   "language": "python",
   "name": "python3"
  },
  "language_info": {
   "codemirror_mode": {
    "name": "ipython",
    "version": 3
   },
   "file_extension": ".py",
   "mimetype": "text/x-python",
   "name": "python",
   "nbconvert_exporter": "python",
   "pygments_lexer": "ipython3",
   "version": "3.9.6"
  }
 },
 "nbformat": 4,
 "nbformat_minor": 2
}
