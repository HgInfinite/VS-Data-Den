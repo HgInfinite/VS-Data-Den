{
 "cells": [
  {
   "cell_type": "code",
   "execution_count": 3,
   "metadata": {},
   "outputs": [],
   "source": [
    "import pandas as pd\n",
    "import numpy as np\n",
    "from sklearn.model_selection import train_test_split\n",
    "import lightgbm as lgb"
   ]
  },
  {
   "cell_type": "code",
   "execution_count": 4,
   "metadata": {},
   "outputs": [],
   "source": [
    "file_path = '/Users/harshitgupta/Desktop/vs /VS-Data-Den/data_cleaning/filled_model_dataset.csv'"
   ]
  },
  {
   "cell_type": "code",
   "execution_count": 5,
   "metadata": {},
   "outputs": [],
   "source": [
    "df = pd.read_csv(file_path)\n"
   ]
  },
  {
   "cell_type": "code",
   "execution_count": 6,
   "metadata": {},
   "outputs": [
    {
     "name": "stderr",
     "output_type": "stream",
     "text": [
      "/var/folders/_p/ljb0l43112vc95swz8nhgv340000gn/T/ipykernel_36291/2900868314.py:1: FutureWarning: A value is trying to be set on a copy of a DataFrame or Series through chained assignment using an inplace method.\n",
      "The behavior will change in pandas 3.0. This inplace method will never work because the intermediate object on which we are setting values always behaves as a copy.\n",
      "\n",
      "For example, when doing 'df[col].method(value, inplace=True)', try using 'df.method({col: value}, inplace=True)' or df[col] = df[col].method(value) instead, to perform the operation inplace on the original object.\n",
      "\n",
      "\n",
      "  df['TOTAL_SALES'].fillna(0, inplace=True)\n"
     ]
    }
   ],
   "source": [
    "df['TOTAL_SALES'].fillna(0, inplace=True)"
   ]
  },
  {
   "cell_type": "code",
   "execution_count": 7,
   "metadata": {},
   "outputs": [],
   "source": [
    "df['YEARWEEK'] = pd.to_datetime(df['YEARWEEK'])\n",
    "df['week_of_year'] = df['YEARWEEK'].dt.isocalendar().week"
   ]
  },
  {
   "cell_type": "code",
   "execution_count": 8,
   "metadata": {},
   "outputs": [],
   "source": [
    "df['YEARWEEK'] = (df['YEARWEEK'] - pd.Timestamp('1970-01-01')) // pd.Timedelta('1s')\n",
    "\n"
   ]
  },
  {
   "cell_type": "code",
   "execution_count": 9,
   "metadata": {},
   "outputs": [
    {
     "data": {
      "text/html": [
       "<div>\n",
       "<style scoped>\n",
       "    .dataframe tbody tr th:only-of-type {\n",
       "        vertical-align: middle;\n",
       "    }\n",
       "\n",
       "    .dataframe tbody tr th {\n",
       "        vertical-align: top;\n",
       "    }\n",
       "\n",
       "    .dataframe thead th {\n",
       "        text-align: right;\n",
       "    }\n",
       "</style>\n",
       "<table border=\"1\" class=\"dataframe\">\n",
       "  <thead>\n",
       "    <tr style=\"text-align: right;\">\n",
       "      <th></th>\n",
       "      <th>PTNR_REGIONAL_MASTER_CD</th>\n",
       "      <th>YEARWEEK</th>\n",
       "      <th>TOTAL_SALES</th>\n",
       "      <th>flag</th>\n",
       "      <th>week_of_year</th>\n",
       "    </tr>\n",
       "  </thead>\n",
       "  <tbody>\n",
       "    <tr>\n",
       "      <th>0</th>\n",
       "      <td>0.0</td>\n",
       "      <td>1575763200</td>\n",
       "      <td>28994.45</td>\n",
       "      <td>active</td>\n",
       "      <td>49</td>\n",
       "    </tr>\n",
       "    <tr>\n",
       "      <th>1</th>\n",
       "      <td>0.0</td>\n",
       "      <td>1576368000</td>\n",
       "      <td>127699.87</td>\n",
       "      <td>active</td>\n",
       "      <td>50</td>\n",
       "    </tr>\n",
       "    <tr>\n",
       "      <th>2</th>\n",
       "      <td>0.0</td>\n",
       "      <td>1576972800</td>\n",
       "      <td>102609.00</td>\n",
       "      <td>active</td>\n",
       "      <td>51</td>\n",
       "    </tr>\n",
       "    <tr>\n",
       "      <th>3</th>\n",
       "      <td>0.0</td>\n",
       "      <td>1577577600</td>\n",
       "      <td>0.00</td>\n",
       "      <td>inactive</td>\n",
       "      <td>52</td>\n",
       "    </tr>\n",
       "    <tr>\n",
       "      <th>4</th>\n",
       "      <td>0.0</td>\n",
       "      <td>1578182400</td>\n",
       "      <td>0.00</td>\n",
       "      <td>inactive</td>\n",
       "      <td>1</td>\n",
       "    </tr>\n",
       "  </tbody>\n",
       "</table>\n",
       "</div>"
      ],
      "text/plain": [
       "   PTNR_REGIONAL_MASTER_CD    YEARWEEK  TOTAL_SALES      flag  week_of_year\n",
       "0                      0.0  1575763200     28994.45    active            49\n",
       "1                      0.0  1576368000    127699.87    active            50\n",
       "2                      0.0  1576972800    102609.00    active            51\n",
       "3                      0.0  1577577600         0.00  inactive            52\n",
       "4                      0.0  1578182400         0.00  inactive             1"
      ]
     },
     "execution_count": 9,
     "metadata": {},
     "output_type": "execute_result"
    }
   ],
   "source": [
    "df.head()"
   ]
  },
  {
   "cell_type": "code",
   "execution_count": 10,
   "metadata": {},
   "outputs": [],
   "source": [
    "# features = df[['PTNR_REGIONAL_MASTER_CD', 'YEARWEEK', 'week_of_year', 'flag']]\n",
    "# target = df['TOTAL_SALES']"
   ]
  },
  {
   "cell_type": "code",
   "execution_count": 11,
   "metadata": {},
   "outputs": [],
   "source": [
    "import matplotlib.pyplot as plt"
   ]
  },
  {
   "cell_type": "code",
   "execution_count": 12,
   "metadata": {},
   "outputs": [],
   "source": [
    "df['flag'] = df['flag'].map({'inactive': 0, 'active': 1})\n"
   ]
  },
  {
   "cell_type": "code",
   "execution_count": 13,
   "metadata": {},
   "outputs": [],
   "source": [
    "grouped = df.groupby('PTNR_REGIONAL_MASTER_CD')"
   ]
  },
  {
   "cell_type": "code",
   "execution_count": null,
   "metadata": {},
   "outputs": [],
   "source": [
    "for master_cd, group in grouped:\n",
    "    features = group[['YEARWEEK', 'week_of_year', 'flag']]\n",
    "    target = group['TOTAL_SALES']\n",
    "    \n",
    "\n",
    "    X_train, X_test, y_train, y_test = train_test_split(features, target, test_size=0.3, shuffle=False)\n",
    "\n",
    "    train_data = lgb.Dataset(X_train, label=y_train)\n",
    "\n",
    "    params = {\n",
    "        'boosting_type': 'gbdt',\n",
    "        'objective': 'regression',\n",
    "        'metric': 'rmse',\n",
    "        'num_leaves': 31,\n",
    "        'learning_rate': 0.1,\n",
    "        'feature_fraction': 0.9,\n",
    "        'bagging_fraction': 0.8,\n",
    "        'bagging_freq': 5,\n",
    "        'verbose': 0\n",
    "    }\n",
    "\n",
    "    lgb_model = lgb.train(params, train_data)\n",
    "    \n",
    " \n",
    "    y_pred = lgb_model.predict(X_test)\n",
    "    \n",
    "\n",
    "    X_test['YEARWEEK'] = pd.to_datetime(X_test['YEARWEEK'], unit='s')\n",
    "    \n",
    "    \n",
    "    result_df = pd.DataFrame({\n",
    "        'YEARWEEK': X_test['YEARWEEK'],\n",
    "        'Actual': y_test,\n",
    "        'Predicted': y_pred\n",
    "    })\n",
    "    \n",
    "\n",
    "    plt.figure(figsize=(12, 6))\n",
    "    plt.plot(result_df['YEARWEEK'], result_df['Actual'], label='Actual')\n",
    "    plt.plot(result_df['YEARWEEK'], result_df['Predicted'], label='Predicted')\n",
    "    plt.xlabel('YEARWEEK')\n",
    "    plt.ylabel('TOTAL_SALES')\n",
    "    plt.title(f'Actual vs. Predicted Sales for PTNR_REGIONAL_MASTER_CD: {master_cd}')\n",
    "    plt.legend()\n",
    "    plt.show()"
   ]
  },
  {
   "cell_type": "markdown",
   "metadata": {},
   "source": [
    "SOME CHANGES\n"
   ]
  },
  {
   "cell_type": "code",
   "execution_count": 24,
   "metadata": {},
   "outputs": [],
   "source": [
    "grouped = df.groupby('PTNR_REGIONAL_MASTER_CD')\n"
   ]
  },
  {
   "cell_type": "code",
   "execution_count": null,
   "metadata": {},
   "outputs": [],
   "source": [
    "\n",
    "\n",
    "# for master_cd, group in grouped:\n",
    "#     features = group[['YEARWEEK', 'week_of_year', 'flag']]\n",
    "#     target = group['TOTAL_SALES']\n",
    "    \n",
    "#     # Split the data into train and test sets\n",
    "#     X_train, X_test, y_train, y_test = train_test_split(features, target, test_size=0.2, shuffle=False)\n",
    "    \n",
    "#     # Create the LightGBM dataset\n",
    "#     train_data = lgb.Dataset(X_train, label=y_train, categorical_feature=['week_of_year', 'flag'])\n",
    "    \n",
    "#     # Define the parameters for the LightGBM model\n",
    "#     params = {\n",
    "#         'boosting_type': 'gbdt',\n",
    "#         'objective': 'regression',\n",
    "#         'metric': 'rmse'\n",
    "#     }\n",
    "    \n",
    "#     # Train the LightGBM model\n",
    "#     lgb_model = lgb.train(params, train_data)\n",
    "    \n",
    "#     # Make predictions on the test set\n",
    "#     y_pred = lgb_model.predict(X_test)\n",
    "    \n",
    "#     # Convert 'YEARWEEK' back to datetime format\n",
    "#     X_test['YEARWEEK'] = pd.to_datetime(X_test['YEARWEEK'], unit='s')\n",
    "    \n",
    "#     # Create a DataFrame for plotting\n",
    "#     result_df = pd.DataFrame({\n",
    "#         'YEARWEEK': X_test['YEARWEEK'],\n",
    "#         'Actual': y_test,\n",
    "#         'Predicted': y_pred\n",
    "#     })\n",
    "    \n",
    "#     # Plot the actual vs predicted values\n",
    "#     plt.figure(figsize=(12, 6))\n",
    "#     plt.plot(result_df['YEARWEEK'], result_df['Actual'], label='Actual')\n",
    "#     plt.plot(result_df['YEARWEEK'], result_df['Predicted'], label='Predicted')\n",
    "#     plt.xlabel('YEARWEEK')\n",
    "#     plt.ylabel('TOTAL_SALES')\n",
    "#     plt.title(f'Actual vs. Predicted Sales for PTNR_REGIONAL_MASTER_CD: {master_cd}')\n",
    "#     plt.legend()\n",
    "#     plt.show()"
   ]
  },
  {
   "cell_type": "code",
   "execution_count": null,
   "metadata": {},
   "outputs": [],
   "source": []
  }
 ],
 "metadata": {
  "kernelspec": {
   "display_name": ".venv",
   "language": "python",
   "name": "python3"
  },
  "language_info": {
   "codemirror_mode": {
    "name": "ipython",
    "version": 3
   },
   "file_extension": ".py",
   "mimetype": "text/x-python",
   "name": "python",
   "nbconvert_exporter": "python",
   "pygments_lexer": "ipython3",
   "version": "3.9.6"
  }
 },
 "nbformat": 4,
 "nbformat_minor": 2
}
