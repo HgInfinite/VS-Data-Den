{
 "cells": [
  {
   "cell_type": "code",
   "execution_count": 2,
   "metadata": {},
   "outputs": [
    {
     "name": "stderr",
     "output_type": "stream",
     "text": [
      "/Users/harshitgupta/Desktop/vs /VS-Data-Den/.venv/lib/python3.9/site-packages/tqdm/auto.py:21: TqdmWarning: IProgress not found. Please update jupyter and ipywidgets. See https://ipywidgets.readthedocs.io/en/stable/user_install.html\n",
      "  from .autonotebook import tqdm as notebook_tqdm\n"
     ]
    }
   ],
   "source": [
    "import pandas as pd\n",
    "from prophet import Prophet"
   ]
  },
  {
   "cell_type": "code",
   "execution_count": 5,
   "metadata": {},
   "outputs": [],
   "source": [
    "data = pd.read_csv('/Users/harshitgupta/Desktop/vs /VS-Data-Den/rm_dataset.csv')\n"
   ]
  },
  {
   "cell_type": "code",
   "execution_count": 6,
   "metadata": {},
   "outputs": [],
   "source": [
    "data['date_field'] = pd.to_datetime(data['date_field'])"
   ]
  },
  {
   "cell_type": "code",
   "execution_count": 7,
   "metadata": {},
   "outputs": [],
   "source": [
    "data.rename(columns={'date_field': 'ds', 'sales': 'y'}, inplace=True)"
   ]
  },
  {
   "cell_type": "code",
   "execution_count": 8,
   "metadata": {},
   "outputs": [],
   "source": [
    "forecasts = {}"
   ]
  },
  {
   "cell_type": "code",
   "execution_count": 9,
   "metadata": {},
   "outputs": [],
   "source": [
    "data  = data.drop(columns= 'Unnamed: 0')"
   ]
  },
  {
   "cell_type": "code",
   "execution_count": 10,
   "metadata": {},
   "outputs": [
    {
     "name": "stderr",
     "output_type": "stream",
     "text": [
      "13:06:33 - cmdstanpy - INFO - Chain [1] start processing\n",
      "13:06:33 - cmdstanpy - INFO - Chain [1] done processing\n",
      "13:06:33 - cmdstanpy - INFO - Chain [1] start processing\n",
      "13:06:33 - cmdstanpy - INFO - Chain [1] done processing\n",
      "13:06:33 - cmdstanpy - INFO - Chain [1] start processing\n",
      "13:06:33 - cmdstanpy - INFO - Chain [1] done processing\n",
      "13:06:33 - cmdstanpy - INFO - Chain [1] start processing\n",
      "13:06:33 - cmdstanpy - INFO - Chain [1] done processing\n",
      "13:06:33 - cmdstanpy - INFO - Chain [1] start processing\n",
      "13:06:33 - cmdstanpy - INFO - Chain [1] done processing\n",
      "13:06:33 - cmdstanpy - INFO - Chain [1] start processing\n",
      "13:06:33 - cmdstanpy - INFO - Chain [1] done processing\n",
      "13:06:33 - cmdstanpy - INFO - Chain [1] start processing\n",
      "13:06:33 - cmdstanpy - INFO - Chain [1] done processing\n",
      "13:06:34 - cmdstanpy - INFO - Chain [1] start processing\n",
      "13:06:34 - cmdstanpy - INFO - Chain [1] done processing\n",
      "13:06:34 - cmdstanpy - INFO - Chain [1] start processing\n",
      "13:06:34 - cmdstanpy - INFO - Chain [1] done processing\n",
      "13:06:34 - cmdstanpy - INFO - Chain [1] start processing\n",
      "13:06:34 - cmdstanpy - INFO - Chain [1] done processing\n",
      "13:06:34 - cmdstanpy - INFO - Chain [1] start processing\n",
      "13:06:34 - cmdstanpy - INFO - Chain [1] done processing\n",
      "13:06:34 - cmdstanpy - INFO - Chain [1] start processing\n",
      "13:06:34 - cmdstanpy - INFO - Chain [1] done processing\n",
      "13:06:34 - cmdstanpy - INFO - Chain [1] start processing\n",
      "13:06:34 - cmdstanpy - INFO - Chain [1] done processing\n",
      "13:06:34 - cmdstanpy - INFO - Chain [1] start processing\n",
      "13:06:34 - cmdstanpy - INFO - Chain [1] done processing\n",
      "13:06:34 - cmdstanpy - INFO - Chain [1] start processing\n",
      "13:06:35 - cmdstanpy - INFO - Chain [1] done processing\n",
      "13:06:35 - cmdstanpy - INFO - Chain [1] start processing\n",
      "13:06:35 - cmdstanpy - INFO - Chain [1] done processing\n",
      "13:06:35 - cmdstanpy - INFO - Chain [1] start processing\n",
      "13:06:35 - cmdstanpy - INFO - Chain [1] done processing\n",
      "13:06:35 - cmdstanpy - INFO - Chain [1] start processing\n",
      "13:06:35 - cmdstanpy - INFO - Chain [1] done processing\n",
      "13:06:35 - cmdstanpy - INFO - Chain [1] start processing\n",
      "13:06:35 - cmdstanpy - INFO - Chain [1] done processing\n",
      "13:06:35 - cmdstanpy - INFO - Chain [1] start processing\n",
      "13:06:35 - cmdstanpy - INFO - Chain [1] done processing\n",
      "13:06:35 - cmdstanpy - INFO - Chain [1] start processing\n",
      "13:06:35 - cmdstanpy - INFO - Chain [1] done processing\n",
      "13:06:35 - cmdstanpy - INFO - Chain [1] start processing\n",
      "13:06:35 - cmdstanpy - INFO - Chain [1] done processing\n",
      "13:06:36 - cmdstanpy - INFO - Chain [1] start processing\n",
      "13:06:36 - cmdstanpy - INFO - Chain [1] done processing\n",
      "13:06:36 - cmdstanpy - INFO - Chain [1] start processing\n",
      "13:06:36 - cmdstanpy - INFO - Chain [1] done processing\n",
      "13:06:36 - cmdstanpy - INFO - Chain [1] start processing\n",
      "13:06:36 - cmdstanpy - INFO - Chain [1] done processing\n",
      "13:06:36 - cmdstanpy - INFO - Chain [1] start processing\n",
      "13:06:36 - cmdstanpy - INFO - Chain [1] done processing\n",
      "13:06:36 - cmdstanpy - INFO - Chain [1] start processing\n",
      "13:06:36 - cmdstanpy - INFO - Chain [1] done processing\n",
      "13:06:36 - cmdstanpy - INFO - Chain [1] start processing\n",
      "13:06:36 - cmdstanpy - INFO - Chain [1] done processing\n",
      "13:06:36 - cmdstanpy - INFO - Chain [1] start processing\n",
      "13:06:36 - cmdstanpy - INFO - Chain [1] done processing\n",
      "13:06:36 - cmdstanpy - INFO - Chain [1] start processing\n",
      "13:06:36 - cmdstanpy - INFO - Chain [1] done processing\n",
      "13:06:36 - cmdstanpy - INFO - Chain [1] start processing\n",
      "13:06:36 - cmdstanpy - INFO - Chain [1] done processing\n",
      "13:06:37 - cmdstanpy - INFO - Chain [1] start processing\n",
      "13:06:37 - cmdstanpy - INFO - Chain [1] done processing\n",
      "13:06:37 - cmdstanpy - INFO - Chain [1] start processing\n",
      "13:06:37 - cmdstanpy - INFO - Chain [1] done processing\n",
      "13:06:37 - cmdstanpy - INFO - Chain [1] start processing\n",
      "13:06:37 - cmdstanpy - INFO - Chain [1] done processing\n",
      "13:06:37 - cmdstanpy - INFO - Chain [1] start processing\n",
      "13:06:37 - cmdstanpy - INFO - Chain [1] done processing\n",
      "13:06:37 - cmdstanpy - INFO - Chain [1] start processing\n",
      "13:06:37 - cmdstanpy - INFO - Chain [1] done processing\n",
      "13:06:37 - cmdstanpy - INFO - Chain [1] start processing\n",
      "13:06:37 - cmdstanpy - INFO - Chain [1] done processing\n",
      "13:06:37 - cmdstanpy - INFO - Chain [1] start processing\n",
      "13:06:37 - cmdstanpy - INFO - Chain [1] done processing\n",
      "13:06:37 - cmdstanpy - INFO - Chain [1] start processing\n",
      "13:06:37 - cmdstanpy - INFO - Chain [1] done processing\n",
      "13:06:38 - cmdstanpy - INFO - Chain [1] start processing\n",
      "13:06:38 - cmdstanpy - INFO - Chain [1] done processing\n",
      "13:06:38 - cmdstanpy - INFO - Chain [1] start processing\n",
      "13:06:38 - cmdstanpy - INFO - Chain [1] done processing\n",
      "13:06:38 - cmdstanpy - INFO - Chain [1] start processing\n",
      "13:06:38 - cmdstanpy - INFO - Chain [1] done processing\n",
      "13:06:38 - cmdstanpy - INFO - Chain [1] start processing\n",
      "13:06:38 - cmdstanpy - INFO - Chain [1] done processing\n",
      "13:06:38 - cmdstanpy - INFO - Chain [1] start processing\n",
      "13:06:38 - cmdstanpy - INFO - Chain [1] done processing\n",
      "13:06:38 - cmdstanpy - INFO - Chain [1] start processing\n",
      "13:06:38 - cmdstanpy - INFO - Chain [1] done processing\n",
      "13:06:38 - cmdstanpy - INFO - Chain [1] start processing\n",
      "13:06:38 - cmdstanpy - INFO - Chain [1] done processing\n",
      "13:06:38 - cmdstanpy - INFO - Chain [1] start processing\n",
      "13:06:38 - cmdstanpy - INFO - Chain [1] done processing\n",
      "13:06:38 - cmdstanpy - INFO - Chain [1] start processing\n",
      "13:06:38 - cmdstanpy - INFO - Chain [1] done processing\n",
      "13:06:38 - cmdstanpy - INFO - Chain [1] start processing\n",
      "13:06:38 - cmdstanpy - INFO - Chain [1] done processing\n",
      "13:06:39 - cmdstanpy - INFO - Chain [1] start processing\n",
      "13:06:39 - cmdstanpy - INFO - Chain [1] done processing\n",
      "13:06:39 - cmdstanpy - INFO - Chain [1] start processing\n",
      "13:06:39 - cmdstanpy - INFO - Chain [1] done processing\n",
      "13:06:39 - cmdstanpy - INFO - Chain [1] start processing\n",
      "13:06:39 - cmdstanpy - INFO - Chain [1] done processing\n",
      "13:06:39 - cmdstanpy - INFO - Chain [1] start processing\n",
      "13:06:39 - cmdstanpy - INFO - Chain [1] done processing\n",
      "13:06:39 - cmdstanpy - INFO - Chain [1] start processing\n",
      "13:06:39 - cmdstanpy - INFO - Chain [1] done processing\n",
      "13:06:39 - cmdstanpy - INFO - Chain [1] start processing\n",
      "13:06:39 - cmdstanpy - INFO - Chain [1] done processing\n",
      "13:06:39 - cmdstanpy - INFO - Chain [1] start processing\n",
      "13:06:39 - cmdstanpy - INFO - Chain [1] done processing\n",
      "13:06:39 - cmdstanpy - INFO - Chain [1] start processing\n",
      "13:06:39 - cmdstanpy - INFO - Chain [1] done processing\n",
      "13:06:39 - cmdstanpy - INFO - Chain [1] start processing\n",
      "13:06:39 - cmdstanpy - INFO - Chain [1] done processing\n",
      "13:06:39 - cmdstanpy - INFO - Chain [1] start processing\n",
      "13:06:39 - cmdstanpy - INFO - Chain [1] done processing\n",
      "13:06:39 - cmdstanpy - INFO - Chain [1] start processing\n",
      "13:06:39 - cmdstanpy - INFO - Chain [1] done processing\n",
      "13:06:39 - cmdstanpy - INFO - Chain [1] start processing\n",
      "13:06:39 - cmdstanpy - INFO - Chain [1] done processing\n",
      "13:06:39 - cmdstanpy - INFO - Chain [1] start processing\n",
      "13:06:39 - cmdstanpy - INFO - Chain [1] done processing\n",
      "13:06:40 - cmdstanpy - INFO - Chain [1] start processing\n",
      "13:06:40 - cmdstanpy - INFO - Chain [1] done processing\n",
      "13:06:40 - cmdstanpy - INFO - Chain [1] start processing\n",
      "13:06:40 - cmdstanpy - INFO - Chain [1] done processing\n",
      "13:06:40 - cmdstanpy - INFO - Chain [1] start processing\n",
      "13:06:40 - cmdstanpy - INFO - Chain [1] done processing\n",
      "13:06:40 - cmdstanpy - INFO - Chain [1] start processing\n",
      "13:06:40 - cmdstanpy - INFO - Chain [1] done processing\n",
      "13:06:40 - cmdstanpy - INFO - Chain [1] start processing\n",
      "13:06:40 - cmdstanpy - INFO - Chain [1] done processing\n",
      "13:06:40 - cmdstanpy - INFO - Chain [1] start processing\n",
      "13:06:40 - cmdstanpy - INFO - Chain [1] done processing\n",
      "13:06:40 - cmdstanpy - INFO - Chain [1] start processing\n",
      "13:06:40 - cmdstanpy - INFO - Chain [1] done processing\n",
      "13:06:40 - cmdstanpy - INFO - Chain [1] start processing\n",
      "13:06:40 - cmdstanpy - INFO - Chain [1] done processing\n",
      "13:06:40 - cmdstanpy - INFO - Chain [1] start processing\n",
      "13:06:40 - cmdstanpy - INFO - Chain [1] done processing\n",
      "13:06:40 - cmdstanpy - INFO - Chain [1] start processing\n",
      "13:06:40 - cmdstanpy - INFO - Chain [1] done processing\n"
     ]
    }
   ],
   "source": [
    "for regional_master, df_region in data.groupby('regional_master'):\n",
    "\n",
    "    model = Prophet(weekly_seasonality=True) \n",
    "    model.fit(df_region)\n",
    "    \n",
    "\n",
    "    future = model.make_future_dataframe(periods=52, freq='W')\n",
    "    \n",
    "\n",
    "    forecast = model.predict(future)\n",
    "    \n",
    "\n",
    "    forecasts[regional_master] = forecast[['ds', 'yhat', 'yhat_lower', 'yhat_upper']]"
   ]
  },
  {
   "cell_type": "code",
   "execution_count": 13,
   "metadata": {},
   "outputs": [],
   "source": [
    "import numpy as np"
   ]
  },
  {
   "cell_type": "code",
   "execution_count": 14,
   "metadata": {},
   "outputs": [],
   "source": [
    "def calculate_mape(actual, forecast):\n",
    "    return np.mean(np.abs((actual - forecast) / actual)) * 100"
   ]
  },
  {
   "cell_type": "code",
   "execution_count": 15,
   "metadata": {},
   "outputs": [
    {
     "name": "stderr",
     "output_type": "stream",
     "text": [
      "/var/folders/_p/ljb0l43112vc95swz8nhgv340000gn/T/ipykernel_58806/4206143911.py:2: RuntimeWarning: divide by zero encountered in divide\n",
      "  return np.mean(np.abs((actual - forecast) / actual)) * 100\n"
     ]
    }
   ],
   "source": [
    "mape_results = {}\n",
    "\n",
    "for regional_master, forecast_df in forecasts.items():\n",
    "    actual_values = data[data['regional_master'] == regional_master]['y'].values\n",
    "    forecast_values = forecast_df['yhat'].values[:len(actual_values)]  # Only consider actual data points\n",
    "    mape = calculate_mape(actual_values, forecast_values)\n",
    "    mape_results[regional_master] = mape"
   ]
  },
  {
   "cell_type": "code",
   "execution_count": 16,
   "metadata": {},
   "outputs": [
    {
     "name": "stdout",
     "output_type": "stream",
     "text": [
      "MAPE for 0.0: inf%\n",
      "MAPE for 50000001.0: 1716833.57%\n",
      "MAPE for 50000002.0: inf%\n",
      "MAPE for 50000004.0: inf%\n",
      "MAPE for 50000006.0: inf%\n",
      "MAPE for 50000007.0: inf%\n",
      "MAPE for 50000009.0: 60.72%\n",
      "MAPE for 50000010.0: inf%\n",
      "MAPE for 50000011.0: inf%\n",
      "MAPE for 50000012.0: inf%\n",
      "MAPE for 50000014.0: inf%\n",
      "MAPE for 50000018.0: 2473.43%\n",
      "MAPE for 50000020.0: inf%\n",
      "MAPE for 50000022.0: 572.32%\n",
      "MAPE for 50000024.0: 800.76%\n",
      "MAPE for 50000027.0: 124.27%\n",
      "MAPE for 50000029.0: 189.16%\n",
      "MAPE for 50000031.0: 256.54%\n",
      "MAPE for 50000033.0: 2624667.85%\n",
      "MAPE for 50000035.0: inf%\n",
      "MAPE for 50000041.0: 18534285.90%\n",
      "MAPE for 50000045.0: inf%\n",
      "MAPE for 50000047.0: inf%\n",
      "MAPE for 50000049.0: inf%\n",
      "MAPE for 50000051.0: inf%\n",
      "MAPE for 50000053.0: inf%\n",
      "MAPE for 50000058.0: 8175.43%\n",
      "MAPE for 50000061.0: 3642398.89%\n",
      "MAPE for 50000063.0: 50.65%\n",
      "MAPE for 50000065.0: inf%\n",
      "MAPE for 50000067.0: inf%\n",
      "MAPE for 50000069.0: 5415998.57%\n",
      "MAPE for 50000071.0: inf%\n",
      "MAPE for 50000073.0: 134.16%\n",
      "MAPE for 50000074.0: 55.19%\n",
      "MAPE for 50000076.0: inf%\n",
      "MAPE for 50000078.0: 52.92%\n",
      "MAPE for 50000152.0: inf%\n",
      "MAPE for 50000183.0: inf%\n",
      "MAPE for 50000231.0: inf%\n",
      "MAPE for 50000274.0: 2461049.68%\n",
      "MAPE for 50000280.0: 38.11%\n",
      "MAPE for 50000286.0: 45.75%\n",
      "MAPE for 50000288.0: 23.70%\n",
      "MAPE for 50000385.0: 140.30%\n",
      "MAPE for 50000474.0: inf%\n",
      "MAPE for 50000517.0: inf%\n",
      "MAPE for 50000529.0: inf%\n",
      "MAPE for 50000550.0: inf%\n",
      "MAPE for 50000552.0: 4709898.33%\n",
      "MAPE for 50000555.0: inf%\n",
      "MAPE for 50000558.0: inf%\n",
      "MAPE for 50000560.0: 398713.71%\n",
      "MAPE for 50000575.0: inf%\n",
      "MAPE for 50000620.0: inf%\n",
      "MAPE for 50000632.0: inf%\n",
      "MAPE for 50000634.0: inf%\n",
      "MAPE for 50000646.0: inf%\n",
      "MAPE for 50000651.0: inf%\n",
      "MAPE for 50000723.0: inf%\n",
      "MAPE for 50000727.0: inf%\n",
      "MAPE for 50000731.0: inf%\n",
      "MAPE for 50000740.0: inf%\n",
      "MAPE for 50000746.0: 3611726.44%\n",
      "MAPE for 50000941.0: 30.69%\n",
      "MAPE for 50001005.0: 779.17%\n",
      "MAPE for 50001007.0: inf%\n",
      "MAPE for 50001066.0: inf%\n",
      "MAPE for 50001126.0: inf%\n",
      "MAPE for 50001136.0: inf%\n",
      "MAPE for 50001145.0: 32.44%\n",
      "MAPE for 50001297.0: 20.39%\n"
     ]
    }
   ],
   "source": [
    "for regional_master, mape in mape_results.items():\n",
    "    print(f\"MAPE for {regional_master}: {mape:.2f}%\")"
   ]
  },
  {
   "cell_type": "code",
   "execution_count": null,
   "metadata": {},
   "outputs": [],
   "source": []
  }
 ],
 "metadata": {
  "kernelspec": {
   "display_name": ".venv",
   "language": "python",
   "name": "python3"
  },
  "language_info": {
   "codemirror_mode": {
    "name": "ipython",
    "version": 3
   },
   "file_extension": ".py",
   "mimetype": "text/x-python",
   "name": "python",
   "nbconvert_exporter": "python",
   "pygments_lexer": "ipython3",
   "version": "3.9.6"
  }
 },
 "nbformat": 4,
 "nbformat_minor": 2
}
