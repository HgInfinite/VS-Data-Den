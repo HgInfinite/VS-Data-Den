{
 "cells": [
  {
   "cell_type": "code",
   "execution_count": 1,
   "metadata": {},
   "outputs": [
    {
     "name": "stderr",
     "output_type": "stream",
     "text": [
      "/Users/harshitgupta/Desktop/vs /VS-Data-Den/.venv/lib/python3.9/site-packages/urllib3/__init__.py:35: NotOpenSSLWarning: urllib3 v2 only supports OpenSSL 1.1.1+, currently the 'ssl' module is compiled with 'LibreSSL 2.8.3'. See: https://github.com/urllib3/urllib3/issues/3020\n",
      "  warnings.warn(\n"
     ]
    }
   ],
   "source": [
    "\n",
    "import pandas as pd\n",
    "import matplotlib as mpl\n",
    "import matplotlib.pyplot as plt\n",
    "from sklearn.model_selection import train_test_split\n",
    "from tensorflow.keras.preprocessing.sequence import TimeseriesGenerator\n",
    "from sklearn.preprocessing import MinMaxScaler, StandardScaler\n",
    "import tensorflow as tf"
   ]
  },
  {
   "cell_type": "code",
   "execution_count": 2,
   "metadata": {},
   "outputs": [],
   "source": [
    "df = pd.read_csv('/Users/harshitgupta/Desktop/vs /VS-Data-Den/rm_dataset.csv')\n"
   ]
  },
  {
   "cell_type": "code",
   "execution_count": 3,
   "metadata": {},
   "outputs": [],
   "source": [
    "df = df.set_index('date_field')"
   ]
  },
  {
   "cell_type": "code",
   "execution_count": 4,
   "metadata": {},
   "outputs": [
    {
     "data": {
      "text/plain": [
       "Index(['Unnamed: 0', 'regional_master', 'sales', 'flag', 'week_no'], dtype='object')"
      ]
     },
     "execution_count": 4,
     "metadata": {},
     "output_type": "execute_result"
    }
   ],
   "source": [
    "df.columns"
   ]
  },
  {
   "cell_type": "code",
   "execution_count": 5,
   "metadata": {},
   "outputs": [
    {
     "data": {
      "text/html": [
       "<div>\n",
       "<style scoped>\n",
       "    .dataframe tbody tr th:only-of-type {\n",
       "        vertical-align: middle;\n",
       "    }\n",
       "\n",
       "    .dataframe tbody tr th {\n",
       "        vertical-align: top;\n",
       "    }\n",
       "\n",
       "    .dataframe thead th {\n",
       "        text-align: right;\n",
       "    }\n",
       "</style>\n",
       "<table border=\"1\" class=\"dataframe\">\n",
       "  <thead>\n",
       "    <tr style=\"text-align: right;\">\n",
       "      <th></th>\n",
       "      <th>Unnamed: 0</th>\n",
       "      <th>regional_master</th>\n",
       "      <th>sales</th>\n",
       "      <th>flag</th>\n",
       "      <th>week_no</th>\n",
       "    </tr>\n",
       "    <tr>\n",
       "      <th>date_field</th>\n",
       "      <th></th>\n",
       "      <th></th>\n",
       "      <th></th>\n",
       "      <th></th>\n",
       "      <th></th>\n",
       "    </tr>\n",
       "  </thead>\n",
       "  <tbody>\n",
       "    <tr>\n",
       "      <th>2019-12-08</th>\n",
       "      <td>0</td>\n",
       "      <td>0.0</td>\n",
       "      <td>28994.45</td>\n",
       "      <td>active</td>\n",
       "      <td>49</td>\n",
       "    </tr>\n",
       "    <tr>\n",
       "      <th>2019-12-15</th>\n",
       "      <td>1</td>\n",
       "      <td>0.0</td>\n",
       "      <td>127699.87</td>\n",
       "      <td>active</td>\n",
       "      <td>50</td>\n",
       "    </tr>\n",
       "    <tr>\n",
       "      <th>2019-12-22</th>\n",
       "      <td>2</td>\n",
       "      <td>0.0</td>\n",
       "      <td>102609.00</td>\n",
       "      <td>active</td>\n",
       "      <td>51</td>\n",
       "    </tr>\n",
       "    <tr>\n",
       "      <th>2019-12-29</th>\n",
       "      <td>3</td>\n",
       "      <td>0.0</td>\n",
       "      <td>0.00</td>\n",
       "      <td>inactive</td>\n",
       "      <td>52</td>\n",
       "    </tr>\n",
       "    <tr>\n",
       "      <th>2020-01-05</th>\n",
       "      <td>4</td>\n",
       "      <td>0.0</td>\n",
       "      <td>0.00</td>\n",
       "      <td>inactive</td>\n",
       "      <td>1</td>\n",
       "    </tr>\n",
       "  </tbody>\n",
       "</table>\n",
       "</div>"
      ],
      "text/plain": [
       "            Unnamed: 0  regional_master      sales      flag  week_no\n",
       "date_field                                                           \n",
       "2019-12-08           0              0.0   28994.45    active       49\n",
       "2019-12-15           1              0.0  127699.87    active       50\n",
       "2019-12-22           2              0.0  102609.00    active       51\n",
       "2019-12-29           3              0.0       0.00  inactive       52\n",
       "2020-01-05           4              0.0       0.00  inactive        1"
      ]
     },
     "execution_count": 5,
     "metadata": {},
     "output_type": "execute_result"
    }
   ],
   "source": [
    "df.head()"
   ]
  },
  {
   "cell_type": "code",
   "execution_count": 6,
   "metadata": {},
   "outputs": [],
   "source": [
    "df['flag'] = df['flag'].map({'inactive': 0, 'active': 1})"
   ]
  },
  {
   "cell_type": "code",
   "execution_count": 7,
   "metadata": {},
   "outputs": [],
   "source": [
    "df_input=df[['regional_master','sales', 'flag', 'week_no']]"
   ]
  },
  {
   "cell_type": "code",
   "execution_count": 8,
   "metadata": {},
   "outputs": [
    {
     "data": {
      "text/html": [
       "<div>\n",
       "<style scoped>\n",
       "    .dataframe tbody tr th:only-of-type {\n",
       "        vertical-align: middle;\n",
       "    }\n",
       "\n",
       "    .dataframe tbody tr th {\n",
       "        vertical-align: top;\n",
       "    }\n",
       "\n",
       "    .dataframe thead th {\n",
       "        text-align: right;\n",
       "    }\n",
       "</style>\n",
       "<table border=\"1\" class=\"dataframe\">\n",
       "  <thead>\n",
       "    <tr style=\"text-align: right;\">\n",
       "      <th></th>\n",
       "      <th>regional_master</th>\n",
       "      <th>sales</th>\n",
       "      <th>flag</th>\n",
       "      <th>week_no</th>\n",
       "    </tr>\n",
       "    <tr>\n",
       "      <th>date_field</th>\n",
       "      <th></th>\n",
       "      <th></th>\n",
       "      <th></th>\n",
       "      <th></th>\n",
       "    </tr>\n",
       "  </thead>\n",
       "  <tbody>\n",
       "    <tr>\n",
       "      <th>2019-12-08</th>\n",
       "      <td>0.0</td>\n",
       "      <td>28994.45</td>\n",
       "      <td>1</td>\n",
       "      <td>49</td>\n",
       "    </tr>\n",
       "    <tr>\n",
       "      <th>2019-12-15</th>\n",
       "      <td>0.0</td>\n",
       "      <td>127699.87</td>\n",
       "      <td>1</td>\n",
       "      <td>50</td>\n",
       "    </tr>\n",
       "    <tr>\n",
       "      <th>2019-12-22</th>\n",
       "      <td>0.0</td>\n",
       "      <td>102609.00</td>\n",
       "      <td>1</td>\n",
       "      <td>51</td>\n",
       "    </tr>\n",
       "    <tr>\n",
       "      <th>2019-12-29</th>\n",
       "      <td>0.0</td>\n",
       "      <td>0.00</td>\n",
       "      <td>0</td>\n",
       "      <td>52</td>\n",
       "    </tr>\n",
       "    <tr>\n",
       "      <th>2020-01-05</th>\n",
       "      <td>0.0</td>\n",
       "      <td>0.00</td>\n",
       "      <td>0</td>\n",
       "      <td>1</td>\n",
       "    </tr>\n",
       "    <tr>\n",
       "      <th>...</th>\n",
       "      <td>...</td>\n",
       "      <td>...</td>\n",
       "      <td>...</td>\n",
       "      <td>...</td>\n",
       "    </tr>\n",
       "    <tr>\n",
       "      <th>2024-02-04</th>\n",
       "      <td>50001297.0</td>\n",
       "      <td>16917.58</td>\n",
       "      <td>1</td>\n",
       "      <td>5</td>\n",
       "    </tr>\n",
       "    <tr>\n",
       "      <th>2024-02-11</th>\n",
       "      <td>50001297.0</td>\n",
       "      <td>12848.38</td>\n",
       "      <td>1</td>\n",
       "      <td>6</td>\n",
       "    </tr>\n",
       "    <tr>\n",
       "      <th>2024-02-18</th>\n",
       "      <td>50001297.0</td>\n",
       "      <td>20193.45</td>\n",
       "      <td>1</td>\n",
       "      <td>7</td>\n",
       "    </tr>\n",
       "    <tr>\n",
       "      <th>2024-02-25</th>\n",
       "      <td>50001297.0</td>\n",
       "      <td>28072.44</td>\n",
       "      <td>1</td>\n",
       "      <td>8</td>\n",
       "    </tr>\n",
       "    <tr>\n",
       "      <th>2024-03-03</th>\n",
       "      <td>50001297.0</td>\n",
       "      <td>22450.98</td>\n",
       "      <td>1</td>\n",
       "      <td>9</td>\n",
       "    </tr>\n",
       "  </tbody>\n",
       "</table>\n",
       "<p>18644 rows × 4 columns</p>\n",
       "</div>"
      ],
      "text/plain": [
       "            regional_master      sales  flag  week_no\n",
       "date_field                                           \n",
       "2019-12-08              0.0   28994.45     1       49\n",
       "2019-12-15              0.0  127699.87     1       50\n",
       "2019-12-22              0.0  102609.00     1       51\n",
       "2019-12-29              0.0       0.00     0       52\n",
       "2020-01-05              0.0       0.00     0        1\n",
       "...                     ...        ...   ...      ...\n",
       "2024-02-04       50001297.0   16917.58     1        5\n",
       "2024-02-11       50001297.0   12848.38     1        6\n",
       "2024-02-18       50001297.0   20193.45     1        7\n",
       "2024-02-25       50001297.0   28072.44     1        8\n",
       "2024-03-03       50001297.0   22450.98     1        9\n",
       "\n",
       "[18644 rows x 4 columns]"
      ]
     },
     "execution_count": 8,
     "metadata": {},
     "output_type": "execute_result"
    }
   ],
   "source": [
    "df_input"
   ]
  },
  {
   "cell_type": "code",
   "execution_count": 9,
   "metadata": {},
   "outputs": [
    {
     "data": {
      "text/html": [
       "<div>\n",
       "<style scoped>\n",
       "    .dataframe tbody tr th:only-of-type {\n",
       "        vertical-align: middle;\n",
       "    }\n",
       "\n",
       "    .dataframe tbody tr th {\n",
       "        vertical-align: top;\n",
       "    }\n",
       "\n",
       "    .dataframe thead th {\n",
       "        text-align: right;\n",
       "    }\n",
       "</style>\n",
       "<table border=\"1\" class=\"dataframe\">\n",
       "  <thead>\n",
       "    <tr style=\"text-align: right;\">\n",
       "      <th></th>\n",
       "      <th>regional_master</th>\n",
       "      <th>sales</th>\n",
       "      <th>flag</th>\n",
       "      <th>week_no</th>\n",
       "    </tr>\n",
       "  </thead>\n",
       "  <tbody>\n",
       "    <tr>\n",
       "      <th>count</th>\n",
       "      <td>1.864400e+04</td>\n",
       "      <td>1.864400e+04</td>\n",
       "      <td>18644.000000</td>\n",
       "      <td>18644.000000</td>\n",
       "    </tr>\n",
       "    <tr>\n",
       "      <th>mean</th>\n",
       "      <td>4.939954e+07</td>\n",
       "      <td>2.547687e+05</td>\n",
       "      <td>0.887202</td>\n",
       "      <td>26.355289</td>\n",
       "    </tr>\n",
       "    <tr>\n",
       "      <th>std</th>\n",
       "      <td>5.447708e+06</td>\n",
       "      <td>1.014892e+06</td>\n",
       "      <td>0.316354</td>\n",
       "      <td>15.324225</td>\n",
       "    </tr>\n",
       "    <tr>\n",
       "      <th>min</th>\n",
       "      <td>0.000000e+00</td>\n",
       "      <td>-2.744000e+03</td>\n",
       "      <td>0.000000</td>\n",
       "      <td>1.000000</td>\n",
       "    </tr>\n",
       "    <tr>\n",
       "      <th>25%</th>\n",
       "      <td>5.000003e+07</td>\n",
       "      <td>3.969330e+03</td>\n",
       "      <td>1.000000</td>\n",
       "      <td>13.000000</td>\n",
       "    </tr>\n",
       "    <tr>\n",
       "      <th>50%</th>\n",
       "      <td>5.000007e+07</td>\n",
       "      <td>2.983912e+04</td>\n",
       "      <td>1.000000</td>\n",
       "      <td>26.000000</td>\n",
       "    </tr>\n",
       "    <tr>\n",
       "      <th>75%</th>\n",
       "      <td>5.000055e+07</td>\n",
       "      <td>1.581912e+05</td>\n",
       "      <td>1.000000</td>\n",
       "      <td>40.000000</td>\n",
       "    </tr>\n",
       "    <tr>\n",
       "      <th>max</th>\n",
       "      <td>5.000130e+07</td>\n",
       "      <td>2.177125e+07</td>\n",
       "      <td>1.000000</td>\n",
       "      <td>53.000000</td>\n",
       "    </tr>\n",
       "  </tbody>\n",
       "</table>\n",
       "</div>"
      ],
      "text/plain": [
       "       regional_master         sales          flag       week_no\n",
       "count     1.864400e+04  1.864400e+04  18644.000000  18644.000000\n",
       "mean      4.939954e+07  2.547687e+05      0.887202     26.355289\n",
       "std       5.447708e+06  1.014892e+06      0.316354     15.324225\n",
       "min       0.000000e+00 -2.744000e+03      0.000000      1.000000\n",
       "25%       5.000003e+07  3.969330e+03      1.000000     13.000000\n",
       "50%       5.000007e+07  2.983912e+04      1.000000     26.000000\n",
       "75%       5.000055e+07  1.581912e+05      1.000000     40.000000\n",
       "max       5.000130e+07  2.177125e+07      1.000000     53.000000"
      ]
     },
     "execution_count": 9,
     "metadata": {},
     "output_type": "execute_result"
    }
   ],
   "source": [
    "df_input.describe()"
   ]
  },
  {
   "cell_type": "code",
   "execution_count": 10,
   "metadata": {},
   "outputs": [],
   "source": [
    "scaler = MinMaxScaler()\n",
    "data_scaled = scaler.fit_transform(df_input)"
   ]
  },
  {
   "cell_type": "code",
   "execution_count": 11,
   "metadata": {},
   "outputs": [],
   "source": [
    "features=data_scaled\n",
    "target=data_scaled[:,0]"
   ]
  },
  {
   "cell_type": "code",
   "execution_count": 12,
   "metadata": {},
   "outputs": [
    {
     "data": {
      "text/plain": [
       "(array([[[0.        , 0.00145763, 1.        , 0.92307692],\n",
       "         [0.        , 0.00599081, 1.        , 0.94230769]]]),\n",
       " array([0.]))"
      ]
     },
     "execution_count": 12,
     "metadata": {},
     "output_type": "execute_result"
    }
   ],
   "source": [
    "TimeseriesGenerator(features, target, length=2, sampling_rate=1, batch_size=1)[0]\n",
    "     "
   ]
  },
  {
   "cell_type": "code",
   "execution_count": 13,
   "metadata": {},
   "outputs": [],
   "source": [
    "x_train, x_test, y_train, y_test = train_test_split(features, target, test_size=0.20, shuffle = False)\n",
    "     "
   ]
  },
  {
   "cell_type": "code",
   "execution_count": 14,
   "metadata": {},
   "outputs": [
    {
     "data": {
      "text/plain": [
       "(14915, 4)"
      ]
     },
     "execution_count": 14,
     "metadata": {},
     "output_type": "execute_result"
    }
   ],
   "source": [
    "x_train.shape"
   ]
  },
  {
   "cell_type": "code",
   "execution_count": 15,
   "metadata": {},
   "outputs": [
    {
     "data": {
      "text/plain": [
       "(3729, 4)"
      ]
     },
     "execution_count": 15,
     "metadata": {},
     "output_type": "execute_result"
    }
   ],
   "source": [
    "x_test.shape"
   ]
  },
  {
   "cell_type": "code",
   "execution_count": 16,
   "metadata": {},
   "outputs": [],
   "source": [
    "win_length=720\n",
    "batch_size=32\n",
    "num_features=4\n",
    "train_generator = TimeseriesGenerator(x_train, y_train, length=win_length, sampling_rate=1, batch_size=batch_size)\n",
    "test_generator = TimeseriesGenerator(x_test, y_test, length=win_length, sampling_rate=1, batch_size=batch_size)\n",
    "     "
   ]
  },
  {
   "cell_type": "code",
   "execution_count": 17,
   "metadata": {},
   "outputs": [
    {
     "data": {
      "text/plain": [
       "(array([[[0.00000000e+00, 1.45763082e-03, 1.00000000e+00, 9.23076923e-01],\n",
       "         [0.00000000e+00, 5.99080943e-03, 1.00000000e+00, 9.42307692e-01],\n",
       "         [0.00000000e+00, 4.83847762e-03, 1.00000000e+00, 9.61538462e-01],\n",
       "         ...,\n",
       "         [9.99974101e-01, 1.26021875e-04, 0.00000000e+00, 1.53846154e-01],\n",
       "         [9.99974101e-01, 1.26021875e-04, 0.00000000e+00, 1.73076923e-01],\n",
       "         [9.99974101e-01, 1.26021875e-04, 0.00000000e+00, 1.92307692e-01]],\n",
       " \n",
       "        [[0.00000000e+00, 5.99080943e-03, 1.00000000e+00, 9.42307692e-01],\n",
       "         [0.00000000e+00, 4.83847762e-03, 1.00000000e+00, 9.61538462e-01],\n",
       "         [0.00000000e+00, 1.26021875e-04, 0.00000000e+00, 9.80769231e-01],\n",
       "         ...,\n",
       "         [9.99974101e-01, 1.26021875e-04, 0.00000000e+00, 1.73076923e-01],\n",
       "         [9.99974101e-01, 1.26021875e-04, 0.00000000e+00, 1.92307692e-01],\n",
       "         [9.99974101e-01, 1.26021875e-04, 0.00000000e+00, 2.11538462e-01]],\n",
       " \n",
       "        [[0.00000000e+00, 4.83847762e-03, 1.00000000e+00, 9.61538462e-01],\n",
       "         [0.00000000e+00, 1.26021875e-04, 0.00000000e+00, 9.80769231e-01],\n",
       "         [0.00000000e+00, 1.26021875e-04, 0.00000000e+00, 0.00000000e+00],\n",
       "         ...,\n",
       "         [9.99974101e-01, 1.26021875e-04, 0.00000000e+00, 1.92307692e-01],\n",
       "         [9.99974101e-01, 1.26021875e-04, 0.00000000e+00, 2.11538462e-01],\n",
       "         [9.99974101e-01, 1.26021875e-04, 0.00000000e+00, 2.30769231e-01]],\n",
       " \n",
       "        ...,\n",
       " \n",
       "        [[0.00000000e+00, 1.75977102e-03, 1.00000000e+00, 4.80769231e-01],\n",
       "         [0.00000000e+00, 1.08889054e-03, 1.00000000e+00, 5.00000000e-01],\n",
       "         [0.00000000e+00, 6.16014122e-04, 1.00000000e+00, 5.19230769e-01],\n",
       "         ...,\n",
       "         [9.99974101e-01, 4.76220775e-04, 1.00000000e+00, 7.11538462e-01],\n",
       "         [9.99974101e-01, 5.58794496e-04, 1.00000000e+00, 7.30769231e-01],\n",
       "         [9.99974101e-01, 4.62353776e-04, 1.00000000e+00, 7.50000000e-01]],\n",
       " \n",
       "        [[0.00000000e+00, 1.08889054e-03, 1.00000000e+00, 5.00000000e-01],\n",
       "         [0.00000000e+00, 6.16014122e-04, 1.00000000e+00, 5.19230769e-01],\n",
       "         [0.00000000e+00, 1.27206040e-03, 1.00000000e+00, 5.38461538e-01],\n",
       "         ...,\n",
       "         [9.99974101e-01, 5.58794496e-04, 1.00000000e+00, 7.30769231e-01],\n",
       "         [9.99974101e-01, 4.62353776e-04, 1.00000000e+00, 7.50000000e-01],\n",
       "         [9.99974101e-01, 4.69344683e-04, 1.00000000e+00, 7.69230769e-01]],\n",
       " \n",
       "        [[0.00000000e+00, 6.16014122e-04, 1.00000000e+00, 5.19230769e-01],\n",
       "         [0.00000000e+00, 1.27206040e-03, 1.00000000e+00, 5.38461538e-01],\n",
       "         [0.00000000e+00, 1.40858517e-03, 1.00000000e+00, 5.57692308e-01],\n",
       "         ...,\n",
       "         [9.99974101e-01, 4.62353776e-04, 1.00000000e+00, 7.50000000e-01],\n",
       "         [9.99974101e-01, 4.69344683e-04, 1.00000000e+00, 7.69230769e-01],\n",
       "         [9.99974101e-01, 3.99980755e-04, 1.00000000e+00, 7.88461538e-01]]]),\n",
       " array([0.9999741, 0.9999741, 0.9999741, 0.9999741, 0.9999741, 0.9999741,\n",
       "        0.9999741, 0.9999741, 0.9999741, 0.9999741, 0.9999741, 0.9999741,\n",
       "        0.9999741, 0.9999741, 0.9999741, 0.9999741, 0.9999741, 0.9999741,\n",
       "        0.9999741, 0.9999741, 0.9999741, 0.9999741, 0.9999741, 0.9999741,\n",
       "        0.9999741, 0.9999741, 0.9999741, 0.9999741, 0.9999741, 0.9999741,\n",
       "        0.9999741, 0.9999741]))"
      ]
     },
     "execution_count": 17,
     "metadata": {},
     "output_type": "execute_result"
    }
   ],
   "source": [
    "train_generator[0]"
   ]
  },
  {
   "cell_type": "code",
   "execution_count": 18,
   "metadata": {},
   "outputs": [
    {
     "name": "stderr",
     "output_type": "stream",
     "text": [
      "2024-04-25 13:11:50.773208: I metal_plugin/src/device/metal_device.cc:1154] Metal device set to: Apple M2\n",
      "2024-04-25 13:11:50.773228: I metal_plugin/src/device/metal_device.cc:296] systemMemory: 8.00 GB\n",
      "2024-04-25 13:11:50.773233: I metal_plugin/src/device/metal_device.cc:313] maxCacheSize: 2.67 GB\n",
      "2024-04-25 13:11:50.773626: I tensorflow/core/common_runtime/pluggable_device/pluggable_device_factory.cc:305] Could not identify NUMA node of platform GPU ID 0, defaulting to 0. Your kernel may not have been built with NUMA support.\n",
      "2024-04-25 13:11:50.773640: I tensorflow/core/common_runtime/pluggable_device/pluggable_device_factory.cc:271] Created TensorFlow device (/job:localhost/replica:0/task:0/device:GPU:0 with 0 MB memory) -> physical PluggableDevice (device: 0, name: METAL, pci bus id: <undefined>)\n",
      "/Users/harshitgupta/Desktop/vs /VS-Data-Den/.venv/lib/python3.9/site-packages/keras/src/layers/rnn/rnn.py:204: UserWarning: Do not pass an `input_shape`/`input_dim` argument to a layer. When using Sequential models, prefer using an `Input(shape)` object as the first layer in the model instead.\n",
      "  super().__init__(**kwargs)\n",
      "/Users/harshitgupta/Desktop/vs /VS-Data-Den/.venv/lib/python3.9/site-packages/keras/src/layers/activations/leaky_relu.py:41: UserWarning: Argument `alpha` is deprecated. Use `negative_slope` instead.\n",
      "  warnings.warn(\n"
     ]
    }
   ],
   "source": [
    "model = tf.keras.Sequential()\n",
    "model.add(tf.keras.layers.LSTM(128, input_shape= (win_length, num_features), return_sequences=True))\n",
    "model.add(tf.keras.layers.LeakyReLU(alpha=0.5)) \n",
    "model.add(tf.keras.layers.LSTM(128, return_sequences=True))\n",
    "model.add(tf.keras.layers.LeakyReLU(alpha=0.5)) \n",
    "model.add(tf.keras.layers.Dropout(0.3)) \n",
    "model.add(tf.keras.layers.LSTM(64, return_sequences=False))\n",
    "model.add(tf.keras.layers.Dropout(0.3)) \n",
    "model.add(tf.keras.layers.Dense(1))"
   ]
  },
  {
   "cell_type": "code",
   "execution_count": 19,
   "metadata": {},
   "outputs": [],
   "source": [
    "import numpy as np"
   ]
  },
  {
   "cell_type": "code",
   "execution_count": 20,
   "metadata": {},
   "outputs": [],
   "source": [
    "def mape(y_true, y_pred):\n",
    "    y_true, y_pred = np.array(y_true), np.array(y_pred)\n",
    "    return np.mean(np.abs((y_true - y_pred) / y_true)) * 100"
   ]
  },
  {
   "cell_type": "code",
   "execution_count": 21,
   "metadata": {},
   "outputs": [
    {
     "name": "stdout",
     "output_type": "stream",
     "text": [
      "Epoch 1/10\n"
     ]
    },
    {
     "name": "stderr",
     "output_type": "stream",
     "text": [
      "2024-04-25 13:11:51.516188: I tensorflow/core/grappler/optimizers/custom_graph_optimizer_registry.cc:117] Plugin optimizer for device_type GPU is enabled.\n",
      "/Users/harshitgupta/Desktop/vs /VS-Data-Den/.venv/lib/python3.9/site-packages/keras/src/trainers/data_adapters/py_dataset_adapter.py:120: UserWarning: Your `PyDataset` class should call `super().__init__(**kwargs)` in its constructor. `**kwargs` can include `workers`, `use_multiprocessing`, `max_queue_size`. Do not pass these arguments to `fit()`, as they will be ignored.\n",
      "  self._warn_if_super_not_called()\n"
     ]
    },
    {
     "name": "stdout",
     "output_type": "stream",
     "text": [
      "\u001b[1m444/444\u001b[0m \u001b[32m━━━━━━━━━━━━━━━━━━━━\u001b[0m\u001b[37m\u001b[0m \u001b[1m55s\u001b[0m 121ms/step - loss: 0.0524 - mean_absolute_error: 0.1386 - val_loss: 4.0760e-05 - val_mean_absolute_error: 0.0035\n",
      "Epoch 2/10\n",
      "\u001b[1m444/444\u001b[0m \u001b[32m━━━━━━━━━━━━━━━━━━━━\u001b[0m\u001b[37m\u001b[0m \u001b[1m53s\u001b[0m 120ms/step - loss: 0.0071 - mean_absolute_error: 0.0676 - val_loss: 4.8114e-05 - val_mean_absolute_error: 0.0065\n",
      "Epoch 3/10\n",
      "\u001b[1m444/444\u001b[0m \u001b[32m━━━━━━━━━━━━━━━━━━━━\u001b[0m\u001b[37m\u001b[0m \u001b[1m53s\u001b[0m 120ms/step - loss: 0.0059 - mean_absolute_error: 0.0610 - val_loss: 2.6871e-05 - val_mean_absolute_error: 0.0050\n",
      "Epoch 4/10\n",
      "\u001b[1m444/444\u001b[0m \u001b[32m━━━━━━━━━━━━━━━━━━━━\u001b[0m\u001b[37m\u001b[0m \u001b[1m54s\u001b[0m 122ms/step - loss: 0.0050 - mean_absolute_error: 0.0561 - val_loss: 1.0386e-04 - val_mean_absolute_error: 0.0101\n",
      "Epoch 5/10\n",
      "\u001b[1m444/444\u001b[0m \u001b[32m━━━━━━━━━━━━━━━━━━━━\u001b[0m\u001b[37m\u001b[0m \u001b[1m54s\u001b[0m 122ms/step - loss: 0.0041 - mean_absolute_error: 0.0509 - val_loss: 2.6875e-04 - val_mean_absolute_error: 0.0164\n"
     ]
    }
   ],
   "source": [
    "early_stopping = tf.keras.callbacks.EarlyStopping(monitor='val_loss', patience=2, mode='min')\n",
    "model.compile(loss=tf.losses.MeanSquaredError(), optimizer=tf.optimizers.Adam(), metrics=[tf.metrics.MeanAbsoluteError()])\n",
    "    \n",
    "history = model.fit(train_generator, epochs=10, validation_data=test_generator, callbacks=[early_stopping])"
   ]
  },
  {
   "cell_type": "code",
   "execution_count": 22,
   "metadata": {},
   "outputs": [
    {
     "data": {
      "text/plain": [
       "[0.00026875073672272265, 0.016386089846491814]"
      ]
     },
     "execution_count": 22,
     "metadata": {},
     "output_type": "execute_result"
    }
   ],
   "source": [
    "model.evaluate(test_generator, verbose=0)  \n",
    "     "
   ]
  },
  {
   "cell_type": "code",
   "execution_count": null,
   "metadata": {},
   "outputs": [],
   "source": []
  }
 ],
 "metadata": {
  "kernelspec": {
   "display_name": ".venv",
   "language": "python",
   "name": "python3"
  },
  "language_info": {
   "codemirror_mode": {
    "name": "ipython",
    "version": 3
   },
   "file_extension": ".py",
   "mimetype": "text/x-python",
   "name": "python",
   "nbconvert_exporter": "python",
   "pygments_lexer": "ipython3",
   "version": "3.9.6"
  }
 },
 "nbformat": 4,
 "nbformat_minor": 2
}
