{
 "cells": [
  {
   "cell_type": "code",
   "execution_count": 1,
   "metadata": {},
   "outputs": [],
   "source": [
    "import pandas as pd\n",
    "import matplotlib as mpl\n",
    "import matplotlib.pyplot as plt\n",
    "\n",
    "import numpy as np\n",
    "\n",
    "from statsmodels.tsa.stattools import grangercausalitytests\n",
    "from statsmodels.tsa.stattools import adfuller\n",
    "import statsmodels.api as sm\n",
    "from statsmodels.tsa.api import VAR"
   ]
  },
  {
   "cell_type": "code",
   "execution_count": 2,
   "metadata": {},
   "outputs": [],
   "source": [
    "data = np.load('/Users/harshitgupta/Desktop/vs /VS-Data-Den/data_cleaning/sales_matrix.npy')"
   ]
  },
  {
   "cell_type": "code",
   "execution_count": 4,
   "metadata": {},
   "outputs": [],
   "source": [
    "data = data.T"
   ]
  },
  {
   "cell_type": "code",
   "execution_count": 5,
   "metadata": {},
   "outputs": [],
   "source": [
    "train = data[:int(0.8*(len(data)))]\n",
    "valid = data[int(0.8*(len(data))):]"
   ]
  },
  {
   "cell_type": "code",
   "execution_count": 6,
   "metadata": {},
   "outputs": [],
   "source": [
    "model = VAR(endog=train)\n",
    "model_fit = model.fit()\n"
   ]
  },
  {
   "cell_type": "code",
   "execution_count": 7,
   "metadata": {},
   "outputs": [
    {
     "ename": "AttributeError",
     "evalue": "'VARResults' object has no attribute 'y'",
     "output_type": "error",
     "traceback": [
      "\u001b[0;31m---------------------------------------------------------------------------\u001b[0m",
      "\u001b[0;31mAttributeError\u001b[0m                            Traceback (most recent call last)",
      "Cell \u001b[0;32mIn[7], line 1\u001b[0m\n\u001b[0;32m----> 1\u001b[0m prediction \u001b[38;5;241m=\u001b[39m model_fit\u001b[38;5;241m.\u001b[39mforecast(\u001b[43mmodel_fit\u001b[49m\u001b[38;5;241;43m.\u001b[39;49m\u001b[43my\u001b[49m, steps\u001b[38;5;241m=\u001b[39m\u001b[38;5;28mlen\u001b[39m(valid))\n",
      "File \u001b[0;32m~/Desktop/vs /VS-Data-Den/.venv/lib/python3.9/site-packages/statsmodels/base/wrapper.py:34\u001b[0m, in \u001b[0;36mResultsWrapper.__getattribute__\u001b[0;34m(self, attr)\u001b[0m\n\u001b[1;32m     31\u001b[0m \u001b[38;5;28;01mexcept\u001b[39;00m \u001b[38;5;167;01mAttributeError\u001b[39;00m:\n\u001b[1;32m     32\u001b[0m     \u001b[38;5;28;01mpass\u001b[39;00m\n\u001b[0;32m---> 34\u001b[0m obj \u001b[38;5;241m=\u001b[39m \u001b[38;5;28;43mgetattr\u001b[39;49m\u001b[43m(\u001b[49m\u001b[43mresults\u001b[49m\u001b[43m,\u001b[49m\u001b[43m \u001b[49m\u001b[43mattr\u001b[49m\u001b[43m)\u001b[49m\n\u001b[1;32m     35\u001b[0m data \u001b[38;5;241m=\u001b[39m results\u001b[38;5;241m.\u001b[39mmodel\u001b[38;5;241m.\u001b[39mdata\n\u001b[1;32m     36\u001b[0m how \u001b[38;5;241m=\u001b[39m \u001b[38;5;28mself\u001b[39m\u001b[38;5;241m.\u001b[39m_wrap_attrs\u001b[38;5;241m.\u001b[39mget(attr)\n",
      "\u001b[0;31mAttributeError\u001b[0m: 'VARResults' object has no attribute 'y'"
     ]
    }
   ],
   "source": [
    "prediction = model_fit.forecast(model_fit.y, steps=len(valid))"
   ]
  },
  {
   "cell_type": "code",
   "execution_count": 6,
   "metadata": {},
   "outputs": [],
   "source": [
    "df['FLAG'] = df['FLAG'].map({'Inactive': 0, 'Active': 1})"
   ]
  },
  {
   "cell_type": "code",
   "execution_count": 82,
   "metadata": {},
   "outputs": [],
   "source": [
    "max_lags=12\n",
    "y='SALES'"
   ]
  },
  {
   "cell_type": "code",
   "execution_count": 83,
   "metadata": {},
   "outputs": [],
   "source": [
    "df_input=df[['WEEK','PTNR_RM_CODE','SALES','FLAG']]"
   ]
  },
  {
   "cell_type": "code",
   "execution_count": 84,
   "metadata": {},
   "outputs": [
    {
     "data": {
      "text/html": [
       "<div>\n",
       "<style scoped>\n",
       "    .dataframe tbody tr th:only-of-type {\n",
       "        vertical-align: middle;\n",
       "    }\n",
       "\n",
       "    .dataframe tbody tr th {\n",
       "        vertical-align: top;\n",
       "    }\n",
       "\n",
       "    .dataframe thead th {\n",
       "        text-align: right;\n",
       "    }\n",
       "</style>\n",
       "<table border=\"1\" class=\"dataframe\">\n",
       "  <thead>\n",
       "    <tr style=\"text-align: right;\">\n",
       "      <th></th>\n",
       "      <th>WEEK</th>\n",
       "      <th>PTNR_RM_CODE</th>\n",
       "      <th>SALES</th>\n",
       "      <th>FLAG</th>\n",
       "    </tr>\n",
       "    <tr>\n",
       "      <th>DATE_FIELD</th>\n",
       "      <th></th>\n",
       "      <th></th>\n",
       "      <th></th>\n",
       "      <th></th>\n",
       "    </tr>\n",
       "  </thead>\n",
       "  <tbody>\n",
       "    <tr>\n",
       "      <th>2021-01-31</th>\n",
       "      <td>1</td>\n",
       "      <td>0.0</td>\n",
       "      <td>1497279.48</td>\n",
       "      <td>1</td>\n",
       "    </tr>\n",
       "    <tr>\n",
       "      <th>2021-02-01</th>\n",
       "      <td>1</td>\n",
       "      <td>0.0</td>\n",
       "      <td>1352352.29</td>\n",
       "      <td>1</td>\n",
       "    </tr>\n",
       "    <tr>\n",
       "      <th>2021-02-02</th>\n",
       "      <td>1</td>\n",
       "      <td>0.0</td>\n",
       "      <td>1336891.59</td>\n",
       "      <td>1</td>\n",
       "    </tr>\n",
       "    <tr>\n",
       "      <th>2021-02-03</th>\n",
       "      <td>1</td>\n",
       "      <td>0.0</td>\n",
       "      <td>1333770.96</td>\n",
       "      <td>1</td>\n",
       "    </tr>\n",
       "    <tr>\n",
       "      <th>2021-02-04</th>\n",
       "      <td>1</td>\n",
       "      <td>0.0</td>\n",
       "      <td>1468008.14</td>\n",
       "      <td>1</td>\n",
       "    </tr>\n",
       "    <tr>\n",
       "      <th>...</th>\n",
       "      <td>...</td>\n",
       "      <td>...</td>\n",
       "      <td>...</td>\n",
       "      <td>...</td>\n",
       "    </tr>\n",
       "    <tr>\n",
       "      <th>2023-01-16</th>\n",
       "      <td>51</td>\n",
       "      <td>50001145.0</td>\n",
       "      <td>4100.67</td>\n",
       "      <td>1</td>\n",
       "    </tr>\n",
       "    <tr>\n",
       "      <th>2023-01-17</th>\n",
       "      <td>51</td>\n",
       "      <td>50001145.0</td>\n",
       "      <td>3619.68</td>\n",
       "      <td>1</td>\n",
       "    </tr>\n",
       "    <tr>\n",
       "      <th>2023-01-18</th>\n",
       "      <td>51</td>\n",
       "      <td>50001145.0</td>\n",
       "      <td>3607.62</td>\n",
       "      <td>1</td>\n",
       "    </tr>\n",
       "    <tr>\n",
       "      <th>2023-01-19</th>\n",
       "      <td>51</td>\n",
       "      <td>50001145.0</td>\n",
       "      <td>3199.11</td>\n",
       "      <td>1</td>\n",
       "    </tr>\n",
       "    <tr>\n",
       "      <th>2023-01-20</th>\n",
       "      <td>51</td>\n",
       "      <td>50001145.0</td>\n",
       "      <td>4456.67</td>\n",
       "      <td>1</td>\n",
       "    </tr>\n",
       "  </tbody>\n",
       "</table>\n",
       "<p>8568 rows × 4 columns</p>\n",
       "</div>"
      ],
      "text/plain": [
       "            WEEK  PTNR_RM_CODE       SALES  FLAG\n",
       "DATE_FIELD                                      \n",
       "2021-01-31     1           0.0  1497279.48     1\n",
       "2021-02-01     1           0.0  1352352.29     1\n",
       "2021-02-02     1           0.0  1336891.59     1\n",
       "2021-02-03     1           0.0  1333770.96     1\n",
       "2021-02-04     1           0.0  1468008.14     1\n",
       "...          ...           ...         ...   ...\n",
       "2023-01-16    51    50001145.0     4100.67     1\n",
       "2023-01-17    51    50001145.0     3619.68     1\n",
       "2023-01-18    51    50001145.0     3607.62     1\n",
       "2023-01-19    51    50001145.0     3199.11     1\n",
       "2023-01-20    51    50001145.0     4456.67     1\n",
       "\n",
       "[8568 rows x 4 columns]"
      ]
     },
     "execution_count": 84,
     "metadata": {},
     "output_type": "execute_result"
    }
   ],
   "source": [
    "df_input\n"
   ]
  },
  {
   "cell_type": "code",
   "execution_count": 85,
   "metadata": {},
   "outputs": [],
   "source": [
    "df_train = df_input[:int(0.9*(len(df_input)))]\n",
    "df_test = df_input[int(0.9*(len(df_input))):]"
   ]
  },
  {
   "cell_type": "code",
   "execution_count": 86,
   "metadata": {},
   "outputs": [
    {
     "data": {
      "text/plain": [
       "(7711, 4)"
      ]
     },
     "execution_count": 86,
     "metadata": {},
     "output_type": "execute_result"
    }
   ],
   "source": [
    "df_train.shape"
   ]
  },
  {
   "cell_type": "code",
   "execution_count": 87,
   "metadata": {},
   "outputs": [],
   "source": [
    "from sklearn.metrics import mean_absolute_percentage_error"
   ]
  },
  {
   "cell_type": "code",
   "execution_count": 88,
   "metadata": {},
   "outputs": [],
   "source": [
    "cols = df_train.columns"
   ]
  },
  {
   "cell_type": "code",
   "execution_count": 89,
   "metadata": {},
   "outputs": [],
   "source": [
    "best_aic = float('inf')\n",
    "best_bic = float('inf')\n",
    "best_order = 0\n",
    "best_model = None\n",
    "best_mape = float('inf')"
   ]
  },
  {
   "cell_type": "code",
   "execution_count": 90,
   "metadata": {},
   "outputs": [
    {
     "name": "stdout",
     "output_type": "stream",
     "text": [
      "Order = 1\n",
      "AIC: 49.59829099391477\n",
      "BIC: 49.61632023766719\n",
      "MAPE: 3.753278985563126e+18\n",
      "----------------------------------------\n",
      "Order = 2\n",
      "AIC: 49.480377302060845\n",
      "BIC: 49.51283354479434\n",
      "MAPE: 3.7627945292257157e+18\n",
      "----------------------------------------\n",
      "Order = 3\n",
      "AIC: 49.43616379165945\n",
      "BIC: 49.48305023814827\n",
      "MAPE: 3.765796263536948e+18\n",
      "----------------------------------------\n",
      "Order = 4\n",
      "AIC: 49.42650521083834\n",
      "BIC: 49.48782506699935\n",
      "MAPE: 3.7654885219260846e+18\n",
      "----------------------------------------\n",
      "Order = 5\n",
      "AIC: 49.423997211050654\n",
      "BIC: 49.499753683943936\n",
      "MAPE: 3.7689678679537367e+18\n",
      "----------------------------------------\n",
      "Order = 6\n",
      "AIC: 49.42550682158889\n",
      "BIC: 49.515703119418276\n",
      "MAPE: 3.76973722966276e+18\n",
      "----------------------------------------\n",
      "Order = 7\n",
      "AIC: 49.41663727119374\n",
      "BIC: 49.52127660330738\n",
      "MAPE: 3.7724800839734083e+18\n",
      "----------------------------------------\n",
      "Order = 8\n"
     ]
    },
    {
     "name": "stderr",
     "output_type": "stream",
     "text": [
      "/Users/harshitgupta/Desktop/vs /VS-Data-Den/.venv/lib/python3.9/site-packages/statsmodels/tsa/base/tsa_model.py:473: ValueWarning: A date index has been provided, but it has no associated frequency information and so will be ignored when e.g. forecasting.\n",
      "  self._init_dates(dates, freq)\n",
      "/Users/harshitgupta/Desktop/vs /VS-Data-Den/.venv/lib/python3.9/site-packages/statsmodels/tsa/base/tsa_model.py:473: ValueWarning: A date index has been provided, but it is not monotonic and so will be ignored when e.g. forecasting.\n",
      "  self._init_dates(dates, freq)\n",
      "/Users/harshitgupta/Desktop/vs /VS-Data-Den/.venv/lib/python3.9/site-packages/statsmodels/tsa/base/tsa_model.py:473: ValueWarning: A date index has been provided, but it has no associated frequency information and so will be ignored when e.g. forecasting.\n",
      "  self._init_dates(dates, freq)\n",
      "/Users/harshitgupta/Desktop/vs /VS-Data-Den/.venv/lib/python3.9/site-packages/statsmodels/tsa/base/tsa_model.py:473: ValueWarning: A date index has been provided, but it is not monotonic and so will be ignored when e.g. forecasting.\n",
      "  self._init_dates(dates, freq)\n",
      "/Users/harshitgupta/Desktop/vs /VS-Data-Den/.venv/lib/python3.9/site-packages/statsmodels/tsa/base/tsa_model.py:473: ValueWarning: A date index has been provided, but it has no associated frequency information and so will be ignored when e.g. forecasting.\n",
      "  self._init_dates(dates, freq)\n",
      "/Users/harshitgupta/Desktop/vs /VS-Data-Den/.venv/lib/python3.9/site-packages/statsmodels/tsa/base/tsa_model.py:473: ValueWarning: A date index has been provided, but it is not monotonic and so will be ignored when e.g. forecasting.\n",
      "  self._init_dates(dates, freq)\n",
      "/Users/harshitgupta/Desktop/vs /VS-Data-Den/.venv/lib/python3.9/site-packages/statsmodels/tsa/base/tsa_model.py:473: ValueWarning: A date index has been provided, but it has no associated frequency information and so will be ignored when e.g. forecasting.\n",
      "  self._init_dates(dates, freq)\n",
      "/Users/harshitgupta/Desktop/vs /VS-Data-Den/.venv/lib/python3.9/site-packages/statsmodels/tsa/base/tsa_model.py:473: ValueWarning: A date index has been provided, but it is not monotonic and so will be ignored when e.g. forecasting.\n",
      "  self._init_dates(dates, freq)\n",
      "/Users/harshitgupta/Desktop/vs /VS-Data-Den/.venv/lib/python3.9/site-packages/statsmodels/tsa/base/tsa_model.py:473: ValueWarning: A date index has been provided, but it has no associated frequency information and so will be ignored when e.g. forecasting.\n",
      "  self._init_dates(dates, freq)\n",
      "/Users/harshitgupta/Desktop/vs /VS-Data-Den/.venv/lib/python3.9/site-packages/statsmodels/tsa/base/tsa_model.py:473: ValueWarning: A date index has been provided, but it is not monotonic and so will be ignored when e.g. forecasting.\n",
      "  self._init_dates(dates, freq)\n",
      "/Users/harshitgupta/Desktop/vs /VS-Data-Den/.venv/lib/python3.9/site-packages/statsmodels/tsa/base/tsa_model.py:473: ValueWarning: A date index has been provided, but it has no associated frequency information and so will be ignored when e.g. forecasting.\n",
      "  self._init_dates(dates, freq)\n",
      "/Users/harshitgupta/Desktop/vs /VS-Data-Den/.venv/lib/python3.9/site-packages/statsmodels/tsa/base/tsa_model.py:473: ValueWarning: A date index has been provided, but it is not monotonic and so will be ignored when e.g. forecasting.\n",
      "  self._init_dates(dates, freq)\n",
      "/Users/harshitgupta/Desktop/vs /VS-Data-Den/.venv/lib/python3.9/site-packages/statsmodels/tsa/base/tsa_model.py:473: ValueWarning: A date index has been provided, but it has no associated frequency information and so will be ignored when e.g. forecasting.\n",
      "  self._init_dates(dates, freq)\n",
      "/Users/harshitgupta/Desktop/vs /VS-Data-Den/.venv/lib/python3.9/site-packages/statsmodels/tsa/base/tsa_model.py:473: ValueWarning: A date index has been provided, but it is not monotonic and so will be ignored when e.g. forecasting.\n",
      "  self._init_dates(dates, freq)\n",
      "/Users/harshitgupta/Desktop/vs /VS-Data-Den/.venv/lib/python3.9/site-packages/statsmodels/tsa/base/tsa_model.py:473: ValueWarning: A date index has been provided, but it has no associated frequency information and so will be ignored when e.g. forecasting.\n",
      "  self._init_dates(dates, freq)\n",
      "/Users/harshitgupta/Desktop/vs /VS-Data-Den/.venv/lib/python3.9/site-packages/statsmodels/tsa/base/tsa_model.py:473: ValueWarning: A date index has been provided, but it is not monotonic and so will be ignored when e.g. forecasting.\n",
      "  self._init_dates(dates, freq)\n"
     ]
    },
    {
     "name": "stdout",
     "output_type": "stream",
     "text": [
      "AIC: 49.3967661872369\n",
      "BIC: 49.5158517641278\n",
      "MAPE: 3.7838173445209364e+18\n",
      "----------------------------------------\n",
      "Order = 9\n",
      "AIC: 49.37229000309738\n",
      "BIC: 49.505825036403984\n",
      "MAPE: 3.779943648442123e+18\n",
      "----------------------------------------\n",
      "Order = 10\n",
      "AIC: 49.37270071660177\n",
      "BIC: 49.52068841910852\n",
      "MAPE: 3.775014652792188e+18\n",
      "----------------------------------------\n",
      "Order = 11\n",
      "AIC: 49.37004318762343\n",
      "BIC: 49.53248677326129\n",
      "MAPE: 3.7743253445917005e+18\n",
      "----------------------------------------\n",
      "Order = 12\n",
      "AIC: 49.365882264321606\n",
      "BIC: 49.54278494816866\n",
      "MAPE: 3.7747825623992586e+18\n",
      "----------------------------------------\n"
     ]
    },
    {
     "name": "stderr",
     "output_type": "stream",
     "text": [
      "/Users/harshitgupta/Desktop/vs /VS-Data-Den/.venv/lib/python3.9/site-packages/statsmodels/tsa/base/tsa_model.py:473: ValueWarning: A date index has been provided, but it has no associated frequency information and so will be ignored when e.g. forecasting.\n",
      "  self._init_dates(dates, freq)\n",
      "/Users/harshitgupta/Desktop/vs /VS-Data-Den/.venv/lib/python3.9/site-packages/statsmodels/tsa/base/tsa_model.py:473: ValueWarning: A date index has been provided, but it is not monotonic and so will be ignored when e.g. forecasting.\n",
      "  self._init_dates(dates, freq)\n",
      "/Users/harshitgupta/Desktop/vs /VS-Data-Den/.venv/lib/python3.9/site-packages/statsmodels/tsa/base/tsa_model.py:473: ValueWarning: A date index has been provided, but it has no associated frequency information and so will be ignored when e.g. forecasting.\n",
      "  self._init_dates(dates, freq)\n",
      "/Users/harshitgupta/Desktop/vs /VS-Data-Den/.venv/lib/python3.9/site-packages/statsmodels/tsa/base/tsa_model.py:473: ValueWarning: A date index has been provided, but it is not monotonic and so will be ignored when e.g. forecasting.\n",
      "  self._init_dates(dates, freq)\n",
      "/Users/harshitgupta/Desktop/vs /VS-Data-Den/.venv/lib/python3.9/site-packages/statsmodels/tsa/base/tsa_model.py:473: ValueWarning: A date index has been provided, but it has no associated frequency information and so will be ignored when e.g. forecasting.\n",
      "  self._init_dates(dates, freq)\n",
      "/Users/harshitgupta/Desktop/vs /VS-Data-Den/.venv/lib/python3.9/site-packages/statsmodels/tsa/base/tsa_model.py:473: ValueWarning: A date index has been provided, but it is not monotonic and so will be ignored when e.g. forecasting.\n",
      "  self._init_dates(dates, freq)\n",
      "/Users/harshitgupta/Desktop/vs /VS-Data-Den/.venv/lib/python3.9/site-packages/statsmodels/tsa/base/tsa_model.py:473: ValueWarning: A date index has been provided, but it has no associated frequency information and so will be ignored when e.g. forecasting.\n",
      "  self._init_dates(dates, freq)\n",
      "/Users/harshitgupta/Desktop/vs /VS-Data-Den/.venv/lib/python3.9/site-packages/statsmodels/tsa/base/tsa_model.py:473: ValueWarning: A date index has been provided, but it is not monotonic and so will be ignored when e.g. forecasting.\n",
      "  self._init_dates(dates, freq)\n"
     ]
    }
   ],
   "source": [
    "for i in range(1, max_lags + 1):\n",
    "    print('Order =', i)\n",
    "    model = VAR(df_train)\n",
    "    results = model.fit(i)\n",
    "    print('AIC:', results.aic)\n",
    "    print('BIC:', results.bic)\n",
    "    \n",
    "\n",
    "    lag_order = results.k_ar\n",
    "    forecast = results.forecast(df_train.values[-lag_order:], len(df_test))\n",
    "    \n",
    " \n",
    "    mape_val = mean_absolute_percentage_error(df_test[cols].values, forecast)\n",
    "    print('MAPE:', mape_val)\n",
    "    print('-' * 40)\n",
    "    \n",
    "    # Update best values if necessary\n",
    "    if results.aic < best_aic:\n",
    "        best_aic = results.aic\n",
    "    if results.bic < best_bic:\n",
    "        best_bic = results.bic\n",
    "    if mape_val < best_mape:\n",
    "        best_mape = mape_val\n",
    "        best_order = i\n",
    "        best_model = results"
   ]
  },
  {
   "cell_type": "code",
   "execution_count": 100,
   "metadata": {},
   "outputs": [],
   "source": [
    "lag_order = best_model.k_ar\n",
    "forecast = best_model.forecast(df_train.values[-lag_order:], len(df_test))\n",
    "forecast_df = pd.DataFrame(forecast, index=df_test.index, columns=cols)"
   ]
  },
  {
   "cell_type": "code",
   "execution_count": 106,
   "metadata": {},
   "outputs": [
    {
     "data": {
      "text/html": [
       "<div>\n",
       "<style scoped>\n",
       "    .dataframe tbody tr th:only-of-type {\n",
       "        vertical-align: middle;\n",
       "    }\n",
       "\n",
       "    .dataframe tbody tr th {\n",
       "        vertical-align: top;\n",
       "    }\n",
       "\n",
       "    .dataframe thead th {\n",
       "        text-align: right;\n",
       "    }\n",
       "</style>\n",
       "<table border=\"1\" class=\"dataframe\">\n",
       "  <thead>\n",
       "    <tr style=\"text-align: right;\">\n",
       "      <th></th>\n",
       "      <th>WEEK</th>\n",
       "      <th>PTNR_RM_CODE</th>\n",
       "      <th>SALES</th>\n",
       "      <th>FLAG</th>\n",
       "    </tr>\n",
       "    <tr>\n",
       "      <th>DATE_FIELD</th>\n",
       "      <th></th>\n",
       "      <th></th>\n",
       "      <th></th>\n",
       "      <th></th>\n",
       "    </tr>\n",
       "  </thead>\n",
       "  <tbody>\n",
       "    <tr>\n",
       "      <th>2019-12-03</th>\n",
       "      <td>43.336956</td>\n",
       "      <td>4.998954e+07</td>\n",
       "      <td>11242.782514</td>\n",
       "      <td>0.942989</td>\n",
       "    </tr>\n",
       "    <tr>\n",
       "      <th>2019-12-04</th>\n",
       "      <td>42.699511</td>\n",
       "      <td>4.998656e+07</td>\n",
       "      <td>17677.121907</td>\n",
       "      <td>0.917408</td>\n",
       "    </tr>\n",
       "    <tr>\n",
       "      <th>2019-12-05</th>\n",
       "      <td>42.084677</td>\n",
       "      <td>4.998842e+07</td>\n",
       "      <td>21665.406000</td>\n",
       "      <td>0.905794</td>\n",
       "    </tr>\n",
       "    <tr>\n",
       "      <th>2019-12-06</th>\n",
       "      <td>41.491709</td>\n",
       "      <td>4.999308e+07</td>\n",
       "      <td>24077.487612</td>\n",
       "      <td>0.900401</td>\n",
       "    </tr>\n",
       "    <tr>\n",
       "      <th>2019-12-14</th>\n",
       "      <td>40.920422</td>\n",
       "      <td>4.999929e+07</td>\n",
       "      <td>25496.369699</td>\n",
       "      <td>0.897786</td>\n",
       "    </tr>\n",
       "    <tr>\n",
       "      <th>...</th>\n",
       "      <td>...</td>\n",
       "      <td>...</td>\n",
       "      <td>...</td>\n",
       "      <td>...</td>\n",
       "    </tr>\n",
       "    <tr>\n",
       "      <th>2023-01-16</th>\n",
       "      <td>27.247063</td>\n",
       "      <td>5.001493e+07</td>\n",
       "      <td>26033.901650</td>\n",
       "      <td>0.887566</td>\n",
       "    </tr>\n",
       "    <tr>\n",
       "      <th>2023-01-17</th>\n",
       "      <td>27.247064</td>\n",
       "      <td>5.001492e+07</td>\n",
       "      <td>26034.013232</td>\n",
       "      <td>0.887566</td>\n",
       "    </tr>\n",
       "    <tr>\n",
       "      <th>2023-01-18</th>\n",
       "      <td>27.247066</td>\n",
       "      <td>5.001491e+07</td>\n",
       "      <td>26034.124143</td>\n",
       "      <td>0.887566</td>\n",
       "    </tr>\n",
       "    <tr>\n",
       "      <th>2023-01-19</th>\n",
       "      <td>27.247067</td>\n",
       "      <td>5.001490e+07</td>\n",
       "      <td>26034.234389</td>\n",
       "      <td>0.887566</td>\n",
       "    </tr>\n",
       "    <tr>\n",
       "      <th>2023-01-20</th>\n",
       "      <td>27.247068</td>\n",
       "      <td>5.001489e+07</td>\n",
       "      <td>26034.343973</td>\n",
       "      <td>0.887566</td>\n",
       "    </tr>\n",
       "  </tbody>\n",
       "</table>\n",
       "<p>857 rows × 4 columns</p>\n",
       "</div>"
      ],
      "text/plain": [
       "                 WEEK  PTNR_RM_CODE         SALES      FLAG\n",
       "DATE_FIELD                                                 \n",
       "2019-12-03  43.336956  4.998954e+07  11242.782514  0.942989\n",
       "2019-12-04  42.699511  4.998656e+07  17677.121907  0.917408\n",
       "2019-12-05  42.084677  4.998842e+07  21665.406000  0.905794\n",
       "2019-12-06  41.491709  4.999308e+07  24077.487612  0.900401\n",
       "2019-12-14  40.920422  4.999929e+07  25496.369699  0.897786\n",
       "...               ...           ...           ...       ...\n",
       "2023-01-16  27.247063  5.001493e+07  26033.901650  0.887566\n",
       "2023-01-17  27.247064  5.001492e+07  26034.013232  0.887566\n",
       "2023-01-18  27.247066  5.001491e+07  26034.124143  0.887566\n",
       "2023-01-19  27.247067  5.001490e+07  26034.234389  0.887566\n",
       "2023-01-20  27.247068  5.001489e+07  26034.343973  0.887566\n",
       "\n",
       "[857 rows x 4 columns]"
      ]
     },
     "execution_count": 106,
     "metadata": {},
     "output_type": "execute_result"
    }
   ],
   "source": [
    "forecast_df"
   ]
  },
  {
   "cell_type": "code",
   "execution_count": null,
   "metadata": {},
   "outputs": [],
   "source": []
  }
 ],
 "metadata": {
  "kernelspec": {
   "display_name": ".venv",
   "language": "python",
   "name": "python3"
  },
  "language_info": {
   "codemirror_mode": {
    "name": "ipython",
    "version": 3
   },
   "file_extension": ".py",
   "mimetype": "text/x-python",
   "name": "python",
   "nbconvert_exporter": "python",
   "pygments_lexer": "ipython3",
   "version": "3.9.6"
  }
 },
 "nbformat": 4,
 "nbformat_minor": 2
}
