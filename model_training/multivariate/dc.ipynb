{
 "cells": [
  {
   "cell_type": "code",
   "execution_count": 10,
   "metadata": {},
   "outputs": [],
   "source": [
    "import pandas as pd"
   ]
  },
  {
   "cell_type": "code",
   "execution_count": 11,
   "metadata": {},
   "outputs": [],
   "source": [
    "df = pd.read_parquet('sorted_data.parquet')"
   ]
  },
  {
   "cell_type": "code",
   "execution_count": 12,
   "metadata": {},
   "outputs": [
    {
     "data": {
      "text/html": [
       "<div>\n",
       "<style scoped>\n",
       "    .dataframe tbody tr th:only-of-type {\n",
       "        vertical-align: middle;\n",
       "    }\n",
       "\n",
       "    .dataframe tbody tr th {\n",
       "        vertical-align: top;\n",
       "    }\n",
       "\n",
       "    .dataframe thead th {\n",
       "        text-align: right;\n",
       "    }\n",
       "</style>\n",
       "<table border=\"1\" class=\"dataframe\">\n",
       "  <thead>\n",
       "    <tr style=\"text-align: right;\">\n",
       "      <th></th>\n",
       "      <th>PTNR_RM_CODE</th>\n",
       "      <th>WEEK</th>\n",
       "      <th>DATE_FIELD</th>\n",
       "      <th>SALES</th>\n",
       "      <th>FLAG</th>\n",
       "    </tr>\n",
       "  </thead>\n",
       "  <tbody>\n",
       "    <tr>\n",
       "      <th>70</th>\n",
       "      <td>0.0</td>\n",
       "      <td>35</td>\n",
       "      <td>2020-10-03</td>\n",
       "      <td>3667.99</td>\n",
       "      <td>Active</td>\n",
       "    </tr>\n",
       "    <tr>\n",
       "      <th>71</th>\n",
       "      <td>0.0</td>\n",
       "      <td>36</td>\n",
       "      <td>2020-10-04</td>\n",
       "      <td>170271.74</td>\n",
       "      <td>Active</td>\n",
       "    </tr>\n",
       "    <tr>\n",
       "      <th>72</th>\n",
       "      <td>0.0</td>\n",
       "      <td>36</td>\n",
       "      <td>2020-10-05</td>\n",
       "      <td>157920.38</td>\n",
       "      <td>Active</td>\n",
       "    </tr>\n",
       "    <tr>\n",
       "      <th>73</th>\n",
       "      <td>0.0</td>\n",
       "      <td>36</td>\n",
       "      <td>2020-10-06</td>\n",
       "      <td>114844.09</td>\n",
       "      <td>Active</td>\n",
       "    </tr>\n",
       "    <tr>\n",
       "      <th>74</th>\n",
       "      <td>0.0</td>\n",
       "      <td>36</td>\n",
       "      <td>2020-10-07</td>\n",
       "      <td>109160.03</td>\n",
       "      <td>Active</td>\n",
       "    </tr>\n",
       "  </tbody>\n",
       "</table>\n",
       "</div>"
      ],
      "text/plain": [
       "    PTNR_RM_CODE  WEEK DATE_FIELD      SALES    FLAG\n",
       "70           0.0    35 2020-10-03    3667.99  Active\n",
       "71           0.0    36 2020-10-04  170271.74  Active\n",
       "72           0.0    36 2020-10-05  157920.38  Active\n",
       "73           0.0    36 2020-10-06  114844.09  Active\n",
       "74           0.0    36 2020-10-07  109160.03  Active"
      ]
     },
     "execution_count": 12,
     "metadata": {},
     "output_type": "execute_result"
    }
   ],
   "source": [
    "df.head()"
   ]
  },
  {
   "cell_type": "code",
   "execution_count": 13,
   "metadata": {},
   "outputs": [],
   "source": [
    "df['DATE_FIELD'] = pd.to_datetime(df['DATE_FIELD'])\n",
    "\n",
    "# Add a column for the year\n",
    "df['year'] = df['DATE_FIELD'].dt.year\n",
    "\n",
    "# Calculate the week number starting from 1st February\n",
    "df['week_num'] = df['DATE_FIELD'].dt.strftime('%W').astype(int) - pd.to_datetime(df['year'].astype(str) + '-02-01').dt.strftime('%W').astype(int) + 1\n",
    "\n",
    "# Create the yearweeks column by combining year and week_num\n",
    "df['yearweeks'] = df['year'].astype(str) + df['week_num'].astype(str)\n",
    "\n",
    "# Drop the temporary columns if needed\n",
    "df.drop(['year', 'week_num'], axis=1, inplace=True)"
   ]
  },
  {
   "cell_type": "code",
   "execution_count": 14,
   "metadata": {},
   "outputs": [],
   "source": [
    "df['month'] = df['DATE_FIELD'].dt.month"
   ]
  },
  {
   "cell_type": "code",
   "execution_count": 15,
   "metadata": {},
   "outputs": [],
   "source": [
    "df['year'] = df['DATE_FIELD'].dt.year"
   ]
  },
  {
   "cell_type": "code",
   "execution_count": 25,
   "metadata": {},
   "outputs": [
    {
     "name": "stdout",
     "output_type": "stream",
     "text": [
      "    PTNR_RM_CODE  WEEK DATE_FIELD      SALES    FLAG yearweeks  month  year\n",
      "70           0.0    35 2020-10-03    3667.99  Active    202036     10  2020\n",
      "71           0.0    36 2020-10-04  170271.74  Active    202036     10  2020\n",
      "72           0.0    36 2020-10-05  157920.38  Active    202037     10  2020\n",
      "73           0.0    36 2020-10-06  114844.09  Active    202037     10  2020\n",
      "74           0.0    36 2020-10-07  109160.03  Active    202037     10  2020\n"
     ]
    }
   ],
   "source": [
    "df['yearweeks'] = df['yearweeks'].str.replace('20201', '201953')\n",
    "\n",
    "# Display the DataFrame with the modified yearweeks column\n",
    "print(df.head())"
   ]
  },
  {
   "cell_type": "code",
   "execution_count": 26,
   "metadata": {},
   "outputs": [],
   "source": [
    "df.to_parquet('sorted_data.parquet')"
   ]
  },
  {
   "cell_type": "code",
   "execution_count": 27,
   "metadata": {},
   "outputs": [],
   "source": [
    "df.drop(['year', 'month'], axis=1, inplace=True)"
   ]
  },
  {
   "cell_type": "code",
   "execution_count": 28,
   "metadata": {},
   "outputs": [],
   "source": [
    "df.to_parquet('sorted_data.parquet')"
   ]
  },
  {
   "cell_type": "code",
   "execution_count": null,
   "metadata": {},
   "outputs": [],
   "source": []
  }
 ],
 "metadata": {
  "kernelspec": {
   "display_name": ".venv",
   "language": "python",
   "name": "python3"
  },
  "language_info": {
   "codemirror_mode": {
    "name": "ipython",
    "version": 3
   },
   "file_extension": ".py",
   "mimetype": "text/x-python",
   "name": "python",
   "nbconvert_exporter": "python",
   "pygments_lexer": "ipython3",
   "version": "3.9.6"
  }
 },
 "nbformat": 4,
 "nbformat_minor": 2
}
