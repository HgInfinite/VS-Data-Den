{
 "cells": [
  {
   "cell_type": "code",
   "execution_count": 2,
   "metadata": {},
   "outputs": [],
   "source": [
    "import pandas as pd\n",
    "import numpy as np"
   ]
  },
  {
   "cell_type": "code",
   "execution_count": 3,
   "metadata": {},
   "outputs": [],
   "source": [
    "df = pd.read_csv('model_dataset.csv')"
   ]
  },
  {
   "cell_type": "code",
   "execution_count": 3,
   "metadata": {},
   "outputs": [
    {
     "data": {
      "text/plain": [
       "Index(['PTNR_REGIONAL_MASTER_CD', 'YEARWEEK', 'TOTAL_SALES'], dtype='object')"
      ]
     },
     "execution_count": 3,
     "metadata": {},
     "output_type": "execute_result"
    }
   ],
   "source": [
    "df.columns"
   ]
  },
  {
   "cell_type": "code",
   "execution_count": 5,
   "metadata": {},
   "outputs": [
    {
     "name": "stdout",
     "output_type": "stream",
     "text": [
      "Regional Master with the second-highest number of data points: 50000078.0\n",
      "Number of unique yearweeks for this regional master: 325\n"
     ]
    }
   ],
   "source": [
    "# Regional counts of data points\n",
    "regional_counts = df.groupby('PTNR_REGIONAL_MASTER_CD')['YEARWEEK'].count()\n",
    "\n",
    "# Exclude the regional master with the highest count\n",
    "most_data_regional_master = regional_counts.idxmax()\n",
    "second_most_data_regional_master = regional_counts.drop(most_data_regional_master).idxmax()\n",
    "\n",
    "# Now, let's find out how scattered the data is around yearweeks for this regional master\n",
    "regional_data = df[df['PTNR_REGIONAL_MASTER_CD'] == second_most_data_regional_master]\n",
    "\n",
    "# Count the unique yearweeks for this regional master\n",
    "unique_yearweeks = regional_data['YEARWEEK'].nunique()\n",
    "\n",
    "print(\"Regional Master with the second-highest number of data points:\", second_most_data_regional_master)\n",
    "print(\"Number of unique yearweeks for this regional master:\", unique_yearweeks)\n"
   ]
  },
  {
   "cell_type": "code",
   "execution_count": 8,
   "metadata": {},
   "outputs": [
    {
     "name": "stdout",
     "output_type": "stream",
     "text": [
      "Data for regional master 50000009.0 has been saved to regional_master_50000078.csv\n"
     ]
    }
   ],
   "source": [
    "import pandas as pd\n",
    "\n",
    "# Assuming df is your DataFrame with the specified columns\n",
    "\n",
    "# Filter data for the regional master '50000009.0'\n",
    "regional_master_data = df[df['PTNR_REGIONAL_MASTER_CD'] == 50000078.0]\n",
    "\n",
    "# Drop the 'PTNR_REGIONAL_MASTER_CD' column\n",
    "regional_master_data = regional_master_data.drop(columns=['PTNR_REGIONAL_MASTER_CD'])\n",
    "\n",
    "# Convert 'TOTAL_SALES' column to integer\n",
    "regional_master_data['TOTAL_SALES'] = regional_master_data['TOTAL_SALES'].astype(int)\n",
    "\n",
    "# Specify the file path where you want to save the CSV\n",
    "file_path = 'regional_master_50000078.csv'\n",
    "\n",
    "# Save the data to CSV\n",
    "regional_master_data.to_csv(file_path, index=False)\n",
    "\n",
    "print(\"Data for regional master 50000009.0 has been saved to\", file_path)\n"
   ]
  },
  {
   "cell_type": "code",
   "execution_count": null,
   "metadata": {},
   "outputs": [],
   "source": []
  }
 ],
 "metadata": {
  "kernelspec": {
   "display_name": ".venv",
   "language": "python",
   "name": "python3"
  },
  "language_info": {
   "codemirror_mode": {
    "name": "ipython",
    "version": 3
   },
   "file_extension": ".py",
   "mimetype": "text/x-python",
   "name": "python",
   "nbconvert_exporter": "python",
   "pygments_lexer": "ipython3",
   "version": "3.9.6"
  }
 },
 "nbformat": 4,
 "nbformat_minor": 2
}
