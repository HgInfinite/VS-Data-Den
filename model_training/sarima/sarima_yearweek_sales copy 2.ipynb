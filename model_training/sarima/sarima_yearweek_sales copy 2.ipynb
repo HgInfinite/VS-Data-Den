{
 "cells": [
  {
   "cell_type": "code",
   "execution_count": 1,
   "metadata": {},
   "outputs": [],
   "source": [
    "import pandas as pd\n",
    "import numpy as np\n",
    "import matplotlib.pyplot as plt\n",
    "import seaborn as sns\n"
   ]
  },
  {
   "cell_type": "code",
   "execution_count": 2,
   "metadata": {},
   "outputs": [],
   "source": [
    "df = pd.read_parquet('/Users/harshitgupta/Desktop/vs /VS-Data-Den/graphs/parquet_dataset.parquet')"
   ]
  },
  {
   "cell_type": "code",
   "execution_count": 3,
   "metadata": {},
   "outputs": [
    {
     "data": {
      "text/html": [
       "<div>\n",
       "<style scoped>\n",
       "    .dataframe tbody tr th:only-of-type {\n",
       "        vertical-align: middle;\n",
       "    }\n",
       "\n",
       "    .dataframe tbody tr th {\n",
       "        vertical-align: top;\n",
       "    }\n",
       "\n",
       "    .dataframe thead th {\n",
       "        text-align: right;\n",
       "    }\n",
       "</style>\n",
       "<table border=\"1\" class=\"dataframe\">\n",
       "  <thead>\n",
       "    <tr style=\"text-align: right;\">\n",
       "      <th></th>\n",
       "      <th></th>\n",
       "      <th>DATE_FIELD</th>\n",
       "      <th>SALES</th>\n",
       "      <th>WEEK</th>\n",
       "      <th>PTNR_RM_CODE</th>\n",
       "      <th>FLAG</th>\n",
       "    </tr>\n",
       "    <tr>\n",
       "      <th>PTNR_RM_CODE</th>\n",
       "      <th></th>\n",
       "      <th></th>\n",
       "      <th></th>\n",
       "      <th></th>\n",
       "      <th></th>\n",
       "      <th></th>\n",
       "    </tr>\n",
       "  </thead>\n",
       "  <tbody>\n",
       "    <tr>\n",
       "      <th rowspan=\"5\" valign=\"top\">0.0</th>\n",
       "      <th>9224474</th>\n",
       "      <td>2020-10-03</td>\n",
       "      <td>0.00</td>\n",
       "      <td>35</td>\n",
       "      <td>0.0</td>\n",
       "      <td>inactive</td>\n",
       "    </tr>\n",
       "    <tr>\n",
       "      <th>9211636</th>\n",
       "      <td>2020-10-03</td>\n",
       "      <td>0.00</td>\n",
       "      <td>35</td>\n",
       "      <td>0.0</td>\n",
       "      <td>inactive</td>\n",
       "    </tr>\n",
       "    <tr>\n",
       "      <th>9203627</th>\n",
       "      <td>2020-10-03</td>\n",
       "      <td>2.67</td>\n",
       "      <td>35</td>\n",
       "      <td>0.0</td>\n",
       "      <td>active</td>\n",
       "    </tr>\n",
       "    <tr>\n",
       "      <th>9235694</th>\n",
       "      <td>2020-10-03</td>\n",
       "      <td>3.85</td>\n",
       "      <td>35</td>\n",
       "      <td>0.0</td>\n",
       "      <td>active</td>\n",
       "    </tr>\n",
       "    <tr>\n",
       "      <th>9203626</th>\n",
       "      <td>2020-10-03</td>\n",
       "      <td>10.11</td>\n",
       "      <td>35</td>\n",
       "      <td>0.0</td>\n",
       "      <td>active</td>\n",
       "    </tr>\n",
       "  </tbody>\n",
       "</table>\n",
       "</div>"
      ],
      "text/plain": [
       "                     DATE_FIELD  SALES  WEEK  PTNR_RM_CODE      FLAG\n",
       "PTNR_RM_CODE                                                        \n",
       "0.0          9224474 2020-10-03   0.00    35           0.0  inactive\n",
       "             9211636 2020-10-03   0.00    35           0.0  inactive\n",
       "             9203627 2020-10-03   2.67    35           0.0    active\n",
       "             9235694 2020-10-03   3.85    35           0.0    active\n",
       "             9203626 2020-10-03  10.11    35           0.0    active"
      ]
     },
     "execution_count": 3,
     "metadata": {},
     "output_type": "execute_result"
    }
   ],
   "source": [
    "df.head()"
   ]
  },
  {
   "cell_type": "code",
   "execution_count": 4,
   "metadata": {},
   "outputs": [],
   "source": [
    "# df['YEARWEEK'] = df['YEARWEEK'].astype(str)\n",
    "# df['YEARWEEK'] = pd.to_datetime(df['YEARWEEK'].astype(str) + '-0', format='%Y%W-%w')"
   ]
  },
  {
   "cell_type": "code",
   "execution_count": 4,
   "metadata": {},
   "outputs": [
    {
     "data": {
      "text/html": [
       "<div>\n",
       "<style scoped>\n",
       "    .dataframe tbody tr th:only-of-type {\n",
       "        vertical-align: middle;\n",
       "    }\n",
       "\n",
       "    .dataframe tbody tr th {\n",
       "        vertical-align: top;\n",
       "    }\n",
       "\n",
       "    .dataframe thead th {\n",
       "        text-align: right;\n",
       "    }\n",
       "</style>\n",
       "<table border=\"1\" class=\"dataframe\">\n",
       "  <thead>\n",
       "    <tr style=\"text-align: right;\">\n",
       "      <th></th>\n",
       "      <th></th>\n",
       "      <th>DATE_FIELD</th>\n",
       "      <th>SALES</th>\n",
       "      <th>WEEK</th>\n",
       "      <th>PTNR_RM_CODE</th>\n",
       "      <th>FLAG</th>\n",
       "    </tr>\n",
       "    <tr>\n",
       "      <th>PTNR_RM_CODE</th>\n",
       "      <th></th>\n",
       "      <th></th>\n",
       "      <th></th>\n",
       "      <th></th>\n",
       "      <th></th>\n",
       "      <th></th>\n",
       "    </tr>\n",
       "  </thead>\n",
       "  <tbody>\n",
       "    <tr>\n",
       "      <th rowspan=\"5\" valign=\"top\">0.0</th>\n",
       "      <th>9224474</th>\n",
       "      <td>2020-10-03</td>\n",
       "      <td>0.00</td>\n",
       "      <td>35</td>\n",
       "      <td>0.0</td>\n",
       "      <td>inactive</td>\n",
       "    </tr>\n",
       "    <tr>\n",
       "      <th>9211636</th>\n",
       "      <td>2020-10-03</td>\n",
       "      <td>0.00</td>\n",
       "      <td>35</td>\n",
       "      <td>0.0</td>\n",
       "      <td>inactive</td>\n",
       "    </tr>\n",
       "    <tr>\n",
       "      <th>9203627</th>\n",
       "      <td>2020-10-03</td>\n",
       "      <td>2.67</td>\n",
       "      <td>35</td>\n",
       "      <td>0.0</td>\n",
       "      <td>active</td>\n",
       "    </tr>\n",
       "    <tr>\n",
       "      <th>9235694</th>\n",
       "      <td>2020-10-03</td>\n",
       "      <td>3.85</td>\n",
       "      <td>35</td>\n",
       "      <td>0.0</td>\n",
       "      <td>active</td>\n",
       "    </tr>\n",
       "    <tr>\n",
       "      <th>9203626</th>\n",
       "      <td>2020-10-03</td>\n",
       "      <td>10.11</td>\n",
       "      <td>35</td>\n",
       "      <td>0.0</td>\n",
       "      <td>active</td>\n",
       "    </tr>\n",
       "  </tbody>\n",
       "</table>\n",
       "</div>"
      ],
      "text/plain": [
       "                     DATE_FIELD  SALES  WEEK  PTNR_RM_CODE      FLAG\n",
       "PTNR_RM_CODE                                                        \n",
       "0.0          9224474 2020-10-03   0.00    35           0.0  inactive\n",
       "             9211636 2020-10-03   0.00    35           0.0  inactive\n",
       "             9203627 2020-10-03   2.67    35           0.0    active\n",
       "             9235694 2020-10-03   3.85    35           0.0    active\n",
       "             9203626 2020-10-03  10.11    35           0.0    active"
      ]
     },
     "execution_count": 4,
     "metadata": {},
     "output_type": "execute_result"
    }
   ],
   "source": [
    "df.head()"
   ]
  },
  {
   "cell_type": "code",
   "execution_count": 6,
   "metadata": {},
   "outputs": [],
   "source": [
    "df.set_index('DATE_FIELD' , inplace=True)"
   ]
  },
  {
   "cell_type": "code",
   "execution_count": 7,
   "metadata": {},
   "outputs": [
    {
     "data": {
      "text/html": [
       "<div>\n",
       "<style scoped>\n",
       "    .dataframe tbody tr th:only-of-type {\n",
       "        vertical-align: middle;\n",
       "    }\n",
       "\n",
       "    .dataframe tbody tr th {\n",
       "        vertical-align: top;\n",
       "    }\n",
       "\n",
       "    .dataframe thead th {\n",
       "        text-align: right;\n",
       "    }\n",
       "</style>\n",
       "<table border=\"1\" class=\"dataframe\">\n",
       "  <thead>\n",
       "    <tr style=\"text-align: right;\">\n",
       "      <th></th>\n",
       "      <th>SALES</th>\n",
       "      <th>WEEK</th>\n",
       "      <th>PTNR_RM_CODE</th>\n",
       "      <th>FLAG</th>\n",
       "    </tr>\n",
       "    <tr>\n",
       "      <th>DATE_FIELD</th>\n",
       "      <th></th>\n",
       "      <th></th>\n",
       "      <th></th>\n",
       "      <th></th>\n",
       "    </tr>\n",
       "  </thead>\n",
       "  <tbody>\n",
       "    <tr>\n",
       "      <th>2020-10-03</th>\n",
       "      <td>0.00</td>\n",
       "      <td>35</td>\n",
       "      <td>0.0</td>\n",
       "      <td>inactive</td>\n",
       "    </tr>\n",
       "    <tr>\n",
       "      <th>2020-10-03</th>\n",
       "      <td>0.00</td>\n",
       "      <td>35</td>\n",
       "      <td>0.0</td>\n",
       "      <td>inactive</td>\n",
       "    </tr>\n",
       "    <tr>\n",
       "      <th>2020-10-03</th>\n",
       "      <td>2.67</td>\n",
       "      <td>35</td>\n",
       "      <td>0.0</td>\n",
       "      <td>active</td>\n",
       "    </tr>\n",
       "    <tr>\n",
       "      <th>2020-10-03</th>\n",
       "      <td>3.85</td>\n",
       "      <td>35</td>\n",
       "      <td>0.0</td>\n",
       "      <td>active</td>\n",
       "    </tr>\n",
       "    <tr>\n",
       "      <th>2020-10-03</th>\n",
       "      <td>10.11</td>\n",
       "      <td>35</td>\n",
       "      <td>0.0</td>\n",
       "      <td>active</td>\n",
       "    </tr>\n",
       "  </tbody>\n",
       "</table>\n",
       "</div>"
      ],
      "text/plain": [
       "            SALES  WEEK  PTNR_RM_CODE      FLAG\n",
       "DATE_FIELD                                     \n",
       "2020-10-03   0.00    35           0.0  inactive\n",
       "2020-10-03   0.00    35           0.0  inactive\n",
       "2020-10-03   2.67    35           0.0    active\n",
       "2020-10-03   3.85    35           0.0    active\n",
       "2020-10-03  10.11    35           0.0    active"
      ]
     },
     "execution_count": 7,
     "metadata": {},
     "output_type": "execute_result"
    }
   ],
   "source": [
    "df.head()"
   ]
  },
  {
   "cell_type": "code",
   "execution_count": 8,
   "metadata": {},
   "outputs": [
    {
     "data": {
      "text/html": [
       "<div>\n",
       "<style scoped>\n",
       "    .dataframe tbody tr th:only-of-type {\n",
       "        vertical-align: middle;\n",
       "    }\n",
       "\n",
       "    .dataframe tbody tr th {\n",
       "        vertical-align: top;\n",
       "    }\n",
       "\n",
       "    .dataframe thead th {\n",
       "        text-align: right;\n",
       "    }\n",
       "</style>\n",
       "<table border=\"1\" class=\"dataframe\">\n",
       "  <thead>\n",
       "    <tr style=\"text-align: right;\">\n",
       "      <th></th>\n",
       "      <th>SALES</th>\n",
       "      <th>WEEK</th>\n",
       "      <th>PTNR_RM_CODE</th>\n",
       "    </tr>\n",
       "  </thead>\n",
       "  <tbody>\n",
       "    <tr>\n",
       "      <th>count</th>\n",
       "      <td>9.713572e+06</td>\n",
       "      <td>9.713572e+06</td>\n",
       "      <td>9.713572e+06</td>\n",
       "    </tr>\n",
       "    <tr>\n",
       "      <th>mean</th>\n",
       "      <td>3.281459e+01</td>\n",
       "      <td>2.853135e+01</td>\n",
       "      <td>2.778458e+07</td>\n",
       "    </tr>\n",
       "    <tr>\n",
       "      <th>std</th>\n",
       "      <td>4.278503e+02</td>\n",
       "      <td>1.539693e+01</td>\n",
       "      <td>2.484452e+07</td>\n",
       "    </tr>\n",
       "    <tr>\n",
       "      <th>min</th>\n",
       "      <td>0.000000e+00</td>\n",
       "      <td>1.000000e+00</td>\n",
       "      <td>0.000000e+00</td>\n",
       "    </tr>\n",
       "    <tr>\n",
       "      <th>25%</th>\n",
       "      <td>8.870000e+00</td>\n",
       "      <td>1.600000e+01</td>\n",
       "      <td>0.000000e+00</td>\n",
       "    </tr>\n",
       "    <tr>\n",
       "      <th>50%</th>\n",
       "      <td>1.579000e+01</td>\n",
       "      <td>3.200000e+01</td>\n",
       "      <td>5.000001e+07</td>\n",
       "    </tr>\n",
       "    <tr>\n",
       "      <th>75%</th>\n",
       "      <td>3.180000e+01</td>\n",
       "      <td>4.000000e+01</td>\n",
       "      <td>5.000008e+07</td>\n",
       "    </tr>\n",
       "    <tr>\n",
       "      <th>max</th>\n",
       "      <td>4.945912e+05</td>\n",
       "      <td>5.200000e+01</td>\n",
       "      <td>5.000114e+07</td>\n",
       "    </tr>\n",
       "  </tbody>\n",
       "</table>\n",
       "</div>"
      ],
      "text/plain": [
       "              SALES          WEEK  PTNR_RM_CODE\n",
       "count  9.713572e+06  9.713572e+06  9.713572e+06\n",
       "mean   3.281459e+01  2.853135e+01  2.778458e+07\n",
       "std    4.278503e+02  1.539693e+01  2.484452e+07\n",
       "min    0.000000e+00  1.000000e+00  0.000000e+00\n",
       "25%    8.870000e+00  1.600000e+01  0.000000e+00\n",
       "50%    1.579000e+01  3.200000e+01  5.000001e+07\n",
       "75%    3.180000e+01  4.000000e+01  5.000008e+07\n",
       "max    4.945912e+05  5.200000e+01  5.000114e+07"
      ]
     },
     "execution_count": 8,
     "metadata": {},
     "output_type": "execute_result"
    }
   ],
   "source": [
    "df.describe()"
   ]
  },
  {
   "cell_type": "code",
   "execution_count": 9,
   "metadata": {},
   "outputs": [
    {
     "data": {
      "text/plain": [
       "TOTAL_SALES    325\n",
       "dtype: int64"
      ]
     },
     "execution_count": 9,
     "metadata": {},
     "output_type": "execute_result"
    }
   ],
   "source": [
    "df.count()"
   ]
  },
  {
   "cell_type": "code",
   "execution_count": 9,
   "metadata": {},
   "outputs": [
    {
     "data": {
      "text/plain": [
       "<Axes: xlabel='DATE_FIELD'>"
      ]
     },
     "execution_count": 9,
     "metadata": {},
     "output_type": "execute_result"
    },
    {
     "data": {
      "image/png": "[encoded data removed]",
      "text/plain": [
       "<Figure size 640x480 with 1 Axes>"
      ]
     },
     "metadata": {},
     "output_type": "display_data"
    }
   ],
   "source": [
    "df.plot()"
   ]
  },
  {
   "cell_type": "code",
   "execution_count": 11,
   "metadata": {},
   "outputs": [],
   "source": [
    "from statsmodels.tsa.stattools import adfuller"
   ]
  },
  {
   "cell_type": "code",
   "execution_count": 12,
   "metadata": {},
   "outputs": [],
   "source": [
    "test_result = adfuller(df['TOTAL_SALES'])"
   ]
  },
  {
   "cell_type": "code",
   "execution_count": 13,
   "metadata": {},
   "outputs": [],
   "source": [
    "def adfuller_test(sales):\n",
    "    result = adfuller(sales)\n",
    "    labels = ['ADF test stat',  'p-value' , 'no of lags used' , 'no of obs']\n",
    "    for value,label in zip(result,labels):\n",
    "        print(label+' : ' + str(value))\n",
    "    if result[1]<=0.05:\n",
    "        print('strong evidence against null hypothesis')\n",
    "    else:\n",
    "        print('weak evidenece against null hypothesis')"
   ]
  },
  {
   "cell_type": "code",
   "execution_count": 14,
   "metadata": {},
   "outputs": [
    {
     "name": "stdout",
     "output_type": "stream",
     "text": [
      "ADF test stat : -14.42914691449927\n",
      "p-value : 7.682256216128759e-27\n",
      "no of lags used : 0\n",
      "no of obs : 324\n",
      "strong evidence against null hypothesis\n"
     ]
    }
   ],
   "source": [
    "adfuller_test(df['TOTAL_SALES'])"
   ]
  },
  {
   "cell_type": "code",
   "execution_count": 15,
   "metadata": {},
   "outputs": [],
   "source": [
    "import statsmodels.api as sm"
   ]
  },
  {
   "cell_type": "code",
   "execution_count": 16,
   "metadata": {},
   "outputs": [],
   "source": [
    "train = df.iloc[:int(0.6*len(df))]\n",
    "test = df.iloc[int(0.6*len(df)):]\n"
   ]
  },
  {
   "cell_type": "code",
   "execution_count": 17,
   "metadata": {},
   "outputs": [
    {
     "data": {
      "text/plain": [
       "(TOTAL_SALES    195\n",
       " dtype: int64,\n",
       " TOTAL_SALES    130\n",
       " dtype: int64)"
      ]
     },
     "execution_count": 17,
     "metadata": {},
     "output_type": "execute_result"
    }
   ],
   "source": [
    "train.count() , test.count()"
   ]
  },
  {
   "cell_type": "code",
   "execution_count": 18,
   "metadata": {},
   "outputs": [],
   "source": [
    "import itertools"
   ]
  },
  {
   "cell_type": "code",
   "execution_count": 40,
   "metadata": {},
   "outputs": [],
   "source": [
    "# Define the parameter combinations\n",
    "p_values = range(0, 5)  # Autoregressive order\n",
    "d_values = range(0.5)          # Differencing order\n",
    "q_values = range(0, 5)  # Moving average order\n",
    "P_values = range(0, 5)  # Seasonal autoregressive order\n",
    "D_values = range(0, 5)  # Seasonal differencing order\n",
    "Q_values = range(0, 5)  # Seasonal moving average order\n",
    "m_values = [1,3,12,52]         # Seasonal period\n",
    "\n",
    "# Create all possible combinations of SARIMA parameters\n",
    "param_combinations = list(itertools.product(p_values, \n",
    "                                            d_values, \n",
    "                                            q_values, \n",
    "                                            P_values, \n",
    "                                            D_values, \n",
    "                                            Q_values, \n",
    "                                            m_values))\n",
    "\n"
   ]
  },
  {
   "cell_type": "code",
   "execution_count": 41,
   "metadata": {},
   "outputs": [],
   "source": [
    "from sklearn.metrics import mean_squared_error"
   ]
  },
  {
   "cell_type": "code",
   "execution_count": 42,
   "metadata": {},
   "outputs": [],
   "source": [
    "best_mape = float('inf')\n",
    "best_params_mape = None"
   ]
  },
  {
   "cell_type": "code",
   "execution_count": null,
   "metadata": {},
   "outputs": [],
   "source": [
    "for param in param_combinations:\n",
    "    for trend_param in ['n', 'c', 't', 'ct', [1, 1, 0, 1]]:\n",
    "        try:\n",
    "            # Fit SARIMA model\n",
    "            model = sm.tsa.statespace.SARIMAX(train['TOTAL_SALES'], \n",
    "                                               order=(param[0], param[1], param[2]), \n",
    "                                               seasonal_order=(param[3], param[4], param[5], param[6]),\n",
    "                                               trend=trend_param)\n",
    "            results = model.fit()\n",
    "\n",
    "            # Forecast\n",
    "            forecast = results.forecast(steps=len(test))\n",
    "\n",
    "            # Calculate MAPE\n",
    "            mape_val = mape(test['TOTAL_SALES'], forecast)\n",
    "\n",
    "            # Update best parameters if MAPE is lower\n",
    "            if mape_val < best_mape:\n",
    "                best_mape = mape_val\n",
    "                best_params_mape = (param, trend_param)\n",
    "        except:\n",
    "            continue"
   ]
  },
  {
   "cell_type": "code",
   "execution_count": 59,
   "metadata": {},
   "outputs": [
    {
     "name": "stdout",
     "output_type": "stream",
     "text": [
      "Best Parameters with Least MAPE: ((0, 0, 0, 0, 0, 1, 52), 'ct')\n",
      "Best MAPE: 29.82405531744574\n"
     ]
    }
   ],
   "source": [
    "print(\"Best Parameters with Least MAPE:\", best_params_mape)\n",
    "print(\"Best MAPE:\", best_mape)"
   ]
  },
  {
   "cell_type": "code",
   "execution_count": 47,
   "metadata": {},
   "outputs": [],
   "source": [
    "forecast = results.forecast(steps=len(test))"
   ]
  },
  {
   "cell_type": "code",
   "execution_count": 48,
   "metadata": {},
   "outputs": [
    {
     "data": {
      "image/png": "[encoded data removed]",
      "text/plain": [
       "<Figure size 1000x600 with 1 Axes>"
      ]
     },
     "metadata": {},
     "output_type": "display_data"
    },
    {
     "name": "stdout",
     "output_type": "stream",
     "text": [
      "Forecasted Sales:\n",
      "2021-09-27    1.217683e+15\n",
      "2021-10-04    1.217683e+15\n",
      "2021-10-11    1.217683e+15\n",
      "2021-10-18    1.217683e+15\n",
      "2021-10-25    1.217683e+15\n",
      "                  ...     \n",
      "2024-02-19    1.217683e+15\n",
      "2024-02-26    1.217683e+15\n",
      "2024-03-04    1.217683e+15\n",
      "2024-03-11    1.217683e+15\n",
      "2024-03-18    1.217683e+15\n",
      "Freq: W-MON, Name: predicted_mean, Length: 130, dtype: float64\n"
     ]
    }
   ],
   "source": [
    "plt.figure(figsize=(10, 6))\n",
    "plt.plot(df.index, df['TOTAL_SALES'], label='Original Data')\n",
    "plt.plot(forecast.index, forecast, label='Forecast')\n",
    "plt.title('Total Sales Forecast')\n",
    "plt.xlabel('Date')\n",
    "plt.ylabel('Total Sales')\n",
    "plt.legend()\n",
    "plt.show()\n",
    "\n",
    "\n",
    "print(\"Forecasted Sales:\")\n",
    "print(forecast)"
   ]
  },
  {
   "cell_type": "code",
   "execution_count": 49,
   "metadata": {},
   "outputs": [],
   "source": [
    "import numpy as np\n",
    "from sklearn.metrics import mean_squared_error\n"
   ]
  },
  {
   "cell_type": "code",
   "execution_count": 50,
   "metadata": {},
   "outputs": [],
   "source": [
    "rmse = np.sqrt(mean_squared_error(test['TOTAL_SALES'], forecast))"
   ]
  },
  {
   "cell_type": "code",
   "execution_count": 51,
   "metadata": {},
   "outputs": [
    {
     "data": {
      "text/plain": [
       "1217682902399968.2"
      ]
     },
     "execution_count": 51,
     "metadata": {},
     "output_type": "execute_result"
    }
   ],
   "source": [
    "rmse"
   ]
  },
  {
   "cell_type": "code",
   "execution_count": 52,
   "metadata": {},
   "outputs": [],
   "source": [
    "# test.head(10)"
   ]
  },
  {
   "cell_type": "code",
   "execution_count": 53,
   "metadata": {},
   "outputs": [
    {
     "name": "stderr",
     "output_type": "stream",
     "text": [
      "/var/folders/_p/ljb0l43112vc95swz8nhgv340000gn/T/ipykernel_44468/2851741147.py:1: SettingWithCopyWarning: \n",
      "A value is trying to be set on a copy of a slice from a DataFrame.\n",
      "Try using .loc[row_indexer,col_indexer] = value instead\n",
      "\n",
      "See the caveats in the documentation: https://pandas.pydata.org/pandas-docs/stable/user_guide/indexing.html#returning-a-view-versus-a-copy\n",
      "  test['prediction'] = results.predict(dynamic=True)\n"
     ]
    }
   ],
   "source": [
    "test['prediction'] = results.predict(dynamic=True)"
   ]
  },
  {
   "cell_type": "code",
   "execution_count": 54,
   "metadata": {},
   "outputs": [
    {
     "data": {
      "text/html": [
       "<div>\n",
       "<style scoped>\n",
       "    .dataframe tbody tr th:only-of-type {\n",
       "        vertical-align: middle;\n",
       "    }\n",
       "\n",
       "    .dataframe tbody tr th {\n",
       "        vertical-align: top;\n",
       "    }\n",
       "\n",
       "    .dataframe thead th {\n",
       "        text-align: right;\n",
       "    }\n",
       "</style>\n",
       "<table border=\"1\" class=\"dataframe\">\n",
       "  <thead>\n",
       "    <tr style=\"text-align: right;\">\n",
       "      <th></th>\n",
       "      <th>TOTAL_SALES</th>\n",
       "      <th>prediction</th>\n",
       "    </tr>\n",
       "    <tr>\n",
       "      <th>YEARWEEK</th>\n",
       "      <th></th>\n",
       "      <th></th>\n",
       "    </tr>\n",
       "  </thead>\n",
       "  <tbody>\n",
       "    <tr>\n",
       "      <th>2021-09-27</th>\n",
       "      <td>835136</td>\n",
       "      <td>NaN</td>\n",
       "    </tr>\n",
       "    <tr>\n",
       "      <th>2021-10-04</th>\n",
       "      <td>4765110</td>\n",
       "      <td>NaN</td>\n",
       "    </tr>\n",
       "    <tr>\n",
       "      <th>2021-10-11</th>\n",
       "      <td>1326006</td>\n",
       "      <td>NaN</td>\n",
       "    </tr>\n",
       "    <tr>\n",
       "      <th>2021-10-18</th>\n",
       "      <td>1013609</td>\n",
       "      <td>NaN</td>\n",
       "    </tr>\n",
       "    <tr>\n",
       "      <th>2021-10-25</th>\n",
       "      <td>1711620</td>\n",
       "      <td>NaN</td>\n",
       "    </tr>\n",
       "    <tr>\n",
       "      <th>2021-11-01</th>\n",
       "      <td>1294929</td>\n",
       "      <td>NaN</td>\n",
       "    </tr>\n",
       "    <tr>\n",
       "      <th>2021-11-08</th>\n",
       "      <td>817435</td>\n",
       "      <td>NaN</td>\n",
       "    </tr>\n",
       "    <tr>\n",
       "      <th>2021-11-15</th>\n",
       "      <td>809694</td>\n",
       "      <td>NaN</td>\n",
       "    </tr>\n",
       "    <tr>\n",
       "      <th>2021-11-22</th>\n",
       "      <td>1054434</td>\n",
       "      <td>NaN</td>\n",
       "    </tr>\n",
       "    <tr>\n",
       "      <th>2021-11-29</th>\n",
       "      <td>1499121</td>\n",
       "      <td>NaN</td>\n",
       "    </tr>\n",
       "  </tbody>\n",
       "</table>\n",
       "</div>"
      ],
      "text/plain": [
       "            TOTAL_SALES  prediction\n",
       "YEARWEEK                           \n",
       "2021-09-27       835136         NaN\n",
       "2021-10-04      4765110         NaN\n",
       "2021-10-11      1326006         NaN\n",
       "2021-10-18      1013609         NaN\n",
       "2021-10-25      1711620         NaN\n",
       "2021-11-01      1294929         NaN\n",
       "2021-11-08       817435         NaN\n",
       "2021-11-15       809694         NaN\n",
       "2021-11-22      1054434         NaN\n",
       "2021-11-29      1499121         NaN"
      ]
     },
     "execution_count": 54,
     "metadata": {},
     "output_type": "execute_result"
    }
   ],
   "source": [
    "test.head(10)"
   ]
  },
  {
   "cell_type": "code",
   "execution_count": 55,
   "metadata": {},
   "outputs": [],
   "source": [
    "# df[['TOTAL_SALES' , 'prediction']].plot(figsize=(12,8))"
   ]
  },
  {
   "cell_type": "code",
   "execution_count": 56,
   "metadata": {},
   "outputs": [
    {
     "data": {
      "text/html": [
       "<div>\n",
       "<style scoped>\n",
       "    .dataframe tbody tr th:only-of-type {\n",
       "        vertical-align: middle;\n",
       "    }\n",
       "\n",
       "    .dataframe tbody tr th {\n",
       "        vertical-align: top;\n",
       "    }\n",
       "\n",
       "    .dataframe thead th {\n",
       "        text-align: right;\n",
       "    }\n",
       "</style>\n",
       "<table border=\"1\" class=\"dataframe\">\n",
       "  <thead>\n",
       "    <tr style=\"text-align: right;\">\n",
       "      <th></th>\n",
       "      <th>TOTAL_SALES</th>\n",
       "    </tr>\n",
       "    <tr>\n",
       "      <th>YEARWEEK</th>\n",
       "      <th></th>\n",
       "    </tr>\n",
       "  </thead>\n",
       "  <tbody>\n",
       "    <tr>\n",
       "      <th>2024-02-19</th>\n",
       "      <td>640202</td>\n",
       "    </tr>\n",
       "    <tr>\n",
       "      <th>2024-02-26</th>\n",
       "      <td>1060437</td>\n",
       "    </tr>\n",
       "    <tr>\n",
       "      <th>2024-03-04</th>\n",
       "      <td>1247705</td>\n",
       "    </tr>\n",
       "    <tr>\n",
       "      <th>2024-03-11</th>\n",
       "      <td>1042492</td>\n",
       "    </tr>\n",
       "    <tr>\n",
       "      <th>2024-03-18</th>\n",
       "      <td>120695</td>\n",
       "    </tr>\n",
       "  </tbody>\n",
       "</table>\n",
       "</div>"
      ],
      "text/plain": [
       "            TOTAL_SALES\n",
       "YEARWEEK               \n",
       "2024-02-19       640202\n",
       "2024-02-26      1060437\n",
       "2024-03-04      1247705\n",
       "2024-03-11      1042492\n",
       "2024-03-18       120695"
      ]
     },
     "execution_count": 56,
     "metadata": {},
     "output_type": "execute_result"
    }
   ],
   "source": [
    "df.tail()"
   ]
  },
  {
   "cell_type": "code",
   "execution_count": 57,
   "metadata": {},
   "outputs": [],
   "source": [
    "def mape(y_true, y_pred):\n",
    "    return np.mean(np.abs((y_true - y_pred) / y_true)) * 100"
   ]
  },
  {
   "cell_type": "code",
   "execution_count": 58,
   "metadata": {},
   "outputs": [
    {
     "name": "stdout",
     "output_type": "stream",
     "text": [
      "MAPE: 128902968483.42688\n"
     ]
    }
   ],
   "source": [
    "mape_value = mape(test['TOTAL_SALES'], forecast)\n",
    "print(\"MAPE:\", mape_value)"
   ]
  },
  {
   "cell_type": "code",
   "execution_count": null,
   "metadata": {},
   "outputs": [],
   "source": []
  }
 ],
 "metadata": {
  "kernelspec": {
   "display_name": ".venv",
   "language": "python",
   "name": "python3"
  },
  "language_info": {
   "codemirror_mode": {
    "name": "ipython",
    "version": 3
   },
   "file_extension": ".py",
   "mimetype": "text/x-python",
   "name": "python",
   "nbconvert_exporter": "python",
   "pygments_lexer": "ipython3",
   "version": "3.9.6"
  }
 },
 "nbformat": 4,
 "nbformat_minor": 2
}
