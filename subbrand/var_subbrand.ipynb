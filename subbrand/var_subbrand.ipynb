{
 "cells": [
  {
   "cell_type": "code",
   "execution_count": 2,
   "metadata": {},
   "outputs": [],
   "source": [
    "from statsmodels.tsa.vector_ar.var_model import VAR\n",
    "import pandas as pd"
   ]
  },
  {
   "cell_type": "code",
   "execution_count": 3,
   "metadata": {},
   "outputs": [],
   "source": [
    "import matplotlib.pyplot as plt"
   ]
  },
  {
   "cell_type": "code",
   "execution_count": 4,
   "metadata": {},
   "outputs": [],
   "source": [
    "df = pd.read_parquet('subbrand_grouped.parquet')"
   ]
  },
  {
   "cell_type": "code",
   "execution_count": 5,
   "metadata": {},
   "outputs": [],
   "source": [
    "df['DATE_FIELD'] = pd.to_datetime(df['DATE_FIELD'])\n",
    "df['YEAR'] = df['DATE_FIELD'].dt.year\n",
    "df['MONTH'] = df['DATE_FIELD'].dt.month\n",
    "df['DAY'] = df['DATE_FIELD'].dt.day"
   ]
  },
  {
   "cell_type": "code",
   "execution_count": 6,
   "metadata": {},
   "outputs": [],
   "source": [
    "min_sales_volume = 1000  \n",
    "min_sales_years = 2     \n",
    "max_zero_sales_percentage = 75"
   ]
  },
  {
   "cell_type": "code",
   "execution_count": 7,
   "metadata": {},
   "outputs": [],
   "source": [
    "relevant_subbrands = []"
   ]
  },
  {
   "cell_type": "code",
   "execution_count": 8,
   "metadata": {},
   "outputs": [],
   "source": [
    "for subbrand, subbrand_data in df.groupby('ITM_SBRND_CD'):\n",
    "    total_sales_volume = subbrand_data['SALES'].sum()\n",
    "    years_with_sales = subbrand_data['YEAR'].nunique()\n",
    "    zero_sales_percentage = (subbrand_data['SALES'] == 0).mean() * 100\n",
    "    \n",
    "    if (total_sales_volume >= min_sales_volume and\n",
    "        years_with_sales >= min_sales_years and\n",
    "        zero_sales_percentage < max_zero_sales_percentage):\n",
    "        relevant_subbrands.append(subbrand)\n"
   ]
  },
  {
   "cell_type": "code",
   "execution_count": 9,
   "metadata": {},
   "outputs": [],
   "source": [
    "df = df[df['ITM_SBRND_CD'].isin(relevant_subbrands)]"
   ]
  },
  {
   "cell_type": "code",
   "execution_count": 10,
   "metadata": {},
   "outputs": [],
   "source": [
    "X = df[['ITM_SBRND_CD', 'YEAR', 'MONTH', 'DAY']]\n",
    "y = df['SALES']"
   ]
  },
  {
   "cell_type": "code",
   "execution_count": 11,
   "metadata": {},
   "outputs": [],
   "source": [
    "from sklearn.model_selection import train_test_split"
   ]
  },
  {
   "cell_type": "code",
   "execution_count": 12,
   "metadata": {},
   "outputs": [],
   "source": [
    "models_var = {}\n",
    "predictions_var = {}"
   ]
  },
  {
   "cell_type": "code",
   "execution_count": 18,
   "metadata": {},
   "outputs": [
    {
     "name": "stderr",
     "output_type": "stream",
     "text": [
      "/Users/harshitgupta/Desktop/vs /VS-Data-Den/.venv/lib/python3.9/site-packages/statsmodels/tsa/base/tsa_model.py:473: ValueWarning: A date index has been provided, but it has no associated frequency information and so will be ignored when e.g. forecasting.\n",
      "  self._init_dates(dates, freq)\n"
     ]
    },
    {
     "ename": "ValueError",
     "evalue": "x contains one or more constant columns. Column(s) 1 are constant. Adding a constant with trend='c' is not allowed.",
     "output_type": "error",
     "traceback": [
      "\u001b[0;31m---------------------------------------------------------------------------\u001b[0m",
      "\u001b[0;31mValueError\u001b[0m                                Traceback (most recent call last)",
      "Cell \u001b[0;32mIn[18], line 13\u001b[0m\n\u001b[1;32m     10\u001b[0m train, test \u001b[38;5;241m=\u001b[39m group_data\u001b[38;5;241m.\u001b[39miloc[:train_size], group_data\u001b[38;5;241m.\u001b[39miloc[train_size:]\n\u001b[1;32m     12\u001b[0m model_var \u001b[38;5;241m=\u001b[39m VAR(train)\n\u001b[0;32m---> 13\u001b[0m model_var_fit \u001b[38;5;241m=\u001b[39m \u001b[43mmodel_var\u001b[49m\u001b[38;5;241;43m.\u001b[39;49m\u001b[43mfit\u001b[49m\u001b[43m(\u001b[49m\u001b[43m)\u001b[49m\n\u001b[1;32m     15\u001b[0m lag_order \u001b[38;5;241m=\u001b[39m model_var_fit\u001b[38;5;241m.\u001b[39mk_ar\n\u001b[1;32m     16\u001b[0m pred \u001b[38;5;241m=\u001b[39m model_var_fit\u001b[38;5;241m.\u001b[39mforecast(train\u001b[38;5;241m.\u001b[39mvalues[\u001b[38;5;241m-\u001b[39mlag_order:], \u001b[38;5;28mlen\u001b[39m(test))\n",
      "File \u001b[0;32m~/Desktop/vs /VS-Data-Den/.venv/lib/python3.9/site-packages/statsmodels/tsa/vector_ar/var_model.py:694\u001b[0m, in \u001b[0;36mVAR.fit\u001b[0;34m(self, maxlags, method, ic, trend, verbose)\u001b[0m\n\u001b[1;32m    686\u001b[0m     \u001b[38;5;28mself\u001b[39m\u001b[38;5;241m.\u001b[39mdata\u001b[38;5;241m.\u001b[39mxnames \u001b[38;5;241m=\u001b[39m (\n\u001b[1;32m    687\u001b[0m         \u001b[38;5;28mself\u001b[39m\u001b[38;5;241m.\u001b[39mdata\u001b[38;5;241m.\u001b[39mxnames[:k_trend]\n\u001b[1;32m    688\u001b[0m         \u001b[38;5;241m+\u001b[39m x_names_to_add\n\u001b[1;32m    689\u001b[0m         \u001b[38;5;241m+\u001b[39m \u001b[38;5;28mself\u001b[39m\u001b[38;5;241m.\u001b[39mdata\u001b[38;5;241m.\u001b[39mxnames[k_trend:]\n\u001b[1;32m    690\u001b[0m     )\n\u001b[1;32m    691\u001b[0m \u001b[38;5;28mself\u001b[39m\u001b[38;5;241m.\u001b[39mdata\u001b[38;5;241m.\u001b[39mcov_names \u001b[38;5;241m=\u001b[39m pd\u001b[38;5;241m.\u001b[39mMultiIndex\u001b[38;5;241m.\u001b[39mfrom_product(\n\u001b[1;32m    692\u001b[0m     (\u001b[38;5;28mself\u001b[39m\u001b[38;5;241m.\u001b[39mdata\u001b[38;5;241m.\u001b[39mxnames, \u001b[38;5;28mself\u001b[39m\u001b[38;5;241m.\u001b[39mdata\u001b[38;5;241m.\u001b[39mynames)\n\u001b[1;32m    693\u001b[0m )\n\u001b[0;32m--> 694\u001b[0m \u001b[38;5;28;01mreturn\u001b[39;00m \u001b[38;5;28;43mself\u001b[39;49m\u001b[38;5;241;43m.\u001b[39;49m\u001b[43m_estimate_var\u001b[49m\u001b[43m(\u001b[49m\u001b[43mlags\u001b[49m\u001b[43m,\u001b[49m\u001b[43m \u001b[49m\u001b[43mtrend\u001b[49m\u001b[38;5;241;43m=\u001b[39;49m\u001b[43mtrend\u001b[49m\u001b[43m)\u001b[49m\n",
      "File \u001b[0;32m~/Desktop/vs /VS-Data-Den/.venv/lib/python3.9/site-packages/statsmodels/tsa/vector_ar/var_model.py:715\u001b[0m, in \u001b[0;36mVAR._estimate_var\u001b[0;34m(self, lags, offset, trend)\u001b[0m\n\u001b[1;32m    713\u001b[0m endog \u001b[38;5;241m=\u001b[39m \u001b[38;5;28mself\u001b[39m\u001b[38;5;241m.\u001b[39mendog[offset:]\n\u001b[1;32m    714\u001b[0m exog \u001b[38;5;241m=\u001b[39m \u001b[38;5;28;01mNone\u001b[39;00m \u001b[38;5;28;01mif\u001b[39;00m \u001b[38;5;28mself\u001b[39m\u001b[38;5;241m.\u001b[39mexog \u001b[38;5;129;01mis\u001b[39;00m \u001b[38;5;28;01mNone\u001b[39;00m \u001b[38;5;28;01melse\u001b[39;00m \u001b[38;5;28mself\u001b[39m\u001b[38;5;241m.\u001b[39mexog[offset:]\n\u001b[0;32m--> 715\u001b[0m z \u001b[38;5;241m=\u001b[39m \u001b[43mutil\u001b[49m\u001b[38;5;241;43m.\u001b[39;49m\u001b[43mget_var_endog\u001b[49m\u001b[43m(\u001b[49m\u001b[43mendog\u001b[49m\u001b[43m,\u001b[49m\u001b[43m \u001b[49m\u001b[43mlags\u001b[49m\u001b[43m,\u001b[49m\u001b[43m \u001b[49m\u001b[43mtrend\u001b[49m\u001b[38;5;241;43m=\u001b[39;49m\u001b[43mtrend\u001b[49m\u001b[43m,\u001b[49m\u001b[43m \u001b[49m\u001b[43mhas_constant\u001b[49m\u001b[38;5;241;43m=\u001b[39;49m\u001b[38;5;124;43m\"\u001b[39;49m\u001b[38;5;124;43mraise\u001b[39;49m\u001b[38;5;124;43m\"\u001b[39;49m\u001b[43m)\u001b[49m\n\u001b[1;32m    716\u001b[0m \u001b[38;5;28;01mif\u001b[39;00m exog \u001b[38;5;129;01mis\u001b[39;00m \u001b[38;5;129;01mnot\u001b[39;00m \u001b[38;5;28;01mNone\u001b[39;00m:\n\u001b[1;32m    717\u001b[0m     \u001b[38;5;66;03m# TODO: currently only deterministic terms supported (exoglags==0)\u001b[39;00m\n\u001b[1;32m    718\u001b[0m     \u001b[38;5;66;03m# and since exoglags==0, x will be an array of size 0.\u001b[39;00m\n\u001b[1;32m    719\u001b[0m     x \u001b[38;5;241m=\u001b[39m util\u001b[38;5;241m.\u001b[39mget_var_endog(\n\u001b[1;32m    720\u001b[0m         exog[\u001b[38;5;241m-\u001b[39mnobs:], \u001b[38;5;241m0\u001b[39m, trend\u001b[38;5;241m=\u001b[39m\u001b[38;5;124m\"\u001b[39m\u001b[38;5;124mn\u001b[39m\u001b[38;5;124m\"\u001b[39m, has_constant\u001b[38;5;241m=\u001b[39m\u001b[38;5;124m\"\u001b[39m\u001b[38;5;124mraise\u001b[39m\u001b[38;5;124m\"\u001b[39m\n\u001b[1;32m    721\u001b[0m     )\n",
      "File \u001b[0;32m~/Desktop/vs /VS-Data-Den/.venv/lib/python3.9/site-packages/statsmodels/tsa/vector_ar/util.py:34\u001b[0m, in \u001b[0;36mget_var_endog\u001b[0;34m(y, lags, trend, has_constant)\u001b[0m\n\u001b[1;32m     32\u001b[0m \u001b[38;5;66;03m# Add constant, trend, etc.\u001b[39;00m\n\u001b[1;32m     33\u001b[0m \u001b[38;5;28;01mif\u001b[39;00m trend \u001b[38;5;241m!=\u001b[39m \u001b[38;5;124m'\u001b[39m\u001b[38;5;124mn\u001b[39m\u001b[38;5;124m'\u001b[39m:\n\u001b[0;32m---> 34\u001b[0m     Z \u001b[38;5;241m=\u001b[39m \u001b[43mtsa\u001b[49m\u001b[38;5;241;43m.\u001b[39;49m\u001b[43madd_trend\u001b[49m\u001b[43m(\u001b[49m\u001b[43mZ\u001b[49m\u001b[43m,\u001b[49m\u001b[43m \u001b[49m\u001b[43mprepend\u001b[49m\u001b[38;5;241;43m=\u001b[39;49m\u001b[38;5;28;43;01mTrue\u001b[39;49;00m\u001b[43m,\u001b[49m\u001b[43m \u001b[49m\u001b[43mtrend\u001b[49m\u001b[38;5;241;43m=\u001b[39;49m\u001b[43mtrend\u001b[49m\u001b[43m,\u001b[49m\n\u001b[1;32m     35\u001b[0m \u001b[43m                      \u001b[49m\u001b[43mhas_constant\u001b[49m\u001b[38;5;241;43m=\u001b[39;49m\u001b[43mhas_constant\u001b[49m\u001b[43m)\u001b[49m\n\u001b[1;32m     37\u001b[0m \u001b[38;5;28;01mreturn\u001b[39;00m Z\n",
      "File \u001b[0;32m~/Desktop/vs /VS-Data-Den/.venv/lib/python3.9/site-packages/statsmodels/tsa/tsatools.py:153\u001b[0m, in \u001b[0;36madd_trend\u001b[0;34m(x, trend, prepend, has_constant)\u001b[0m\n\u001b[1;32m    148\u001b[0m         base_err \u001b[38;5;241m=\u001b[39m (\n\u001b[1;32m    149\u001b[0m             \u001b[38;5;124m\"\u001b[39m\u001b[38;5;124mx contains one or more constant columns. Column(s) \u001b[39m\u001b[38;5;124m\"\u001b[39m\n\u001b[1;32m    150\u001b[0m             \u001b[38;5;124mf\u001b[39m\u001b[38;5;124m\"\u001b[39m\u001b[38;5;132;01m{\u001b[39;00mconst_cols\u001b[38;5;132;01m}\u001b[39;00m\u001b[38;5;124m are constant.\u001b[39m\u001b[38;5;124m\"\u001b[39m\n\u001b[1;32m    151\u001b[0m         )\n\u001b[1;32m    152\u001b[0m     msg \u001b[38;5;241m=\u001b[39m \u001b[38;5;124mf\u001b[39m\u001b[38;5;124m\"\u001b[39m\u001b[38;5;132;01m{\u001b[39;00mbase_err\u001b[38;5;132;01m}\u001b[39;00m\u001b[38;5;124m Adding a constant with trend=\u001b[39m\u001b[38;5;124m'\u001b[39m\u001b[38;5;132;01m{\u001b[39;00mtrend\u001b[38;5;132;01m}\u001b[39;00m\u001b[38;5;124m'\u001b[39m\u001b[38;5;124m is not allowed.\u001b[39m\u001b[38;5;124m\"\u001b[39m\n\u001b[0;32m--> 153\u001b[0m     \u001b[38;5;28;01mraise\u001b[39;00m \u001b[38;5;167;01mValueError\u001b[39;00m(msg)\n\u001b[1;32m    154\u001b[0m \u001b[38;5;28;01melif\u001b[39;00m has_constant \u001b[38;5;241m==\u001b[39m \u001b[38;5;124m\"\u001b[39m\u001b[38;5;124mskip\u001b[39m\u001b[38;5;124m\"\u001b[39m:\n\u001b[1;32m    155\u001b[0m     columns \u001b[38;5;241m=\u001b[39m columns[\u001b[38;5;241m1\u001b[39m:]\n",
      "\u001b[0;31mValueError\u001b[0m: x contains one or more constant columns. Column(s) 1 are constant. Adding a constant with trend='c' is not allowed."
     ]
    }
   ],
   "source": [
    "for group_name, group_data in df.groupby('ITM_SBRND_CD'):\n",
    "    # Skip groups with fewer than 2 samples\n",
    "    if len(group_data) < 2:\n",
    "        continue\n",
    "\n",
    "    \n",
    "    group_data = group_data[['DATE_FIELD', 'SALES' , 'ITM_SBRND_CD']].set_index('DATE_FIELD')\n",
    "\n",
    "    train_size = int(0.8 * len(group_data))\n",
    "    train, test = group_data.iloc[:train_size], group_data.iloc[train_size:]\n",
    "\n",
    "    model_var = VAR(train)\n",
    "    model_var_fit = model_var.fit()\n",
    "\n",
    "    lag_order = model_var_fit.k_ar\n",
    "    pred = model_var_fit.forecast(train.values[-lag_order:], len(test))\n",
    "\n",
    "    models_var[group_name] = model_var_fit\n",
    "    predictions_var[group_name] = {'Actual': test['SALES'].values, 'Predicted': pred[:, 0]}\n",
    "\n",
    "    plt.figure(figsize=(12, 6))\n",
    "    plt.plot(test.index, test['SALES'], label='Actual')\n",
    "    plt.plot(test.index, pred[:, 0], label='Predicted')\n",
    "    plt.title(f'SUBBRND_CODE: {group_name}')\n",
    "    plt.xlabel('Date')\n",
    "    plt.ylabel('Sales')\n",
    "    plt.xticks(rotation=45)\n",
    "    plt.legend()\n",
    "    plt.show()"
   ]
  },
  {
   "cell_type": "code",
   "execution_count": null,
   "metadata": {},
   "outputs": [],
   "source": []
  }
 ],
 "metadata": {
  "kernelspec": {
   "display_name": ".venv",
   "language": "python",
   "name": "python3"
  },
  "language_info": {
   "codemirror_mode": {
    "name": "ipython",
    "version": 3
   },
   "file_extension": ".py",
   "mimetype": "text/x-python",
   "name": "python",
   "nbconvert_exporter": "python",
   "pygments_lexer": "ipython3",
   "version": "3.9.6"
  }
 },
 "nbformat": 4,
 "nbformat_minor": 2
}
