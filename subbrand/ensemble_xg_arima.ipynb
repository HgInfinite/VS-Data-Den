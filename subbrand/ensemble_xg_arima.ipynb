{
 "cells": [
  {
   "cell_type": "code",
   "execution_count": 13,
   "metadata": {},
   "outputs": [],
   "source": [
    "from statsmodels.tsa.arima.model import ARIMA\n",
    "from xgboost import XGBRegressor\n",
    "from sklearn.metrics import mean_squared_error , r2_score\n",
    "import numpy as np"
   ]
  },
  {
   "cell_type": "code",
   "execution_count": 14,
   "metadata": {},
   "outputs": [],
   "source": [
    "import pandas as pd"
   ]
  },
  {
   "cell_type": "code",
   "execution_count": 15,
   "metadata": {},
   "outputs": [],
   "source": [
    "df = pd.read_parquet('subbrand_grouped.parquet')"
   ]
  },
  {
   "cell_type": "code",
   "execution_count": 16,
   "metadata": {},
   "outputs": [],
   "source": [
    "df['DATE_FIELD'] = pd.to_datetime(df['DATE_FIELD'])\n",
    "df['YEAR'] = df['DATE_FIELD'].dt.year\n",
    "df['MONTH'] = df['DATE_FIELD'].dt.month\n",
    "df['DAY'] = df['DATE_FIELD'].dt.day"
   ]
  },
  {
   "cell_type": "code",
   "execution_count": 17,
   "metadata": {},
   "outputs": [],
   "source": [
    "min_sales_volume = 1000  \n",
    "min_sales_years = 2     \n",
    "max_zero_sales_percentage = 75"
   ]
  },
  {
   "cell_type": "code",
   "execution_count": 18,
   "metadata": {},
   "outputs": [],
   "source": [
    "relevant_subbrands = []"
   ]
  },
  {
   "cell_type": "code",
   "execution_count": 19,
   "metadata": {},
   "outputs": [],
   "source": [
    "for subbrand, subbrand_data in df.groupby('ITM_SBRND_CD'):\n",
    "    total_sales_volume = subbrand_data['SALES'].sum()\n",
    "    years_with_sales = subbrand_data['YEAR'].nunique()\n",
    "    zero_sales_percentage = (subbrand_data['SALES'] == 0).mean() * 100\n",
    "    \n",
    "    if (total_sales_volume >= min_sales_volume and\n",
    "        years_with_sales >= min_sales_years and\n",
    "        zero_sales_percentage < max_zero_sales_percentage):\n",
    "        relevant_subbrands.append(subbrand)\n"
   ]
  },
  {
   "cell_type": "code",
   "execution_count": 20,
   "metadata": {},
   "outputs": [],
   "source": [
    "df = df[df['ITM_SBRND_CD'].isin(relevant_subbrands)]"
   ]
  },
  {
   "cell_type": "code",
   "execution_count": 21,
   "metadata": {},
   "outputs": [],
   "source": [
    "X = df[['ITM_SBRND_CD', 'YEAR', 'MONTH', 'DAY']]\n",
    "y = df['SALES']"
   ]
  },
  {
   "cell_type": "code",
   "execution_count": 22,
   "metadata": {},
   "outputs": [],
   "source": [
    "from sklearn.model_selection import train_test_split"
   ]
  },
  {
   "cell_type": "code",
   "execution_count": 23,
   "metadata": {},
   "outputs": [],
   "source": [
    "models_arima = {}\n",
    "models_xgboost = {}\n",
    "predictions_arima = {}\n",
    "predictions_xgboost = {}\n",
    "evaluation_metrics_arima = {}\n",
    "evaluation_metrics_xgboost = {}"
   ]
  },
  {
   "cell_type": "code",
   "execution_count": 24,
   "metadata": {},
   "outputs": [],
   "source": [
    "import matplotlib.pyplot as plt"
   ]
  },
  {
   "cell_type": "code",
   "execution_count": 26,
   "metadata": {},
   "outputs": [
    {
     "name": "stderr",
     "output_type": "stream",
     "text": [
      "/Users/harshitgupta/Desktop/vs /VS-Data-Den/.venv/lib/python3.9/site-packages/statsmodels/tsa/base/tsa_model.py:473: ValueWarning: A date index has been provided, but it has no associated frequency information and so will be ignored when e.g. forecasting.\n",
      "  self._init_dates(dates, freq)\n",
      "/Users/harshitgupta/Desktop/vs /VS-Data-Den/.venv/lib/python3.9/site-packages/statsmodels/tsa/base/tsa_model.py:473: ValueWarning: A date index has been provided, but it has no associated frequency information and so will be ignored when e.g. forecasting.\n",
      "  self._init_dates(dates, freq)\n",
      "/Users/harshitgupta/Desktop/vs /VS-Data-Den/.venv/lib/python3.9/site-packages/statsmodels/tsa/base/tsa_model.py:473: ValueWarning: A date index has been provided, but it has no associated frequency information and so will be ignored when e.g. forecasting.\n",
      "  self._init_dates(dates, freq)\n",
      "/Users/harshitgupta/Desktop/vs /VS-Data-Den/.venv/lib/python3.9/site-packages/statsmodels/tsa/base/tsa_model.py:836: ValueWarning: No supported index is available. Prediction results will be given with an integer index beginning at `start`.\n",
      "  return get_prediction_index(\n",
      "/Users/harshitgupta/Desktop/vs /VS-Data-Den/.venv/lib/python3.9/site-packages/statsmodels/tsa/base/tsa_model.py:836: FutureWarning: No supported index is available. In the next version, calling this method in a model without a supported index will result in an exception.\n",
      "  return get_prediction_index(\n"
     ]
    },
    {
     "ename": "InvalidParameterError",
     "evalue": "The 'y_pred' parameter of mean_squared_error must be an array-like. Got 34561.11404396663 instead.",
     "output_type": "error",
     "traceback": [
      "\u001b[0;31m---------------------------------------------------------------------------\u001b[0m",
      "\u001b[0;31mInvalidParameterError\u001b[0m                     Traceback (most recent call last)",
      "Cell \u001b[0;32mIn[26], line 39\u001b[0m\n\u001b[1;32m     35\u001b[0m models_xgboost[group_name] \u001b[38;5;241m=\u001b[39m model_xgboost\n\u001b[1;32m     36\u001b[0m predictions_xgboost[group_name] \u001b[38;5;241m=\u001b[39m {\u001b[38;5;124m'\u001b[39m\u001b[38;5;124mActual\u001b[39m\u001b[38;5;124m'\u001b[39m: test\u001b[38;5;241m.\u001b[39mvalues\u001b[38;5;241m.\u001b[39mflatten(), \u001b[38;5;124m'\u001b[39m\u001b[38;5;124mPredicted\u001b[39m\u001b[38;5;124m'\u001b[39m: pred_xgboost}\n\u001b[0;32m---> 39\u001b[0m mse_arima \u001b[38;5;241m=\u001b[39m \u001b[43mmean_squared_error\u001b[49m\u001b[43m(\u001b[49m\u001b[43mtest\u001b[49m\u001b[43m,\u001b[49m\u001b[43m \u001b[49m\u001b[43mpred_arima\u001b[49m\u001b[43m)\u001b[49m\n\u001b[1;32m     40\u001b[0m rmse_arima \u001b[38;5;241m=\u001b[39m np\u001b[38;5;241m.\u001b[39msqrt(mse_arima)\n\u001b[1;32m     41\u001b[0m r2_arima \u001b[38;5;241m=\u001b[39m r2_score(test, pred_arima)\n",
      "File \u001b[0;32m~/Desktop/vs /VS-Data-Den/.venv/lib/python3.9/site-packages/sklearn/utils/_param_validation.py:203\u001b[0m, in \u001b[0;36mvalidate_params.<locals>.decorator.<locals>.wrapper\u001b[0;34m(*args, **kwargs)\u001b[0m\n\u001b[1;32m    200\u001b[0m to_ignore \u001b[38;5;241m+\u001b[39m\u001b[38;5;241m=\u001b[39m [\u001b[38;5;124m\"\u001b[39m\u001b[38;5;124mself\u001b[39m\u001b[38;5;124m\"\u001b[39m, \u001b[38;5;124m\"\u001b[39m\u001b[38;5;124mcls\u001b[39m\u001b[38;5;124m\"\u001b[39m]\n\u001b[1;32m    201\u001b[0m params \u001b[38;5;241m=\u001b[39m {k: v \u001b[38;5;28;01mfor\u001b[39;00m k, v \u001b[38;5;129;01min\u001b[39;00m params\u001b[38;5;241m.\u001b[39marguments\u001b[38;5;241m.\u001b[39mitems() \u001b[38;5;28;01mif\u001b[39;00m k \u001b[38;5;129;01mnot\u001b[39;00m \u001b[38;5;129;01min\u001b[39;00m to_ignore}\n\u001b[0;32m--> 203\u001b[0m \u001b[43mvalidate_parameter_constraints\u001b[49m\u001b[43m(\u001b[49m\n\u001b[1;32m    204\u001b[0m \u001b[43m    \u001b[49m\u001b[43mparameter_constraints\u001b[49m\u001b[43m,\u001b[49m\u001b[43m \u001b[49m\u001b[43mparams\u001b[49m\u001b[43m,\u001b[49m\u001b[43m \u001b[49m\u001b[43mcaller_name\u001b[49m\u001b[38;5;241;43m=\u001b[39;49m\u001b[43mfunc\u001b[49m\u001b[38;5;241;43m.\u001b[39;49m\u001b[38;5;18;43m__qualname__\u001b[39;49m\n\u001b[1;32m    205\u001b[0m \u001b[43m\u001b[49m\u001b[43m)\u001b[49m\n\u001b[1;32m    207\u001b[0m \u001b[38;5;28;01mtry\u001b[39;00m:\n\u001b[1;32m    208\u001b[0m     \u001b[38;5;28;01mwith\u001b[39;00m config_context(\n\u001b[1;32m    209\u001b[0m         skip_parameter_validation\u001b[38;5;241m=\u001b[39m(\n\u001b[1;32m    210\u001b[0m             prefer_skip_nested_validation \u001b[38;5;129;01mor\u001b[39;00m global_skip_validation\n\u001b[1;32m    211\u001b[0m         )\n\u001b[1;32m    212\u001b[0m     ):\n",
      "File \u001b[0;32m~/Desktop/vs /VS-Data-Den/.venv/lib/python3.9/site-packages/sklearn/utils/_param_validation.py:95\u001b[0m, in \u001b[0;36mvalidate_parameter_constraints\u001b[0;34m(parameter_constraints, params, caller_name)\u001b[0m\n\u001b[1;32m     89\u001b[0m \u001b[38;5;28;01melse\u001b[39;00m:\n\u001b[1;32m     90\u001b[0m     constraints_str \u001b[38;5;241m=\u001b[39m (\n\u001b[1;32m     91\u001b[0m         \u001b[38;5;124mf\u001b[39m\u001b[38;5;124m\"\u001b[39m\u001b[38;5;132;01m{\u001b[39;00m\u001b[38;5;124m'\u001b[39m\u001b[38;5;124m, \u001b[39m\u001b[38;5;124m'\u001b[39m\u001b[38;5;241m.\u001b[39mjoin([\u001b[38;5;28mstr\u001b[39m(c)\u001b[38;5;250m \u001b[39m\u001b[38;5;28;01mfor\u001b[39;00m\u001b[38;5;250m \u001b[39mc\u001b[38;5;250m \u001b[39m\u001b[38;5;129;01min\u001b[39;00m\u001b[38;5;250m \u001b[39mconstraints[:\u001b[38;5;241m-\u001b[39m\u001b[38;5;241m1\u001b[39m]])\u001b[38;5;132;01m}\u001b[39;00m\u001b[38;5;124m or\u001b[39m\u001b[38;5;124m\"\u001b[39m\n\u001b[1;32m     92\u001b[0m         \u001b[38;5;124mf\u001b[39m\u001b[38;5;124m\"\u001b[39m\u001b[38;5;124m \u001b[39m\u001b[38;5;132;01m{\u001b[39;00mconstraints[\u001b[38;5;241m-\u001b[39m\u001b[38;5;241m1\u001b[39m]\u001b[38;5;132;01m}\u001b[39;00m\u001b[38;5;124m\"\u001b[39m\n\u001b[1;32m     93\u001b[0m     )\n\u001b[0;32m---> 95\u001b[0m \u001b[38;5;28;01mraise\u001b[39;00m InvalidParameterError(\n\u001b[1;32m     96\u001b[0m     \u001b[38;5;124mf\u001b[39m\u001b[38;5;124m\"\u001b[39m\u001b[38;5;124mThe \u001b[39m\u001b[38;5;132;01m{\u001b[39;00mparam_name\u001b[38;5;132;01m!r}\u001b[39;00m\u001b[38;5;124m parameter of \u001b[39m\u001b[38;5;132;01m{\u001b[39;00mcaller_name\u001b[38;5;132;01m}\u001b[39;00m\u001b[38;5;124m must be\u001b[39m\u001b[38;5;124m\"\u001b[39m\n\u001b[1;32m     97\u001b[0m     \u001b[38;5;124mf\u001b[39m\u001b[38;5;124m\"\u001b[39m\u001b[38;5;124m \u001b[39m\u001b[38;5;132;01m{\u001b[39;00mconstraints_str\u001b[38;5;132;01m}\u001b[39;00m\u001b[38;5;124m. Got \u001b[39m\u001b[38;5;132;01m{\u001b[39;00mparam_val\u001b[38;5;132;01m!r}\u001b[39;00m\u001b[38;5;124m instead.\u001b[39m\u001b[38;5;124m\"\u001b[39m\n\u001b[1;32m     98\u001b[0m )\n",
      "\u001b[0;31mInvalidParameterError\u001b[0m: The 'y_pred' parameter of mean_squared_error must be an array-like. Got 34561.11404396663 instead."
     ]
    }
   ],
   "source": [
    "for group_name, group_data in df.groupby('ITM_SBRND_CD'):\n",
    "    # Skip groups with fewer than 2 samples\n",
    "    if len(group_data) < 2:\n",
    "        continue\n",
    "\n",
    "\n",
    "    group_data = group_data[['DATE_FIELD', 'SALES']]\n",
    "    group_data.set_index('DATE_FIELD', inplace=True)\n",
    "\n",
    "\n",
    "    train_size = int(0.8 * len(group_data))\n",
    "    train, test = group_data.iloc[:train_size], group_data.iloc[train_size:]\n",
    "\n",
    "\n",
    "    model_arima = ARIMA(train, order=(5, 1, 0))  # Example order, you may need to adjust\n",
    "    model_arima_fit = model_arima.fit()\n",
    "\n",
    "\n",
    "    pred_arima = model_arima_fit.forecast(steps=len(test)).values\n",
    "    pred_arima = pred_arima[0]\n",
    "\n",
    "\n",
    "    models_arima[group_name] = model_arima_fit\n",
    "    predictions_arima[group_name] = {'Actual': test.values.flatten(), 'Predicted': pred_arima}\n",
    "\n",
    "\n",
    "    model_xgboost = XGBRegressor(n_estimators=100, objective='reg:squarederror')  # Example parameters, you may need to adjust\n",
    "    model_xgboost.fit(np.arange(len(train)).reshape(-1, 1), train.values.flatten())\n",
    "\n",
    "\n",
    "    pred_xgboost = model_xgboost.predict(np.arange(len(train), len(train) + len(test)).reshape(-1, 1))\n",
    "\n",
    "    models_xgboost[group_name] = model_xgboost\n",
    "    predictions_xgboost[group_name] = {'Actual': test.values.flatten(), 'Predicted': pred_xgboost}\n",
    "\n",
    "   \n",
    "    mse_arima = mean_squared_error(test, pred_arima)\n",
    "    rmse_arima = np.sqrt(mse_arima)\n",
    "    r2_arima = r2_score(test, pred_arima)\n",
    "    smape_arima = 100 * np.mean(2 * np.abs(pred_arima - test) / (np.abs(pred_arima) + np.abs(test)))\n",
    "\n",
    "    evaluation_metrics_arima[group_name] = {'RMSE': rmse_arima, 'R2': r2_arima, 'SMAPE': smape_arima}\n",
    "\n",
    "    mse_xgboost = mean_squared_error(test, pred_xgboost)\n",
    "    rmse_xgboost = np.sqrt(mse_xgboost)\n",
    "    r2_xgboost = r2_score(test, pred_xgboost)\n",
    "    smape_xgboost = 100 * np.mean(2 * np.abs(pred_xgboost - test) / (np.abs(pred_xgboost) + np.abs(test)))\n",
    "\n",
    "    evaluation_metrics_xgboost[group_name] = {'RMSE': rmse_xgboost, 'R2': r2_xgboost, 'SMAPE': smape_xgboost}\n",
    "\n",
    "    print(f'SUBBRND_CODE: {group_name} - ARIMA - RMSE: {rmse_arima:.2f}, R2: {r2_arima:.4f}, SMAPE: {smape_arima:.2f}')\n",
    "    print(f'SUBBRND_CODE: {group_name} - XGBoost - RMSE: {rmse_xgboost:.2f}, R2: {r2_xgboost:.4f}, SMAPE: {smape_xgboost:.2f}')\n"
   ]
  },
  {
   "cell_type": "code",
   "execution_count": null,
   "metadata": {},
   "outputs": [],
   "source": [
    "}"
   ]
  }
 ],
 "metadata": {
  "kernelspec": {
   "display_name": ".venv",
   "language": "python",
   "name": "python3"
  },
  "language_info": {
   "codemirror_mode": {
    "name": "ipython",
    "version": 3
   },
   "file_extension": ".py",
   "mimetype": "text/x-python",
   "name": "python",
   "nbconvert_exporter": "python",
   "pygments_lexer": "ipython3",
   "version": "3.9.6"
  }
 },
 "nbformat": 4,
 "nbformat_minor": 2
}
