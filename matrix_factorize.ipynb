{
 "cells": [
  {
   "cell_type": "code",
   "execution_count": 6,
   "metadata": {},
   "outputs": [],
   "source": [
    "import numpy as np\n",
    "import tensorly as tl\n",
    "from tensorly.decomposition import parafac\n",
    "from scipy.sparse import csr_matrix\n"
   ]
  },
  {
   "cell_type": "code",
   "execution_count": 7,
   "metadata": {},
   "outputs": [],
   "source": [
    "sales_matrix = np.load('sales_matrices_with_global_sum.npy', allow_pickle=True).item()"
   ]
  },
  {
   "cell_type": "code",
   "execution_count": 9,
   "metadata": {},
   "outputs": [
    {
     "ename": "AttributeError",
     "evalue": "'dict' object has no attribute 'astype'",
     "output_type": "error",
     "traceback": [
      "\u001b[0;31m---------------------------------------------------------------------------\u001b[0m",
      "\u001b[0;31mAttributeError\u001b[0m                            Traceback (most recent call last)",
      "Cell \u001b[0;32mIn[9], line 1\u001b[0m\n\u001b[0;32m----> 1\u001b[0m sales_matrix \u001b[38;5;241m=\u001b[39m \u001b[43msales_matrix\u001b[49m\u001b[38;5;241;43m.\u001b[39;49m\u001b[43mastype\u001b[49m(\u001b[38;5;28mfloat\u001b[39m)\n\u001b[1;32m      4\u001b[0m sparse_sales_tensor \u001b[38;5;241m=\u001b[39m csr_matrix(sales_matrix)\n\u001b[1;32m      7\u001b[0m rank \u001b[38;5;241m=\u001b[39m \u001b[38;5;241m10\u001b[39m\n",
      "\u001b[0;31mAttributeError\u001b[0m: 'dict' object has no attribute 'astype'"
     ]
    }
   ],
   "source": [
    "sales_matrix = sales_matrix.astype(float)\n",
    "\n",
    "\n",
    "sparse_sales_tensor = csr_matrix(sales_matrix)\n",
    "\n",
    "\n",
    "rank = 10\n",
    "factor_matrices = parafac(sparse_sales_tensor, rank=rank, normalize_factors=True)\n",
    "\n",
    "article_factors, region_factors, week_factors = factor_matrices"
   ]
  },
  {
   "cell_type": "code",
   "execution_count": null,
   "metadata": {},
   "outputs": [],
   "source": [
    "\n",
    "\n",
    "print(\"Factor Matrix for Articles (Shape: {}):\".format(article_factors.shape))\n",
    "print(article_factors)\n",
    "print(\"\\nFactor Matrix for Regions (Shape: {}):\".format(region_factors.shape))\n",
    "print(region_factors)\n",
    "print(\"\\nFactor Matrix for Weeks (Shape: {}):\".format(week_factors.shape))\n",
    "print(week_factors)\n"
   ]
  },
  {
   "cell_type": "code",
   "execution_count": null,
   "metadata": {},
   "outputs": [],
   "source": []
  }
 ],
 "metadata": {
  "kernelspec": {
   "display_name": "Python 3",
   "language": "python",
   "name": "python3"
  },
  "language_info": {
   "codemirror_mode": {
    "name": "ipython",
    "version": 3
   },
   "file_extension": ".py",
   "mimetype": "text/x-python",
   "name": "python",
   "nbconvert_exporter": "python",
   "pygments_lexer": "ipython3",
   "version": "3.12.2"
  }
 },
 "nbformat": 4,
 "nbformat_minor": 2
}
